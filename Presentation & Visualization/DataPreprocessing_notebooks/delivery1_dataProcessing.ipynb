{
 "cells": [
  {
   "cell_type": "code",
   "execution_count": 1,
   "id": "4f962330",
   "metadata": {},
   "outputs": [],
   "source": [
    "import pandas as pd\n",
    "data1 = pd.read_csv('epidemiology.csv')\n"
   ]
  },
  {
   "cell_type": "code",
   "execution_count": 2,
   "id": "62e763c0",
   "metadata": {},
   "outputs": [
    {
     "name": "stdout",
     "output_type": "stream",
     "text": [
      "['ES_AN', 'ES_AR', 'ES_AS', 'ES_CB', 'ES_CE', 'ES_CL', 'ES_CM', 'ES_CN', 'ES_CT', 'ES_EX', 'ES_GA', 'ES_IB', 'ES_MC', 'ES_MD', 'ES_ML', 'ES_NC', 'ES_PV', 'ES_RI', 'ES_VC', 'ES']\n"
     ]
    }
   ],
   "source": [
    "locations = pd.unique(data1['location_key'])\n",
    "comunitats = []\n",
    "for loc in locations:\n",
    "    if type(loc)==str:\n",
    "        if loc[0]== 'E' and loc[1]=='S' and len(loc)==5:\n",
    "            comunitats.append(loc)\n",
    "\n",
    "comunitats.append('ES')\n",
    "print(comunitats)"
   ]
  },
  {
   "cell_type": "code",
   "execution_count": 3,
   "id": "a8757f90",
   "metadata": {},
   "outputs": [],
   "source": [
    "data1_ccaa = pd.DataFrame(columns = data1.columns)\n",
    "for comunitat in comunitats:\n",
    "    data1_ccaa = pd.concat([data1_ccaa, data1[data1['location_key']== comunitat ]])\n",
    "\n"
   ]
  },
  {
   "cell_type": "code",
   "execution_count": 4,
   "id": "309fee7e",
   "metadata": {},
   "outputs": [],
   "source": [
    "data2 = pd.read_csv(\"vaccinations.csv\")\n",
    "data2_ccaa = pd.DataFrame(columns = data2.columns)\n",
    "for comunitat in comunitats:\n",
    "    data2_ccaa = pd.concat([data2_ccaa, data2[data2['location_key']== comunitat ]])\n"
   ]
  },
  {
   "cell_type": "code",
   "execution_count": 5,
   "id": "963f45fa",
   "metadata": {},
   "outputs": [],
   "source": [
    "data3 = pd.read_csv('hospitalizations.csv')\n",
    "data3_ccaa = pd.DataFrame(columns = data3.columns)\n",
    "for comunitat in comunitats:\n",
    "    data3_ccaa = pd.concat([data3_ccaa, data3[data3['location_key']== comunitat ]])\n"
   ]
  },
  {
   "cell_type": "code",
   "execution_count": 7,
   "id": "b4fb8725",
   "metadata": {},
   "outputs": [],
   "source": [
    "data_newCases = data1_ccaa[['date', 'location_key', 'new_confirmed','new_deceased']]\n",
    "data_vacci = data2_ccaa[['date', 'location_key', 'new_persons_vaccinated', 'new_persons_fully_vaccinated']]\n",
    "data_hospi = data3_ccaa[['date', 'location_key', 'new_hospitalized_patients']]"
   ]
  },
  {
   "cell_type": "code",
   "execution_count": 8,
   "id": "5771a12f",
   "metadata": {},
   "outputs": [],
   "source": [
    "df = pd.merge(data_newCases, data_vacci, on = ['date', 'location_key'], how='left')"
   ]
  },
  {
   "cell_type": "code",
   "execution_count": 9,
   "id": "7c860746",
   "metadata": {},
   "outputs": [],
   "source": [
    "df2 = pd.merge(df, data_hospi, on = ['date', 'location_key'], how='left')"
   ]
  },
  {
   "cell_type": "code",
   "execution_count": 10,
   "id": "4e46870d",
   "metadata": {},
   "outputs": [],
   "source": [
    "df3 = df2.fillna(0)"
   ]
  },
  {
   "cell_type": "code",
   "execution_count": 11,
   "id": "3b3c19bc",
   "metadata": {},
   "outputs": [],
   "source": [
    "df3.to_csv('epidem.csv')"
   ]
  },
  {
   "cell_type": "code",
   "execution_count": null,
   "id": "a54d991a",
   "metadata": {},
   "outputs": [],
   "source": []
  }
 ],
 "metadata": {
  "kernelspec": {
   "display_name": "Python 3 (ipykernel)",
   "language": "python",
   "name": "python3"
  },
  "language_info": {
   "codemirror_mode": {
    "name": "ipython",
    "version": 3
   },
   "file_extension": ".py",
   "mimetype": "text/x-python",
   "name": "python",
   "nbconvert_exporter": "python",
   "pygments_lexer": "ipython3",
   "version": "3.9.7"
  }
 },
 "nbformat": 4,
 "nbformat_minor": 5
}
