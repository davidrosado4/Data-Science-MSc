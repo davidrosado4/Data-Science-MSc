{
  "nbformat": 4,
  "nbformat_minor": 0,
  "metadata": {
    "colab": {
      "provenance": []
    },
    "kernelspec": {
      "name": "python3",
      "display_name": "Python 3"
    },
    "language_info": {
      "name": "python"
    }
  },
  "cells": [
    {
      "cell_type": "code",
      "execution_count": null,
      "metadata": {
        "id": "3eMAkgs0Y7kS"
      },
      "outputs": [],
      "source": [
        "import numpy as np\n",
        "from math import exp as e"
      ]
    },
    {
      "cell_type": "markdown",
      "source": [
        "Flàvia Ferrús and David Rosado.\n"
      ],
      "metadata": {
        "id": "gvX7jhRHZ7fh"
      }
    },
    {
      "cell_type": "markdown",
      "source": [
        "##Proposed experiments"
      ],
      "metadata": {
        "id": "MWY34MBZaogK"
      }
    },
    {
      "cell_type": "markdown",
      "source": [
        "### Experiment 1"
      ],
      "metadata": {
        "id": "1_mfmkCNbFeM"
      }
    },
    {
      "cell_type": "markdown",
      "source": [
        "Let us implement the Sequential Quadratic Optimization (SQO) method by applying $\\alpha^k=1$ and iteratively update the current point to obtain the next. Let us start by define the functions that we need. Remember that the Lagrangian is given by\n",
        "\n",
        "\\begin{align*}\n",
        "\\mathcal{L}(\\textbf{x}, \\lambda) = f(\\textbf{x}) - \\lambda h(\\textbf{x}),\\hspace{0.5cm}\\textbf{x}\\in\\mathbb{R}^n.\n",
        "\\end{align*}\n",
        "\n",
        "In our case, $n=2$ and $f(x,y)=e^{3x} + e^{-4y}$ and $h(x,y)=x^2+y^2-1$."
      ],
      "metadata": {
        "id": "UH2j9n4gba6s"
      }
    },
    {
      "cell_type": "code",
      "source": [
        "#Definitions of the functions\n",
        "def f(x,y):\n",
        "  return e(3*x) + e(-4*y)\n",
        "def h(x,y):\n",
        "  return x**2 + y**2 -1\n",
        "def grad_f(x,y):\n",
        "  return np.array([3*e(3*x), -4*e(-4*y)])\n",
        "def grad_h(x,y):\n",
        "  return np.array([2*x, 2*y])\n",
        "def hessian_f(x,y):\n",
        "  H = np.zeros((2,2))\n",
        "  H[0,0] = 9*e(3*x)\n",
        "  H[1,0] = 0\n",
        "  H[0,1] = 0\n",
        "  H[1,1] = 16*e(-4*y)\n",
        "  return H\n",
        "def hessian_h(x,y):\n",
        "  H = np.zeros((2,2))\n",
        "  H[0,0] = 2\n",
        "  H[1,0] = 0\n",
        "  H[0,1] = 0\n",
        "  H[1,1] = 2\n",
        "  return H\n",
        "def lagran(x,y,lanbda):\n",
        "  return f(x,y) - lanbda*h(x,y)\n",
        "def lagran_gradx(x,y,lanbda):\n",
        "  return grad_f(x,y) - lanbda*grad_h(x,y)\n",
        "def lagran_hessianx(x,y,lanbda):\n",
        "  return hessian_f(x,y) - lanbda*hessian_h(x,y)"
      ],
      "metadata": {
        "id": "cNS0bm_fff8y"
      },
      "execution_count": null,
      "outputs": []
    },
    {
      "cell_type": "markdown",
      "source": [
        "Let us implement the SQO algorithm with Newton's method to solve\n",
        "\\begin{cases}\n",
        "\\text{min}\\hspace{0.2cm}f(x,y)\\\\\n",
        "\\text{subject to}\\hspace{0.2cm} h(x,y)=0\n",
        "\\end{cases}\n",
        "where $f$ and $h$ are defined in the previous cell."
      ],
      "metadata": {
        "id": "vFTWDpbJhb6_"
      }
    },
    {
      "cell_type": "code",
      "source": [
        "#Function that implements the SQO with Newton's method\n",
        "def Newton_algorithm(x0,y0,lanbda_0,alpha,max_iter,tol):\n",
        "  for i in range(0,max_iter):\n",
        "    #Build the matrix A to solve Ax=b\n",
        "    A = np.zeros((3,3))\n",
        "    for k in range(0,2):\n",
        "      for j in range(0,2):\n",
        "        A[k,j] = lagran_hessianx(x0,y0,lanbda_0)[k,j]\n",
        "    for k in range(0,2):\n",
        "      A[2,k] = -grad_h(x0,y0)[k]\n",
        "      A[k,2] = -grad_h(x0,y0)[k]\n",
        "   #Build the vector b\n",
        "    b = np.zeros(3)\n",
        "    for k in range(0,2):\n",
        "      b[k] = -lagran_gradx(x0,y0,lanbda_0)[k]\n",
        "    b[2] = h(x0,y0)\n",
        "    #Solve the system using the python solve\n",
        "    delta = np.linalg.solve(A,b)\n",
        "    #Actualize the variables\n",
        "    x0 = x0 + alpha*delta[0]\n",
        "    y0 = y0 + alpha*delta[1]\n",
        "    lanbda_0 = lanbda_0 + alpha*delta[2]\n",
        "    if np.linalg.norm(lagran_gradx(x0,y0,lanbda_0))<tol:\n",
        "      print('Iterations:',i)\n",
        "      print('x = (x, y) =',x0,y0)\n",
        "      print('lamba=',lanbda_0)\n",
        "      return x0,y0,lanbda_0\n",
        "      break\n",
        "  return x0,y0,lanbda_0"
      ],
      "metadata": {
        "id": "buWklC9ibOn0"
      },
      "execution_count": null,
      "outputs": []
    },
    {
      "cell_type": "code",
      "source": [
        "x,y,lanbda = Newton_algorithm(-1,1,-1,1,100,1e-3)"
      ],
      "metadata": {
        "colab": {
          "base_uri": "https://localhost:8080/"
        },
        "id": "IzQoGMRHtm_3",
        "outputId": "98195a7c-e0fe-4f5c-e1d1-326e5533a70f"
      },
      "execution_count": null,
      "outputs": [
        {
          "output_type": "stream",
          "name": "stdout",
          "text": [
            "Iterations: 2\n",
            "x = (x, y) = -0.7483381762503777 0.663323446868971\n",
            "lamba= -0.21232390186241443\n"
          ]
        }
      ]
    },
    {
      "cell_type": "markdown",
      "source": [
        "We can observe in the *pdf* file that the solution of this problem is $(x^*,y^*)=( -0.74834,0.66332)$ and $\\lambda^*=−0.21233$. Notice that we reach the correct solution of the problem in two iterations choosing $\\epsilon = 10^{-3}$. Evidently, if we set a lower $ϵ$, the number of iterations will increase."
      ],
      "metadata": {
        "id": "2wltc90trl8b"
      }
    },
    {
      "cell_type": "markdown",
      "source": [
        "###Experiment 2"
      ],
      "metadata": {
        "id": "eaNLxR7BbI50"
      }
    },
    {
      "cell_type": "markdown",
      "source": [
        "Let us choose starting points that are farther away of the optimal solution to see if the algorithm works or not."
      ],
      "metadata": {
        "id": "gTPqwbL0uoEr"
      }
    },
    {
      "cell_type": "code",
      "source": [
        "#Let us create random points, farther away of the optimal solution and implement the algorithm\n",
        "for i in range(1,11):\n",
        "  x0 = float(np.random.rand(1) + i/2)\n",
        "  y0 = float(np.random.rand(1) - i/2)\n",
        "  lanbda_0 = float(np.random.rand(1) + i/4)\n",
        "  print('The starting points are (x0,y0,lanbda_0)=',(x0,y0,lanbda_0))\n",
        "  Newton_algorithm(x0,y0,lanbda_0,1,100,1e-3)\n",
        "  print('\\n\\n')"
      ],
      "metadata": {
        "id": "nZwt3OWnbPPK",
        "colab": {
          "base_uri": "https://localhost:8080/"
        },
        "outputId": "c230f1c2-07aa-480b-df56-765fbcccdcf4"
      },
      "execution_count": null,
      "outputs": [
        {
          "output_type": "stream",
          "name": "stdout",
          "text": [
            "The starting points are (x0,y0,lanbda_0)= (0.7717497917655372, 0.38601789449415536, 0.4191332078621194)\n",
            "Iterations: 6\n",
            "x = (x, y) = -0.7483840738252888 0.6632836125587835\n",
            "lamba= -0.2122929036894288\n",
            "\n",
            "\n",
            "\n",
            "The starting points are (x0,y0,lanbda_0)= (1.033738885239829, -0.5040761507161096, 1.1880334789014362)\n",
            "Iterations: 3\n",
            "x = (x, y) = 0.9104132331356383 -0.4137000670287829\n",
            "lamba= 25.293855170454453\n",
            "\n",
            "\n",
            "\n",
            "The starting points are (x0,y0,lanbda_0)= (1.5924320278954704, -1.3483605599130688, 1.578514099075488)\n",
            "Iterations: 6\n",
            "x = (x, y) = 0.9104082027928228 -0.41371604355732067\n",
            "lamba= 25.293592939729695\n",
            "\n",
            "\n",
            "\n",
            "The starting points are (x0,y0,lanbda_0)= (2.9402691348966847, -1.5842161552285572, 1.0445508094903637)\n",
            "Iterations: 10\n",
            "x = (x, y) = 0.0143453585001924 -0.9998972844373176\n",
            "lamba= 109.16261909544228\n",
            "\n",
            "\n",
            "\n",
            "The starting points are (x0,y0,lanbda_0)= (3.1455745216971485, -2.0762072125171187, 2.1973718200423886)\n",
            "Iterations: 7\n",
            "x = (x, y) = 0.910413229919396 -0.4137000773059629\n",
            "lamba= 25.29385500164221\n",
            "\n",
            "\n",
            "\n",
            "The starting points are (x0,y0,lanbda_0)= (3.373578634475428, -2.973021981932936, 1.563605098675778)\n",
            "Iterations: 7\n",
            "x = (x, y) = 0.01434528273203068 -0.9998971191193147\n",
            "lamba= 109.16259203788893\n",
            "\n",
            "\n",
            "\n",
            "The starting points are (x0,y0,lanbda_0)= (4.415928455402086, -2.9535421524861647, 2.6940262945480353)\n",
            "Iterations: 16\n",
            "x = (x, y) = 0.9104117295296179 -0.41370484766956583\n",
            "lamba= 25.293776769306696\n",
            "\n",
            "\n",
            "\n",
            "The starting points are (x0,y0,lanbda_0)= (4.543610891377126, -3.4165313177385395, 2.146670703371037)\n",
            "Iterations: 10\n",
            "x = (x, y) = 0.9104132304404645 -0.4137000756137421\n",
            "lamba= 25.2938550298666\n",
            "\n",
            "\n",
            "\n",
            "The starting points are (x0,y0,lanbda_0)= (5.472085433198399, -4.3887257099716575, 2.688797786912657)\n",
            "Iterations: 32\n",
            "x = (x, y) = 0.9104087988334997 -0.4137140431328763\n",
            "lamba= 25.293619413825898\n",
            "\n",
            "\n",
            "\n",
            "The starting points are (x0,y0,lanbda_0)= (5.897652809561991, -4.425819671659792, 3.391535928413904)\n",
            "Iterations: 10\n",
            "x = (x, y) = 0.9104112612405741 -0.41370633748085905\n",
            "lamba= 25.293752288104134\n",
            "\n",
            "\n",
            "\n"
          ]
        }
      ]
    },
    {
      "cell_type": "markdown",
      "source": [
        "Notie that in most cases, the method does not work. That is beacuse Newton algorithm only works in a local way, so if we choose starting points that are farther away of the optimal solution, the method may not work."
      ],
      "metadata": {
        "id": "Kg0RTfhix9cx"
      }
    },
    {
      "cell_type": "markdown",
      "source": [
        "### Experiment 3"
      ],
      "metadata": {
        "id": "rucT-KbKbJBT"
      }
    },
    {
      "cell_type": "markdown",
      "source": [
        "Let us define the merit function $\\mathcal{M}$ and perform a classical gradient descent( with backtraking) algorithm, in order to deal with the problem of starting points that are farther away of the optimal solution."
      ],
      "metadata": {
        "id": "aFIN2Cymy7n_"
      }
    },
    {
      "cell_type": "code",
      "source": [
        "#Definition of the merit function and its gradient\n",
        "def merit(x, y, rho=10):\n",
        "    return f(x, y) + rho * h(x, y)**2\n",
        "\n",
        "def grad_merit(x, y, rho=10):\n",
        "    return grad_f(x, y) + 2 * rho * h(x, y) * grad_h(x, y)"
      ],
      "metadata": {
        "id": "CUejGIF4bTG-"
      },
      "execution_count": null,
      "outputs": []
    },
    {
      "cell_type": "code",
      "source": [
        "#Gradient descent with backtracking\n",
        "def gradient_descent(f,grad_f,w0,w1,tol):\n",
        "  x_0=np.zeros(2)\n",
        "  x_0[0]=w0\n",
        "  x_0[1]=w1\n",
        "  while True:\n",
        "      alpha=1\n",
        "      grad = grad_f(x_0[0],x_0[1])\n",
        "      x_k=x_0-alpha*grad/np.linalg.norm(grad)\n",
        "      while f(x_k[0],x_k[1])>=f(x_0[0],x_0[1]):\n",
        "        alpha=alpha/2\n",
        "        x_k=x_0-alpha*grad/np.linalg.norm(grad)\n",
        "      if abs(f(x_k[0],x_k[1]) - f(x_0[0],x_0[1])) < tol  or np.linalg.norm(grad/np.linalg.norm(grad)) < tol:\n",
        "        return x_k\n",
        "      else:\n",
        "        x_0=x_k\n",
        "        \n",
        "  return x_k"
      ],
      "metadata": {
        "id": "tM2GCKa40K7H"
      },
      "execution_count": null,
      "outputs": []
    },
    {
      "cell_type": "markdown",
      "source": [
        "Let us test this method with a point farther away of the optimal solution and oberve if the result is close to the optimal solution."
      ],
      "metadata": {
        "id": "lTJWXJoc2HeO"
      }
    },
    {
      "cell_type": "code",
      "source": [
        "w0 = float(np.random.rand(1) + 34/2)\n",
        "w1 = float(np.random.rand(1) - 34/2)\n",
        "res1 = gradient_descent(merit, grad_merit,w0,w1,1e-3)\n",
        "print('The solution of the gradient descent using the merit function is (x,y)=',(res1[0],res1[1]))\n",
        "w0 = float(np.random.rand(1) + 20/2)\n",
        "w1 = float(np.random.rand(1) - 20/2)\n",
        "res2 = gradient_descent(merit, grad_merit,w0,w1,1e-3)\n",
        "print('The solution of the gradient descent using the merit function is (x,y)=',(res2[0],res2[1]))"
      ],
      "metadata": {
        "colab": {
          "base_uri": "https://localhost:8080/"
        },
        "id": "4kT61M-E2pBS",
        "outputId": "2a46fbef-1ed2-4d6a-94ca-0bd7f92e5fd8"
      },
      "execution_count": null,
      "outputs": [
        {
          "output_type": "stream",
          "name": "stdout",
          "text": [
            "The solution of the gradient descent using the merit function is (x,y)= (-0.5314783787781724, 0.815375928511035)\n",
            "The solution of the gradient descent using the merit function is (x,y)= (-0.6184826240032786, 0.7723690582337929)\n"
          ]
        }
      ]
    },
    {
      "cell_type": "markdown",
      "source": [
        "Notice that we are getting closer to the optimal solution!!"
      ],
      "metadata": {
        "id": "FE-xdn-b3m_Z"
      }
    },
    {
      "cell_type": "markdown",
      "source": [
        "### Experiment 4"
      ],
      "metadata": {
        "id": "5gaLwfVsbJJD"
      }
    },
    {
      "cell_type": "markdown",
      "source": [
        "As we have seen and is said in the $\\textit{pdf}$ file, the minimizers of the merit function do not necessarily have to coincide with the minimizers of the constrained problem. Therefore, we will build an algorithm that consists in the following: \n",
        "+ Start with the merit function to obtain an approximation to the optimal point we are looking for.\n",
        "+ Once an approximation to the solution is found, use the Newton-based method to find the optimal solution."
      ],
      "metadata": {
        "id": "XHhrabut3_zg"
      }
    },
    {
      "cell_type": "markdown",
      "source": [
        "We will use the starting points used in the previous experiment. Notice that we have the first part of the algorithm already implemented. The aproximation points obtained with the merit function are stored in $res1$ and $res2$. Let us apply now the Newton-based algorithm to find the optimal solution."
      ],
      "metadata": {
        "id": "H6xCvXsD5TPY"
      }
    },
    {
      "cell_type": "code",
      "source": [
        "sol1 = Newton_algorithm(res1[0],res1[1], -1, 1, 100,1e-3)\n",
        "sol2 = Newton_algorithm(res2[0],res2[1], -1, 1, 100,1e-3)"
      ],
      "metadata": {
        "colab": {
          "base_uri": "https://localhost:8080/"
        },
        "id": "BxeqSIqx5RbR",
        "outputId": "52c7fe90-2b04-4638-d8fe-81640005ea29"
      },
      "execution_count": null,
      "outputs": [
        {
          "output_type": "stream",
          "name": "stdout",
          "text": [
            "Iterations: 2\n",
            "x = (x, y) = -0.7482159664501377 0.6635972223246313\n",
            "lamba= -0.21187122865702163\n",
            "Iterations: 2\n",
            "x = (x, y) = -0.7483114722669744 0.6633698005265006\n",
            "lamba= -0.21225865941165395\n"
          ]
        }
      ]
    },
    {
      "cell_type": "markdown",
      "source": [
        "Finally, we obtain the expected result!!"
      ],
      "metadata": {
        "id": "xzkvP7CU8XCN"
      }
    },
    {
      "cell_type": "markdown",
      "source": [
        "## Extra experiment"
      ],
      "metadata": {
        "id": "OFqxXCdALygW"
      }
    },
    {
      "cell_type": "markdown",
      "source": [
        "We seek to apply the minimum possible force to move a particle with mass $m$ from an initial point $x_0 = (0,0,0)$, to the final point $x_1 = (1,0,0)$ in $T=1$ seconds, in absence of any other body forces. Let's consider the problem uni-dimensional, since we can consider the reference system to be centered at the initial point of the particle and assume the particle is moving in the $x$-axis direction. Thus, the generalized coordinate is given by $q=x$ and momentum $p= m \\dot{q}$. Since there are no field no conservative acting on the system and there are no no stationary constraints acting over the free particle, we have that the Hamiltonian corresponds to the total energy of the system, this is \n",
        "$$ \n",
        "H = p \\dot{q} - L = E_T = E_K + E_P\n",
        "$$\n",
        "where $E_K, E_P$ are the kinetic and potential energies of the system, $L=E_k - E_p$ is the Lagrangian. Thus, under these assumptions we have $E_K = \\frac{1}{2} m \\dot{q}^2 = \\frac{p^2}{2m}$, where clearly $\\dot{q} = \\frac{\\partial q}{\\partial t}$, and $E_P = - W_F= -\\int F(t) dr$ where the $W_F$ denotes the work experienced by the force $F(t)$ that we apply to the particle. Given that we assume that the force is conservative and thus its work does not depend on the path followed, we have $F(t)=f$, and therefore, the hamiltonian has the following expression:  \n",
        "$$\n",
        "H(p,q,t) = \\frac{1}{2} m \\dot{q}^2 - F q \n",
        "$$\n",
        "Thus, since $H=E_T$ and due to the principle of conservation of energy we have \n",
        "$$\n",
        "\\frac{\\partial H}{\\partial t} = 0 \\iff m \\dot{q} \\ddot{q} - f\\dot{q} = 0 \\iff f = m \\ddot{q}\n",
        "$$\n",
        "Note that we have recovered the second Newton's law, and we can therefore find $f$ by solving the differential equation obtained in terms of $f$ and then compute the corresponding value of $f$ by plugging in the initial conditions fixed:\n",
        "$$\n",
        "\\ddot{q} = \\frac{f}{m} \\iff \\dot{q} \\int_0^t\\frac{f}{m}ds = \\frac{ft}{m} \\iff q(t) = \\int_0^t\\frac{fs}{m}ds = \\frac{f t^2}{2m}\n",
        "$$\n",
        "Using now the initial conditions we have $f= 2m$. \n",
        "\n",
        "However, consider now the case in which we want the particle to reach point $x_1$ and stay there. Observe now that the force used $F(t)$ is not conservative this time, and we may consider the non stationary constraints over the Hamiltonian. We seek to find now the minimum force $F(t)=f$, i.e. $min |F(t)|$ constrained to the second Newton's law: $F(t) = m \\ddot{q} = \\dot{p} \\iff \\dot{q}= p/m, \\ \\dot{p}=f$. Thus, considering the Lagrange multipliers on this system we have \n",
        "$$\n",
        "L' = |f(t)|^2 + \\lambda_1 \\frac{p}{m} + \\lambda_2 f(t)\n",
        "$$\n",
        "Therefore, the Euler-Lagrange equations with the new generalized variable to be $p, f$ are given by the corresponding partial derivatives we have:\n",
        "$$\n",
        "\\frac{\\partial L'}{\\partial f } = \\frac{d}{dt} \\frac{\\partial L'}{\\partial \\dot{f} } = 0 \\iff 2 f + \\lambda_2 = 0 \\iff f = -\\lambda_2/2\n",
        "$$"
      ],
      "metadata": {
        "id": "aU4a34sJL3qk"
      }
    },
    {
      "cell_type": "markdown",
      "source": [
        "Now, similarly, we have\n",
        "\\begin{align*}\n",
        "\\frac{\\partial L'}{\\partial q} = 0 =& \\frac{d}{dt}\\frac{\\partial L'}{\\partial \\dot{q}} = \\frac{d}{dt} \\lambda_1 = \\dot{\\lambda_1} \\\\\n",
        "\\frac{\\partial L'}{\\partial p} = & \\frac{\\lambda_1}{m} = \\frac{d}{dt}\\frac{\\partial L'}{\\partial \\dot{p}}  = \\dot{\\lambda_2}\n",
        "\\end{align*}\n",
        "And therefore $\\lambda_1 = const = a$ and $\\lambda_2 = \\frac{at+b}{m}$. Consequently we have that $f=- \\frac{at+b}{2m}$, and by solving the corresponding differential equations we have\n",
        "\\begin{align*}\n",
        "p(t) = \\int_0^t f(s) ds &= \\frac{at^2 }{4m} + \\frac{bt}{2m} \\\\\n",
        "q(t) = \\int_0^t p(s) ds &= \\frac{1}{m} \\Big[ \\frac{at^3 }{12m} + \\frac{bt^2}{4m} \\Big]\n",
        "\\end{align*}\n",
        "Finally, by fixing the boundary conditions of $p(1) = 0 $ and $q(1)= 1$ we get that $a = -24m^2$ and $b = -a/2 = 12m^2$, and consequently we get\n",
        "$$\n",
        "\\boxed{f(t) = \\frac{at + b}{m} = -24mt + 12m}\n",
        "$$"
      ],
      "metadata": {
        "id": "kd1izU5wMALo"
      }
    },
    {
      "cell_type": "code",
      "source": [],
      "metadata": {
        "id": "A98AIGGrMA22"
      },
      "execution_count": null,
      "outputs": []
    }
  ]
}