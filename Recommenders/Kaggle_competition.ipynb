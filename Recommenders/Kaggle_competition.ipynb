{
 "cells": [
  {
   "cell_type": "code",
   "execution_count": 1,
   "id": "fa4d5e84",
   "metadata": {
    "_cell_guid": "b1076dfc-b9ad-4769-8c92-a6c4dae69d19",
    "_uuid": "8f2839f25d086af736a60e9eeb907d3b93b6e0e5",
    "execution": {
     "iopub.execute_input": "2023-03-27T07:24:56.389049Z",
     "iopub.status.busy": "2023-03-27T07:24:56.388556Z",
     "iopub.status.idle": "2023-03-27T07:24:56.405424Z",
     "shell.execute_reply": "2023-03-27T07:24:56.403602Z"
    },
    "papermill": {
     "duration": 0.050029,
     "end_time": "2023-03-27T07:24:56.408334",
     "exception": false,
     "start_time": "2023-03-27T07:24:56.358305",
     "status": "completed"
    },
    "tags": []
   },
   "outputs": [
    {
     "name": "stdout",
     "output_type": "stream",
     "text": [
      "/kaggle/input/recsysmasterfds/train.csv\n",
      "/kaggle/input/recsysmasterfds/kaggle_baseline.csv\n"
     ]
    }
   ],
   "source": [
    "# This Python 3 environment comes with many helpful analytics libraries installed\n",
    "# It is defined by the kaggle/python Docker image: https://github.com/kaggle/docker-python\n",
    "# For example, here's several helpful packages to load\n",
    "\n",
    "import numpy as np # linear algebra\n",
    "import pandas as pd # data processing, CSV file I/O (e.g. pd.read_csv)\n",
    "\n",
    "# Input data files are available in the read-only \"../input/\" directory\n",
    "# For example, running this (by clicking run or pressing Shift+Enter) will list all files under the input directory\n",
    "\n",
    "import os\n",
    "for dirname, _, filenames in os.walk('/kaggle/input'):\n",
    "    for filename in filenames:\n",
    "        print(os.path.join(dirname, filename))\n",
    "\n",
    "# You can write up to 20GB to the current directory (/kaggle/working/) that gets preserved as output when you create a version using \"Save & Run All\" \n",
    "# You can also write temporary files to /kaggle/temp/, but they won't be saved outside of the current session"
   ]
  },
  {
   "cell_type": "markdown",
   "id": "280f9c53",
   "metadata": {
    "papermill": {
     "duration": 0.025149,
     "end_time": "2023-03-27T07:24:56.461418",
     "exception": false,
     "start_time": "2023-03-27T07:24:56.436269",
     "status": "completed"
    },
    "tags": []
   },
   "source": [
    "# Read the data"
   ]
  },
  {
   "cell_type": "code",
   "execution_count": 2,
   "id": "1df2c321",
   "metadata": {
    "execution": {
     "iopub.execute_input": "2023-03-27T07:24:56.514173Z",
     "iopub.status.busy": "2023-03-27T07:24:56.513727Z",
     "iopub.status.idle": "2023-03-27T07:25:33.973676Z",
     "shell.execute_reply": "2023-03-27T07:25:33.972331Z"
    },
    "papermill": {
     "duration": 37.490081,
     "end_time": "2023-03-27T07:25:33.976705",
     "exception": false,
     "start_time": "2023-03-27T07:24:56.486624",
     "status": "completed"
    },
    "tags": []
   },
   "outputs": [
    {
     "name": "stdout",
     "output_type": "stream",
     "text": [
      "\u001b[31mERROR: pip's dependency resolver does not currently take into account all the packages that are installed. This behaviour is the source of the following dependency conflicts.\r\n",
      "tfx-bsl 1.12.0 requires google-api-python-client<2,>=1.7.11, but you have google-api-python-client 2.79.0 which is incompatible.\r\n",
      "onnx 1.13.1 requires protobuf<4,>=3.20.2, but you have protobuf 3.19.6 which is incompatible.\r\n",
      "apache-beam 2.44.0 requires dill<0.3.2,>=0.3.1.1, but you have dill 0.3.6 which is incompatible.\u001b[0m\u001b[31m\r\n",
      "\u001b[0m\u001b[33mWARNING: Running pip as the 'root' user can result in broken permissions and conflicting behaviour with the system package manager. It is recommended to use a virtual environment instead: https://pip.pypa.io/warnings/venv\u001b[0m\u001b[33m\r\n",
      "\u001b[0m\u001b[33mWARNING: Running pip as the 'root' user can result in broken permissions and conflicting behaviour with the system package manager. It is recommended to use a virtual environment instead: https://pip.pypa.io/warnings/venv\u001b[0m\u001b[33m\r\n",
      "\u001b[0m"
     ]
    }
   ],
   "source": [
    "!pip install -q tensorflow-ranking\n",
    "!pip install -q tensorflow-recommenders"
   ]
  },
  {
   "cell_type": "code",
   "execution_count": 3,
   "id": "28c3637c",
   "metadata": {
    "execution": {
     "iopub.execute_input": "2023-03-27T07:25:34.029816Z",
     "iopub.status.busy": "2023-03-27T07:25:34.029355Z",
     "iopub.status.idle": "2023-03-27T07:25:34.038120Z",
     "shell.execute_reply": "2023-03-27T07:25:34.037042Z"
    },
    "papermill": {
     "duration": 0.038756,
     "end_time": "2023-03-27T07:25:34.040968",
     "exception": false,
     "start_time": "2023-03-27T07:25:34.002212",
     "status": "completed"
    },
    "tags": []
   },
   "outputs": [],
   "source": [
    "import matplotlib.pylab as plt\n",
    "from tqdm import tqdm "
   ]
  },
  {
   "cell_type": "code",
   "execution_count": 4,
   "id": "b65aa6c2",
   "metadata": {
    "execution": {
     "iopub.execute_input": "2023-03-27T07:25:34.093813Z",
     "iopub.status.busy": "2023-03-27T07:25:34.093122Z",
     "iopub.status.idle": "2023-03-27T07:25:35.477513Z",
     "shell.execute_reply": "2023-03-27T07:25:35.476440Z"
    },
    "papermill": {
     "duration": 1.414064,
     "end_time": "2023-03-27T07:25:35.480402",
     "exception": false,
     "start_time": "2023-03-27T07:25:34.066338",
     "status": "completed"
    },
    "tags": []
   },
   "outputs": [],
   "source": [
    "train = pd.read_csv('/kaggle/input/recsysmasterfds/train.csv', names=['uid', 'title', 'mid', 'rating', 'genre', 'age', 'sex'], header=0)\n",
    "test = pd.read_csv('/kaggle/input/recsysmasterfds/kaggle_baseline.csv', names=['uid', 'prediction'], header=0)"
   ]
  },
  {
   "cell_type": "code",
   "execution_count": 5,
   "id": "4db83e75",
   "metadata": {
    "execution": {
     "iopub.execute_input": "2023-03-27T07:25:35.532968Z",
     "iopub.status.busy": "2023-03-27T07:25:35.532009Z",
     "iopub.status.idle": "2023-03-27T07:25:35.564579Z",
     "shell.execute_reply": "2023-03-27T07:25:35.563185Z"
    },
    "papermill": {
     "duration": 0.061645,
     "end_time": "2023-03-27T07:25:35.567177",
     "exception": false,
     "start_time": "2023-03-27T07:25:35.505532",
     "status": "completed"
    },
    "tags": []
   },
   "outputs": [
    {
     "data": {
      "text/html": [
       "<div>\n",
       "<style scoped>\n",
       "    .dataframe tbody tr th:only-of-type {\n",
       "        vertical-align: middle;\n",
       "    }\n",
       "\n",
       "    .dataframe tbody tr th {\n",
       "        vertical-align: top;\n",
       "    }\n",
       "\n",
       "    .dataframe thead th {\n",
       "        text-align: right;\n",
       "    }\n",
       "</style>\n",
       "<table border=\"1\" class=\"dataframe\">\n",
       "  <thead>\n",
       "    <tr style=\"text-align: right;\">\n",
       "      <th></th>\n",
       "      <th>uid</th>\n",
       "      <th>title</th>\n",
       "      <th>mid</th>\n",
       "      <th>rating</th>\n",
       "      <th>genre</th>\n",
       "      <th>age</th>\n",
       "      <th>sex</th>\n",
       "    </tr>\n",
       "  </thead>\n",
       "  <tbody>\n",
       "    <tr>\n",
       "      <th>0</th>\n",
       "      <td>2592</td>\n",
       "      <td>Top Gun (1986)</td>\n",
       "      <td>1101</td>\n",
       "      <td>4</td>\n",
       "      <td>Action|Romance</td>\n",
       "      <td>50</td>\n",
       "      <td>M</td>\n",
       "    </tr>\n",
       "    <tr>\n",
       "      <th>1</th>\n",
       "      <td>4318</td>\n",
       "      <td>12 Angry Men (1957)</td>\n",
       "      <td>1203</td>\n",
       "      <td>4</td>\n",
       "      <td>Drama</td>\n",
       "      <td>25</td>\n",
       "      <td>M</td>\n",
       "    </tr>\n",
       "    <tr>\n",
       "      <th>2</th>\n",
       "      <td>2756</td>\n",
       "      <td>Robocop 2 (1990)</td>\n",
       "      <td>2986</td>\n",
       "      <td>2</td>\n",
       "      <td>Action|Crime|Sci-Fi</td>\n",
       "      <td>18</td>\n",
       "      <td>M</td>\n",
       "    </tr>\n",
       "    <tr>\n",
       "      <th>3</th>\n",
       "      <td>1706</td>\n",
       "      <td>Modern Times (1936)</td>\n",
       "      <td>3462</td>\n",
       "      <td>5</td>\n",
       "      <td>Comedy</td>\n",
       "      <td>25</td>\n",
       "      <td>M</td>\n",
       "    </tr>\n",
       "    <tr>\n",
       "      <th>4</th>\n",
       "      <td>4813</td>\n",
       "      <td>Milk Money (1994)</td>\n",
       "      <td>276</td>\n",
       "      <td>3</td>\n",
       "      <td>Comedy|Romance</td>\n",
       "      <td>35</td>\n",
       "      <td>F</td>\n",
       "    </tr>\n",
       "  </tbody>\n",
       "</table>\n",
       "</div>"
      ],
      "text/plain": [
       "    uid                title   mid  rating                genre  age sex\n",
       "0  2592       Top Gun (1986)  1101       4       Action|Romance   50   M\n",
       "1  4318  12 Angry Men (1957)  1203       4                Drama   25   M\n",
       "2  2756     Robocop 2 (1990)  2986       2  Action|Crime|Sci-Fi   18   M\n",
       "3  1706  Modern Times (1936)  3462       5               Comedy   25   M\n",
       "4  4813    Milk Money (1994)   276       3       Comedy|Romance   35   F"
      ]
     },
     "execution_count": 5,
     "metadata": {},
     "output_type": "execute_result"
    }
   ],
   "source": [
    "train.head()"
   ]
  },
  {
   "cell_type": "markdown",
   "id": "c614e0d5",
   "metadata": {
    "papermill": {
     "duration": 0.024995,
     "end_time": "2023-03-27T07:25:35.618125",
     "exception": false,
     "start_time": "2023-03-27T07:25:35.593130",
     "status": "completed"
    },
    "tags": []
   },
   "source": [
    "# Data Preprocessing"
   ]
  },
  {
   "cell_type": "code",
   "execution_count": 6,
   "id": "ca04e2f5",
   "metadata": {
    "execution": {
     "iopub.execute_input": "2023-03-27T07:25:35.671937Z",
     "iopub.status.busy": "2023-03-27T07:25:35.670925Z",
     "iopub.status.idle": "2023-03-27T07:25:43.553022Z",
     "shell.execute_reply": "2023-03-27T07:25:43.551134Z"
    },
    "papermill": {
     "duration": 7.912828,
     "end_time": "2023-03-27T07:25:43.556352",
     "exception": false,
     "start_time": "2023-03-27T07:25:35.643524",
     "status": "completed"
    },
    "tags": []
   },
   "outputs": [],
   "source": [
    "import pandas as pd\n",
    "import numpy as np\n",
    "import tensorflow as tf\n",
    "import tensorflow_ranking as tfr\n",
    "from tensorflow import keras\n",
    "from tensorflow.keras.preprocessing.text import Tokenizer\n",
    "from tensorflow.keras.preprocessing.sequence import pad_sequences\n",
    "from pathlib import Path\n",
    "from zipfile import ZipFile\n",
    "!mkdir models"
   ]
  },
  {
   "cell_type": "markdown",
   "id": "ecb7d9de",
   "metadata": {
    "papermill": {
     "duration": 0.026408,
     "end_time": "2023-03-27T07:25:43.608428",
     "exception": false,
     "start_time": "2023-03-27T07:25:43.582020",
     "status": "completed"
    },
    "tags": []
   },
   "source": [
    "### We load the Movielens data set to have more features"
   ]
  },
  {
   "cell_type": "markdown",
   "id": "da3e60fd",
   "metadata": {
    "papermill": {
     "duration": 0.025089,
     "end_time": "2023-03-27T07:25:43.661116",
     "exception": false,
     "start_time": "2023-03-27T07:25:43.636027",
     "status": "completed"
    },
    "tags": []
   },
   "source": [
    "We download the movielens dataset to use more features. Since we don't want to add more ratings to our training set, because they might overlap with the test set that we are given, we will add the user and movie information to the data that we have in our training set."
   ]
  },
  {
   "cell_type": "code",
   "execution_count": 7,
   "id": "aaef13a7",
   "metadata": {
    "execution": {
     "iopub.execute_input": "2023-03-27T07:25:43.715887Z",
     "iopub.status.busy": "2023-03-27T07:25:43.714591Z",
     "iopub.status.idle": "2023-03-27T07:25:46.025099Z",
     "shell.execute_reply": "2023-03-27T07:25:46.022899Z"
    },
    "papermill": {
     "duration": 2.341003,
     "end_time": "2023-03-27T07:25:46.028043",
     "exception": false,
     "start_time": "2023-03-27T07:25:43.687040",
     "status": "completed"
    },
    "tags": []
   },
   "outputs": [
    {
     "name": "stdout",
     "output_type": "stream",
     "text": [
      "Downloading data from http://files.grouplens.org/datasets/movielens/ml-1m.zip\n",
      "5917549/5917549 [==============================] - 2s 0us/step\n",
      "Extracting all the files now...\n",
      "Done!\n"
     ]
    }
   ],
   "source": [
    "movielens_data_file_url = (\n",
    "    \"http://files.grouplens.org/datasets/movielens/ml-1m.zip\"\n",
    ")\n",
    "movielens_zipped_file = keras.utils.get_file(\n",
    "    \"ml-1m.zip\", movielens_data_file_url, extract=False\n",
    ")\n",
    "keras_datasets_path = Path(movielens_zipped_file).parents[0]\n",
    "movielens_dir = keras_datasets_path / \"ml-1m\"\n",
    "\n",
    "# Only extract the data the first time the script is run.\n",
    "if not movielens_dir.exists():\n",
    "    with ZipFile(movielens_zipped_file, \"r\") as z:\n",
    "        # Extract files\n",
    "        print(\"Extracting all the files now...\")\n",
    "        z.extractall(path=keras_datasets_path)\n",
    "        print(\"Done!\")"
   ]
  },
  {
   "cell_type": "code",
   "execution_count": 8,
   "id": "08a9848d",
   "metadata": {
    "execution": {
     "iopub.execute_input": "2023-03-27T07:25:46.083494Z",
     "iopub.status.busy": "2023-03-27T07:25:46.083055Z",
     "iopub.status.idle": "2023-03-27T07:25:52.271158Z",
     "shell.execute_reply": "2023-03-27T07:25:52.269617Z"
    },
    "papermill": {
     "duration": 6.218972,
     "end_time": "2023-03-27T07:25:52.274100",
     "exception": false,
     "start_time": "2023-03-27T07:25:46.055128",
     "status": "completed"
    },
    "tags": []
   },
   "outputs": [
    {
     "name": "stdout",
     "output_type": "stream",
     "text": [
      "====== rating.dat ======\n",
      "   uid   mid  rating  timestamp\n",
      "0    1  1193       5  978300760\n",
      "1    1   661       3  978302109\n",
      "2    1   914       3  978301968\n",
      "3    1  3408       4  978300275\n",
      "4    1  2355       5  978824291\n",
      "===== movies.dat ======\n",
      "   mid                          movie_name                   movie_genre\n",
      "0    1                    Toy Story (1995)   Animation|Children's|Comedy\n",
      "1    2                      Jumanji (1995)  Adventure|Children's|Fantasy\n",
      "2    3             Grumpier Old Men (1995)                Comedy|Romance\n",
      "3    4            Waiting to Exhale (1995)                  Comedy|Drama\n",
      "4    5  Father of the Bride Part II (1995)                        Comedy\n",
      "====== users.dat ======\n",
      "   uid gender  age  occupation postal_code\n",
      "0    1      F    1          10       48067\n",
      "1    2      M   56          16       70072\n",
      "2    3      M   25          15       55117\n",
      "3    4      M   45           7       02460\n",
      "4    5      M   25          20       55455\n",
      "====== preprocessed data =======\n"
     ]
    },
    {
     "data": {
      "text/html": [
       "<div>\n",
       "<style scoped>\n",
       "    .dataframe tbody tr th:only-of-type {\n",
       "        vertical-align: middle;\n",
       "    }\n",
       "\n",
       "    .dataframe tbody tr th {\n",
       "        vertical-align: top;\n",
       "    }\n",
       "\n",
       "    .dataframe thead th {\n",
       "        text-align: right;\n",
       "    }\n",
       "</style>\n",
       "<table border=\"1\" class=\"dataframe\">\n",
       "  <thead>\n",
       "    <tr style=\"text-align: right;\">\n",
       "      <th></th>\n",
       "      <th>uid</th>\n",
       "      <th>mid</th>\n",
       "      <th>rating</th>\n",
       "      <th>timestamp</th>\n",
       "      <th>movie_name</th>\n",
       "      <th>movie_genre</th>\n",
       "      <th>gender</th>\n",
       "      <th>age</th>\n",
       "      <th>occupation</th>\n",
       "      <th>postal_code</th>\n",
       "    </tr>\n",
       "  </thead>\n",
       "  <tbody>\n",
       "    <tr>\n",
       "      <th>0</th>\n",
       "      <td>1</td>\n",
       "      <td>1193</td>\n",
       "      <td>5</td>\n",
       "      <td>978300760</td>\n",
       "      <td>One Flew Over the Cuckoo's Nest (1975)</td>\n",
       "      <td>[1, 0, 0]</td>\n",
       "      <td>F</td>\n",
       "      <td>1</td>\n",
       "      <td>10</td>\n",
       "      <td>48067</td>\n",
       "    </tr>\n",
       "    <tr>\n",
       "      <th>1</th>\n",
       "      <td>1</td>\n",
       "      <td>661</td>\n",
       "      <td>3</td>\n",
       "      <td>978302109</td>\n",
       "      <td>James and the Giant Peach (1996)</td>\n",
       "      <td>[9, 13, 0]</td>\n",
       "      <td>F</td>\n",
       "      <td>1</td>\n",
       "      <td>10</td>\n",
       "      <td>48067</td>\n",
       "    </tr>\n",
       "    <tr>\n",
       "      <th>2</th>\n",
       "      <td>1</td>\n",
       "      <td>914</td>\n",
       "      <td>3</td>\n",
       "      <td>978301968</td>\n",
       "      <td>My Fair Lady (1964)</td>\n",
       "      <td>[13, 5, 0]</td>\n",
       "      <td>F</td>\n",
       "      <td>1</td>\n",
       "      <td>10</td>\n",
       "      <td>48067</td>\n",
       "    </tr>\n",
       "    <tr>\n",
       "      <th>3</th>\n",
       "      <td>1</td>\n",
       "      <td>3408</td>\n",
       "      <td>4</td>\n",
       "      <td>978300275</td>\n",
       "      <td>Erin Brockovich (2000)</td>\n",
       "      <td>[1, 0, 0]</td>\n",
       "      <td>F</td>\n",
       "      <td>1</td>\n",
       "      <td>10</td>\n",
       "      <td>48067</td>\n",
       "    </tr>\n",
       "    <tr>\n",
       "      <th>4</th>\n",
       "      <td>1</td>\n",
       "      <td>2355</td>\n",
       "      <td>5</td>\n",
       "      <td>978824291</td>\n",
       "      <td>Bug's Life, A (1998)</td>\n",
       "      <td>[9, 2, 0]</td>\n",
       "      <td>F</td>\n",
       "      <td>1</td>\n",
       "      <td>10</td>\n",
       "      <td>48067</td>\n",
       "    </tr>\n",
       "  </tbody>\n",
       "</table>\n",
       "</div>"
      ],
      "text/plain": [
       "   uid   mid  rating  timestamp                              movie_name  \\\n",
       "0    1  1193       5  978300760  One Flew Over the Cuckoo's Nest (1975)   \n",
       "1    1   661       3  978302109        James and the Giant Peach (1996)   \n",
       "2    1   914       3  978301968                     My Fair Lady (1964)   \n",
       "3    1  3408       4  978300275                  Erin Brockovich (2000)   \n",
       "4    1  2355       5  978824291                    Bug's Life, A (1998)   \n",
       "\n",
       "  movie_genre gender  age  occupation postal_code  \n",
       "0   [1, 0, 0]      F    1          10       48067  \n",
       "1  [9, 13, 0]      F    1          10       48067  \n",
       "2  [13, 5, 0]      F    1          10       48067  \n",
       "3   [1, 0, 0]      F    1          10       48067  \n",
       "4   [9, 2, 0]      F    1          10       48067  "
      ]
     },
     "execution_count": 8,
     "metadata": {},
     "output_type": "execute_result"
    }
   ],
   "source": [
    "def load_ratings(movielens_dir):\n",
    "    COL_NAME = ['uid','mid','rating','timestamp']\n",
    "    df = pd.read_csv(movielens_dir / 'ratings.dat',sep='::', header=None, engine='python', names=COL_NAME)\n",
    "    return df\n",
    "\n",
    "def load_movies(movielens_dir):\n",
    "    COL_NAME = ['mid','movie_name','movie_genre']\n",
    "    df = pd.read_csv(movielens_dir / 'movies.dat',sep='::', header=None, engine='python', names=COL_NAME, encoding='latin-1')\n",
    "    return df\n",
    "\n",
    "def load_users(movielens_dir):\n",
    "    COL_NAME = ['uid','gender','age','occupation','postal_code']\n",
    "    df = pd.read_csv(movielens_dir / 'users.dat',sep='::', header=None, engine='python', names=COL_NAME)\n",
    "    return df\n",
    "\n",
    "def text2seq(text, n_genre):\n",
    "    \"\"\" using tokenizer to encoded the multi-level categorical feature\n",
    "    \"\"\"\n",
    "    tokenizer = Tokenizer(lower=True, split='|',filters='', num_words=n_genre)\n",
    "    tokenizer.fit_on_texts(text)\n",
    "    seq = tokenizer.texts_to_sequences(text)\n",
    "    seq = pad_sequences(seq, maxlen=3,padding='post')\n",
    "    return seq\n",
    "\n",
    "n_genre = 15\n",
    "\n",
    "ratings = load_ratings(movielens_dir)\n",
    "movies = load_movies(movielens_dir)\n",
    "users = load_users(movielens_dir)\n",
    "\n",
    "print(\"====== rating.dat ======\")\n",
    "print(ratings.head())\n",
    "print(\"===== movies.dat ======\")\n",
    "print(movies.head())\n",
    "print(\"====== users.dat ======\")\n",
    "print(users.head())\n",
    "\n",
    "movies['movie_genre'] = text2seq(movies.movie_genre.values, n_genre=n_genre).tolist()\n",
    "\n",
    "ratings = ratings.join(movies.set_index('mid'), on = 'mid', how = 'left')\n",
    "ratings = ratings.join(users.set_index('uid'), on = 'uid', how = 'left')\n",
    "print(\"====== preprocessed data =======\")\n",
    "(ratings.head())"
   ]
  },
  {
   "cell_type": "markdown",
   "id": "2f58bc48",
   "metadata": {
    "papermill": {
     "duration": 0.026429,
     "end_time": "2023-03-27T07:25:52.327407",
     "exception": false,
     "start_time": "2023-03-27T07:25:52.300978",
     "status": "completed"
    },
    "tags": []
   },
   "source": [
    "### Of all the ratings in the MovieLens dataset we only keep those that are in the training set that we are given"
   ]
  },
  {
   "cell_type": "code",
   "execution_count": 9,
   "id": "060ac3cc",
   "metadata": {
    "execution": {
     "iopub.execute_input": "2023-03-27T07:25:52.382365Z",
     "iopub.status.busy": "2023-03-27T07:25:52.381948Z",
     "iopub.status.idle": "2023-03-27T07:25:54.957723Z",
     "shell.execute_reply": "2023-03-27T07:25:54.956714Z"
    },
    "papermill": {
     "duration": 2.606155,
     "end_time": "2023-03-27T07:25:54.960116",
     "exception": false,
     "start_time": "2023-03-27T07:25:52.353961",
     "status": "completed"
    },
    "tags": []
   },
   "outputs": [
    {
     "data": {
      "text/html": [
       "<div>\n",
       "<style scoped>\n",
       "    .dataframe tbody tr th:only-of-type {\n",
       "        vertical-align: middle;\n",
       "    }\n",
       "\n",
       "    .dataframe tbody tr th {\n",
       "        vertical-align: top;\n",
       "    }\n",
       "\n",
       "    .dataframe thead th {\n",
       "        text-align: right;\n",
       "    }\n",
       "</style>\n",
       "<table border=\"1\" class=\"dataframe\">\n",
       "  <thead>\n",
       "    <tr style=\"text-align: right;\">\n",
       "      <th></th>\n",
       "      <th>uid</th>\n",
       "      <th>mid</th>\n",
       "      <th>rating</th>\n",
       "      <th>timestamp</th>\n",
       "      <th>movie_name</th>\n",
       "      <th>movie_genre</th>\n",
       "      <th>gender</th>\n",
       "      <th>age</th>\n",
       "      <th>occupation</th>\n",
       "      <th>postal_code</th>\n",
       "    </tr>\n",
       "  </thead>\n",
       "  <tbody>\n",
       "    <tr>\n",
       "      <th>0</th>\n",
       "      <td>1</td>\n",
       "      <td>1193</td>\n",
       "      <td>5.0</td>\n",
       "      <td>978300760</td>\n",
       "      <td>One Flew Over the Cuckoo's Nest (1975)</td>\n",
       "      <td>[1, 0, 0]</td>\n",
       "      <td>F</td>\n",
       "      <td>1</td>\n",
       "      <td>10</td>\n",
       "      <td>48067</td>\n",
       "    </tr>\n",
       "    <tr>\n",
       "      <th>1</th>\n",
       "      <td>1</td>\n",
       "      <td>661</td>\n",
       "      <td>3.0</td>\n",
       "      <td>978302109</td>\n",
       "      <td>James and the Giant Peach (1996)</td>\n",
       "      <td>[9, 13, 0]</td>\n",
       "      <td>F</td>\n",
       "      <td>1</td>\n",
       "      <td>10</td>\n",
       "      <td>48067</td>\n",
       "    </tr>\n",
       "    <tr>\n",
       "      <th>3</th>\n",
       "      <td>1</td>\n",
       "      <td>3408</td>\n",
       "      <td>4.0</td>\n",
       "      <td>978300275</td>\n",
       "      <td>Erin Brockovich (2000)</td>\n",
       "      <td>[1, 0, 0]</td>\n",
       "      <td>F</td>\n",
       "      <td>1</td>\n",
       "      <td>10</td>\n",
       "      <td>48067</td>\n",
       "    </tr>\n",
       "    <tr>\n",
       "      <th>4</th>\n",
       "      <td>1</td>\n",
       "      <td>2355</td>\n",
       "      <td>5.0</td>\n",
       "      <td>978824291</td>\n",
       "      <td>Bug's Life, A (1998)</td>\n",
       "      <td>[9, 2, 0]</td>\n",
       "      <td>F</td>\n",
       "      <td>1</td>\n",
       "      <td>10</td>\n",
       "      <td>48067</td>\n",
       "    </tr>\n",
       "    <tr>\n",
       "      <th>5</th>\n",
       "      <td>1</td>\n",
       "      <td>1197</td>\n",
       "      <td>3.0</td>\n",
       "      <td>978302268</td>\n",
       "      <td>Princess Bride, The (1987)</td>\n",
       "      <td>[7, 2, 5]</td>\n",
       "      <td>F</td>\n",
       "      <td>1</td>\n",
       "      <td>10</td>\n",
       "      <td>48067</td>\n",
       "    </tr>\n",
       "    <tr>\n",
       "      <th>6</th>\n",
       "      <td>1</td>\n",
       "      <td>1287</td>\n",
       "      <td>5.0</td>\n",
       "      <td>978302039</td>\n",
       "      <td>Ben-Hur (1959)</td>\n",
       "      <td>[3, 7, 1]</td>\n",
       "      <td>F</td>\n",
       "      <td>1</td>\n",
       "      <td>10</td>\n",
       "      <td>48067</td>\n",
       "    </tr>\n",
       "    <tr>\n",
       "      <th>7</th>\n",
       "      <td>1</td>\n",
       "      <td>2804</td>\n",
       "      <td>5.0</td>\n",
       "      <td>978300719</td>\n",
       "      <td>Christmas Story, A (1983)</td>\n",
       "      <td>[2, 1, 0]</td>\n",
       "      <td>F</td>\n",
       "      <td>1</td>\n",
       "      <td>10</td>\n",
       "      <td>48067</td>\n",
       "    </tr>\n",
       "    <tr>\n",
       "      <th>8</th>\n",
       "      <td>1</td>\n",
       "      <td>594</td>\n",
       "      <td>4.0</td>\n",
       "      <td>978302268</td>\n",
       "      <td>Snow White and the Seven Dwarfs (1937)</td>\n",
       "      <td>[9, 13, 0]</td>\n",
       "      <td>F</td>\n",
       "      <td>1</td>\n",
       "      <td>10</td>\n",
       "      <td>48067</td>\n",
       "    </tr>\n",
       "    <tr>\n",
       "      <th>10</th>\n",
       "      <td>1</td>\n",
       "      <td>595</td>\n",
       "      <td>5.0</td>\n",
       "      <td>978824268</td>\n",
       "      <td>Beauty and the Beast (1991)</td>\n",
       "      <td>[9, 13, 0]</td>\n",
       "      <td>F</td>\n",
       "      <td>1</td>\n",
       "      <td>10</td>\n",
       "      <td>48067</td>\n",
       "    </tr>\n",
       "    <tr>\n",
       "      <th>11</th>\n",
       "      <td>1</td>\n",
       "      <td>938</td>\n",
       "      <td>4.0</td>\n",
       "      <td>978301752</td>\n",
       "      <td>Gigi (1958)</td>\n",
       "      <td>[13, 0, 0]</td>\n",
       "      <td>F</td>\n",
       "      <td>1</td>\n",
       "      <td>10</td>\n",
       "      <td>48067</td>\n",
       "    </tr>\n",
       "  </tbody>\n",
       "</table>\n",
       "</div>"
      ],
      "text/plain": [
       "    uid   mid  rating  timestamp                              movie_name  \\\n",
       "0     1  1193     5.0  978300760  One Flew Over the Cuckoo's Nest (1975)   \n",
       "1     1   661     3.0  978302109        James and the Giant Peach (1996)   \n",
       "3     1  3408     4.0  978300275                  Erin Brockovich (2000)   \n",
       "4     1  2355     5.0  978824291                    Bug's Life, A (1998)   \n",
       "5     1  1197     3.0  978302268              Princess Bride, The (1987)   \n",
       "6     1  1287     5.0  978302039                          Ben-Hur (1959)   \n",
       "7     1  2804     5.0  978300719               Christmas Story, A (1983)   \n",
       "8     1   594     4.0  978302268  Snow White and the Seven Dwarfs (1937)   \n",
       "10    1   595     5.0  978824268             Beauty and the Beast (1991)   \n",
       "11    1   938     4.0  978301752                             Gigi (1958)   \n",
       "\n",
       "   movie_genre gender  age  occupation postal_code  \n",
       "0    [1, 0, 0]      F    1          10       48067  \n",
       "1   [9, 13, 0]      F    1          10       48067  \n",
       "3    [1, 0, 0]      F    1          10       48067  \n",
       "4    [9, 2, 0]      F    1          10       48067  \n",
       "5    [7, 2, 5]      F    1          10       48067  \n",
       "6    [3, 7, 1]      F    1          10       48067  \n",
       "7    [2, 1, 0]      F    1          10       48067  \n",
       "8   [9, 13, 0]      F    1          10       48067  \n",
       "10  [9, 13, 0]      F    1          10       48067  \n",
       "11  [13, 0, 0]      F    1          10       48067  "
      ]
     },
     "execution_count": 9,
     "metadata": {},
     "output_type": "execute_result"
    }
   ],
   "source": [
    "merged = pd.merge(ratings, train, on=['uid', 'mid'], how='left', indicator=True)\n",
    "ratings = merged[merged['_merge'] == 'both']\n",
    "cols = ['uid', 'mid', 'rating_x', 'timestamp', 'movie_name', 'movie_genre', 'gender', 'age_x', 'occupation', 'postal_code']\n",
    "ratings = ratings[cols]\n",
    "ratings.rename(columns = {'rating_x':'rating', 'age_x':'age'}, inplace = True)\n",
    "ratings['rating'] = ratings['rating'].astype(float)\n",
    "ratings.head(10)"
   ]
  },
  {
   "cell_type": "markdown",
   "id": "c4e20ef8",
   "metadata": {
    "papermill": {
     "duration": 0.026495,
     "end_time": "2023-03-27T07:25:55.013604",
     "exception": false,
     "start_time": "2023-03-27T07:25:54.987109",
     "status": "completed"
    },
    "tags": []
   },
   "source": [
    "## Split the data"
   ]
  },
  {
   "cell_type": "code",
   "execution_count": 10,
   "id": "6c40c6ae",
   "metadata": {
    "execution": {
     "iopub.execute_input": "2023-03-27T07:25:55.070861Z",
     "iopub.status.busy": "2023-03-27T07:25:55.070402Z",
     "iopub.status.idle": "2023-03-27T07:25:56.357579Z",
     "shell.execute_reply": "2023-03-27T07:25:56.356109Z"
    },
    "papermill": {
     "duration": 1.319116,
     "end_time": "2023-03-27T07:25:56.360516",
     "exception": false,
     "start_time": "2023-03-27T07:25:55.041400",
     "status": "completed"
    },
    "tags": []
   },
   "outputs": [],
   "source": [
    "from sklearn.model_selection import train_test_split\n",
    "train, val = train_test_split(ratings, test_size=0.1, stratify=ratings.rating)"
   ]
  },
  {
   "cell_type": "code",
   "execution_count": 11,
   "id": "e613c5f2",
   "metadata": {
    "execution": {
     "iopub.execute_input": "2023-03-27T07:25:56.416746Z",
     "iopub.status.busy": "2023-03-27T07:25:56.416248Z",
     "iopub.status.idle": "2023-03-27T07:25:56.670439Z",
     "shell.execute_reply": "2023-03-27T07:25:56.669130Z"
    },
    "papermill": {
     "duration": 0.285824,
     "end_time": "2023-03-27T07:25:56.673220",
     "exception": false,
     "start_time": "2023-03-27T07:25:56.387396",
     "status": "completed"
    },
    "tags": []
   },
   "outputs": [
    {
     "data": {
      "image/png": "[encoded data removed]",
      "text/plain": [
       "<Figure size 640x480 with 1 Axes>"
      ]
     },
     "metadata": {},
     "output_type": "display_data"
    }
   ],
   "source": [
    "import matplotlib.pyplot as plt\n",
    "\n",
    "# count the number of values in the rating column\n",
    "rating_counts = train['rating'].value_counts()\n",
    "# create the bar chart\n",
    "plt.bar(rating_counts.index, rating_counts.values)\n",
    "# add labels and title\n",
    "plt.xlabel('Rating')\n",
    "plt.ylabel('Count')\n",
    "plt.title('Distribution of Ratings in Training set')\n",
    "# show the plot\n",
    "plt.show()"
   ]
  },
  {
   "cell_type": "code",
   "execution_count": 12,
   "id": "90a22395",
   "metadata": {
    "execution": {
     "iopub.execute_input": "2023-03-27T07:25:56.730998Z",
     "iopub.status.busy": "2023-03-27T07:25:56.730022Z",
     "iopub.status.idle": "2023-03-27T07:25:56.947613Z",
     "shell.execute_reply": "2023-03-27T07:25:56.946201Z"
    },
    "papermill": {
     "duration": 0.250456,
     "end_time": "2023-03-27T07:25:56.951650",
     "exception": false,
     "start_time": "2023-03-27T07:25:56.701194",
     "status": "completed"
    },
    "tags": []
   },
   "outputs": [
    {
     "data": {
      "image/png": "[encoded data removed]",
      "text/plain": [
       "<Figure size 640x480 with 1 Axes>"
      ]
     },
     "metadata": {},
     "output_type": "display_data"
    }
   ],
   "source": [
    "import matplotlib.pyplot as plt\n",
    "\n",
    "# count the number of values in the rating column\n",
    "rating_counts = val['rating'].value_counts()\n",
    "# create the bar chart\n",
    "plt.bar(rating_counts.index, rating_counts.values)\n",
    "# add labels and title\n",
    "plt.xlabel('Rating')\n",
    "plt.ylabel('Count')\n",
    "plt.title('Distribution of Ratings in Validation set')\n",
    "# show the plot\n",
    "plt.show()"
   ]
  },
  {
   "cell_type": "markdown",
   "id": "7687957f",
   "metadata": {
    "papermill": {
     "duration": 0.029239,
     "end_time": "2023-03-27T07:25:57.009527",
     "exception": false,
     "start_time": "2023-03-27T07:25:56.980288",
     "status": "completed"
    },
    "tags": []
   },
   "source": [
    "## Data engineering and preprocessing"
   ]
  },
  {
   "cell_type": "code",
   "execution_count": 13,
   "id": "e9c4caff",
   "metadata": {
    "execution": {
     "iopub.execute_input": "2023-03-27T07:25:57.070291Z",
     "iopub.status.busy": "2023-03-27T07:25:57.069872Z",
     "iopub.status.idle": "2023-03-27T07:25:57.092330Z",
     "shell.execute_reply": "2023-03-27T07:25:57.091397Z"
    },
    "papermill": {
     "duration": 0.056114,
     "end_time": "2023-03-27T07:25:57.094928",
     "exception": false,
     "start_time": "2023-03-27T07:25:57.038814",
     "status": "completed"
    },
    "tags": []
   },
   "outputs": [],
   "source": [
    "from sklearn.preprocessing import LabelEncoder\n",
    "from collections import defaultdict\n",
    "def weight_func(rating):\n",
    "    if rating >= 4:\n",
    "        return 1\n",
    "    else:\n",
    "        return 0.1\n",
    "    \n",
    "def relevant_func(rating):\n",
    "    if rating >= 4:\n",
    "        return 1\n",
    "    else:\n",
    "        return 0\n",
    "    \n",
    "def preprocess(train, val=None):\n",
    "    # ========================== FEATURE ENGINEERING ========================================\n",
    "    # RATING NORMALIZATION\n",
    "    min_rating = train['rating'].values.min()\n",
    "    max_rating = train['rating'].values.max()\n",
    "    train['norm_rating'] = (train['rating'] - min_rating) / (max_rating - min_rating)\n",
    "\n",
    "    # MOVIE POPULARITY\n",
    "    train['popularity'] = train.groupby('mid')['mid'].transform('count')\n",
    "    unique_combinations = train[['mid', 'popularity']].drop_duplicates()\n",
    "    \n",
    "    # MEAN MOVIE RATING\n",
    "    mean_ratings = train.groupby('mid', as_index=False)['rating'].mean()\n",
    "    mean_ratings.columns = ['mid', 'mean_mid']\n",
    "    train = pd.merge(train, mean_ratings, on='mid', how='left')\n",
    "    \n",
    "    # NORMALIZE MEAN MOVIE RATING\n",
    "    min_mean_mid = train['mean_mid'].values.min()\n",
    "    max_mean_mid = train['mean_mid'].values.max()\n",
    "    train['norm_mean_mid'] = (train['mean_mid'] - min_mean_mid) / (max_mean_mid - min_mean_mid)\n",
    "    \n",
    "    # MEAN USER RATING\n",
    "    mean_ratings_uid = train.groupby('uid', as_index=False)['rating'].mean()\n",
    "    mean_ratings_uid.columns = ['uid', 'mean_uid']\n",
    "    train = pd.merge(train, mean_ratings_uid, on='uid', how='left')\n",
    "    \n",
    "    # NORMALIZE MEAN USER RATING\n",
    "    min_mean_uid = train['mean_uid'].values.min()\n",
    "    max_mean_uid = train['mean_uid'].values.max()\n",
    "    train['norm_mean_uid'] = (train['mean_uid'] - min_mean_uid) / (max_mean_uid - min_mean_uid)\n",
    "    \n",
    "    # NORMALIZE POPULARITY\n",
    "    min_pop = train['popularity'].values.min()\n",
    "    max_pop = train['popularity'].values.max()\n",
    "    train['norm_pop'] = (train['popularity'] - min_pop) / (max_pop - min_pop)\n",
    "    \n",
    "    # ENCODE THE GENDER\n",
    "    gender_encoder = LabelEncoder()\n",
    "    gender_encoder.fit(train['gender'])\n",
    "    train['gender_encoded'] = gender_encoder.transform(train['gender'])\n",
    "\n",
    "    # NORMALIZE THE AGE\n",
    "    min_age = train['age'].values.min()\n",
    "    max_age = train['age'].values.max()\n",
    "    train['norm_age'] = (train['age'] - min_age) / (max_age - min_age)\n",
    "    \n",
    "    # CREATE MOVIE YEAR\n",
    "    train['movie_year'] = (train['movie_name'].str.extract(r'\\((\\d{4})\\)$')).astype(int)\n",
    "    \n",
    "    # NORMALIZE THE YEAR\n",
    "    min_year = train['movie_year'].values.min()\n",
    "    max_year = train['movie_year'].values.max()\n",
    "    train['norm_year'] = (train['movie_year'] - min_year) / (max_year - min_year)\n",
    "\n",
    "    # =======================================================================================\n",
    "    # CREATE WEIGHTS FOR TRAINING\n",
    "    train['weight'] = train['rating'].apply(weight_func)\n",
    "    \n",
    "    # CREATE TARGET\n",
    "    train['relevant'] = train['rating'].apply(relevant_func)\n",
    "    \n",
    "    train.fillna(0, inplace=True)\n",
    "    \n",
    "    if val is not None:\n",
    "        val['norm_rating'] = (val['rating'] - min_rating) / (max_rating - min_rating)\n",
    "        val = pd.merge(val, unique_combinations, on='mid', how='left')\n",
    "        val = pd.merge(val, mean_ratings, on='mid', how='left')\n",
    "        val['norm_mean_mid'] = (val['mean_mid'] - min_mean_mid) / (max_mean_mid - min_mean_mid)\n",
    "        val = pd.merge(val, mean_ratings_uid, on='uid', how='left')\n",
    "        val['norm_mean_uid'] = (val['mean_uid'] - min_mean_uid) / (max_mean_uid - min_mean_uid)\n",
    "        val['norm_pop'] = (val['popularity'] - min_pop) / (max_pop - min_pop)\n",
    "        val['gender_encoded'] = gender_encoder.transform(val['gender'])\n",
    "        val['norm_age'] = (val['age'] - min_age) / (max_age - min_age)\n",
    "        val['movie_year'] = (val['movie_name'].str.extract(r'\\((\\d{4})\\)$')).astype(int)\n",
    "        val['norm_year'] = (val['movie_year'] - min_year) / (max_year - min_year)\n",
    "        val['relevant'] = val['rating'].apply(relevant_func)\n",
    "        val.fillna(0, inplace=True)\n",
    "\n",
    "        return train, val\n",
    "    \n",
    "    return train"
   ]
  },
  {
   "cell_type": "code",
   "execution_count": 14,
   "id": "4cc3ac35",
   "metadata": {
    "execution": {
     "iopub.execute_input": "2023-03-27T07:25:57.156951Z",
     "iopub.status.busy": "2023-03-27T07:25:57.156174Z",
     "iopub.status.idle": "2023-03-27T07:26:01.530268Z",
     "shell.execute_reply": "2023-03-27T07:26:01.528806Z"
    },
    "papermill": {
     "duration": 4.409265,
     "end_time": "2023-03-27T07:26:01.533248",
     "exception": false,
     "start_time": "2023-03-27T07:25:57.123983",
     "status": "completed"
    },
    "tags": []
   },
   "outputs": [],
   "source": [
    "train, val = preprocess(train, val)"
   ]
  },
  {
   "cell_type": "code",
   "execution_count": 15,
   "id": "f5313f50",
   "metadata": {
    "execution": {
     "iopub.execute_input": "2023-03-27T07:26:01.591340Z",
     "iopub.status.busy": "2023-03-27T07:26:01.590611Z",
     "iopub.status.idle": "2023-03-27T07:26:05.894078Z",
     "shell.execute_reply": "2023-03-27T07:26:05.892367Z"
    },
    "papermill": {
     "duration": 4.335326,
     "end_time": "2023-03-27T07:26:05.896891",
     "exception": false,
     "start_time": "2023-03-27T07:26:01.561565",
     "status": "completed"
    },
    "tags": []
   },
   "outputs": [],
   "source": [
    "train_complete = preprocess(ratings)"
   ]
  },
  {
   "cell_type": "code",
   "execution_count": 16,
   "id": "c7012c8b",
   "metadata": {
    "execution": {
     "iopub.execute_input": "2023-03-27T07:26:05.958217Z",
     "iopub.status.busy": "2023-03-27T07:26:05.956995Z",
     "iopub.status.idle": "2023-03-27T07:26:05.971924Z",
     "shell.execute_reply": "2023-03-27T07:26:05.970557Z"
    },
    "papermill": {
     "duration": 0.048558,
     "end_time": "2023-03-27T07:26:05.974596",
     "exception": false,
     "start_time": "2023-03-27T07:26:05.926038",
     "status": "completed"
    },
    "tags": []
   },
   "outputs": [],
   "source": [
    "def preprocess_test(data, train):\n",
    "    \n",
    "    # MOVIE POPULARITY\n",
    "    unique_combinations = train[['mid', 'popularity']].drop_duplicates()\n",
    "    data = pd.merge(data, unique_combinations, on='mid', how='left')\n",
    "    \n",
    "    # MEAN RATING\n",
    "    mean_ratings = train.groupby('mid', as_index=False)['rating'].mean()\n",
    "    mean_ratings.columns = ['mid', 'mean_mid']\n",
    "    data = pd.merge(data, mean_ratings, on='mid', how='left')\n",
    "    \n",
    "    # NORMALIZE MEAN RATING\n",
    "    min_mean_mid = train['mean_mid'].values.min()\n",
    "    max_mean_mid = train['mean_mid'].values.max()\n",
    "    data['norm_mean_mid'] = (data['mean_mid'] - min_mean_mid) / (max_mean_mid - min_mean_mid)\n",
    "    \n",
    "    # MEAN USER RATING\n",
    "    mean_ratings = train.groupby('uid', as_index=False)['rating'].mean()\n",
    "    mean_ratings.columns = ['uid', 'mean_uid']\n",
    "    data = pd.merge(data, mean_ratings, on='uid', how='left')\n",
    "    \n",
    "    # NORMALIZE MEAN USER RATING\n",
    "    min_mean_uid = train['mean_uid'].values.min()\n",
    "    max_mean_uid = train['mean_uid'].values.max()\n",
    "    data['norm_mean_uid'] = (data['mean_uid'] - min_mean_uid) / (max_mean_uid - min_mean_uid)\n",
    "\n",
    "    # NORMALIZE POPULARITY\n",
    "    min_pop = train['popularity'].values.min()\n",
    "    max_pop = train['popularity'].values.max()\n",
    "    data['norm_pop'] = (data['popularity'] - min_pop) / (max_pop - min_pop)\n",
    "    \n",
    "    # ENCODE THE GENDER\n",
    "    gender_encoder = LabelEncoder()\n",
    "    gender_encoder.fit(train['gender'])\n",
    "    data['gender_encoded'] = gender_encoder.transform(data['gender'])\n",
    "\n",
    "    # NORMALIZE THE AGE\n",
    "    min_age = train['age'].values.min()\n",
    "    max_age = train['age'].values.max()\n",
    "    data['norm_age'] = (data['age'] - min_age) / (max_age - min_age)\n",
    "    \n",
    "    # CREATE MOVIE YEAR\n",
    "    data['movie_year'] = (data['movie_name'].str.extract(r'\\((\\d{4})\\)$')).astype(int)\n",
    "\n",
    "    # NORMALIZE THE YEAR\n",
    "    min_year = train['movie_year'].values.min()\n",
    "    max_year = train['movie_year'].values.max()\n",
    "    data['norm_year'] = (data['movie_year'] - min_year) / (max_year - min_year)\n",
    "    \n",
    "    data.fillna(0, inplace=True)\n",
    "    return data"
   ]
  },
  {
   "cell_type": "markdown",
   "id": "ebe34987",
   "metadata": {
    "papermill": {
     "duration": 0.027833,
     "end_time": "2023-03-27T07:26:06.030491",
     "exception": false,
     "start_time": "2023-03-27T07:26:06.002658",
     "status": "completed"
    },
    "tags": []
   },
   "source": [
    "# Top Popular"
   ]
  },
  {
   "cell_type": "code",
   "execution_count": 17,
   "id": "c04f31b5",
   "metadata": {
    "execution": {
     "iopub.execute_input": "2023-03-27T07:26:06.088883Z",
     "iopub.status.busy": "2023-03-27T07:26:06.088424Z",
     "iopub.status.idle": "2023-03-27T07:26:06.097299Z",
     "shell.execute_reply": "2023-03-27T07:26:06.096050Z"
    },
    "papermill": {
     "duration": 0.040687,
     "end_time": "2023-03-27T07:26:06.099600",
     "exception": false,
     "start_time": "2023-03-27T07:26:06.058913",
     "status": "completed"
    },
    "tags": []
   },
   "outputs": [],
   "source": [
    "class TopPopRecommender():\n",
    "\n",
    "    def fit(self, train):\n",
    "\n",
    "        item_popularity = train[['mid','rating']].groupby(by='mid').count()\n",
    "\n",
    "        self.train = train\n",
    "        # We are not interested in sorting the popularity value,\n",
    "        # but to order the items according to it\n",
    "        self.popular_items = item_popularity.sort_values(by='rating',ascending=False).index\n",
    "    \n",
    "    \n",
    "    def recommend(self, user_id, at=25, remove_seen=True):\n",
    "\n",
    "        if remove_seen:\n",
    "            seen_items = self.train[self.train.uid==user_id].mid.values\n",
    "            unseen_items_mask = np.in1d(self.popular_items, seen_items, assume_unique=True, invert = True)\n",
    "            unseen_items = self.popular_items[unseen_items_mask]\n",
    "            recommended_items = unseen_items[0:at]\n",
    "\n",
    "        else:\n",
    "            recommended_items = self.popular_items[0:at]\n",
    "    \n",
    "        return recommended_items"
   ]
  },
  {
   "cell_type": "code",
   "execution_count": 18,
   "id": "9e8d7861",
   "metadata": {
    "execution": {
     "iopub.execute_input": "2023-03-27T07:26:06.159242Z",
     "iopub.status.busy": "2023-03-27T07:26:06.158715Z",
     "iopub.status.idle": "2023-03-27T07:26:06.243714Z",
     "shell.execute_reply": "2023-03-27T07:26:06.242294Z"
    },
    "papermill": {
     "duration": 0.118416,
     "end_time": "2023-03-27T07:26:06.246575",
     "exception": false,
     "start_time": "2023-03-27T07:26:06.128159",
     "status": "completed"
    },
    "tags": []
   },
   "outputs": [],
   "source": [
    "TOP_model_comp = TopPopRecommender()\n",
    "TOP_model_comp.fit(train_complete)"
   ]
  },
  {
   "cell_type": "code",
   "execution_count": 19,
   "id": "4277e5d1",
   "metadata": {
    "execution": {
     "iopub.execute_input": "2023-03-27T07:26:06.305336Z",
     "iopub.status.busy": "2023-03-27T07:26:06.304593Z",
     "iopub.status.idle": "2023-03-27T07:26:06.409484Z",
     "shell.execute_reply": "2023-03-27T07:26:06.407864Z"
    },
    "papermill": {
     "duration": 0.137217,
     "end_time": "2023-03-27T07:26:06.412321",
     "exception": false,
     "start_time": "2023-03-27T07:26:06.275104",
     "status": "completed"
    },
    "tags": []
   },
   "outputs": [],
   "source": [
    "TOP_model = TopPopRecommender()\n",
    "TOP_model.fit(train)"
   ]
  },
  {
   "cell_type": "markdown",
   "id": "6a694553",
   "metadata": {
    "papermill": {
     "duration": 0.027558,
     "end_time": "2023-03-27T07:26:06.469695",
     "exception": false,
     "start_time": "2023-03-27T07:26:06.442137",
     "status": "completed"
    },
    "tags": []
   },
   "source": [
    "# 1st Approach: User and item based CF\n",
    "We first attempted to approach the problem using a Neighbourhood based Collaborative Filtering Method. We evaluated our training and validation sets with both user based and item based models and they both performed the same.\n",
    "Also, to try to handle the cold start problem, meaning when a user has little ratings, we combined the user based model with a top popular recommender. Then, if a user has less ratings than a certain threshold, instead of getting personalized recommendations they would get the top popular movies recommended."
   ]
  },
  {
   "cell_type": "code",
   "execution_count": 20,
   "id": "97cfc0a9",
   "metadata": {
    "execution": {
     "iopub.execute_input": "2023-03-27T07:26:06.527274Z",
     "iopub.status.busy": "2023-03-27T07:26:06.526820Z",
     "iopub.status.idle": "2023-03-27T07:26:06.551277Z",
     "shell.execute_reply": "2023-03-27T07:26:06.550284Z"
    },
    "papermill": {
     "duration": 0.0561,
     "end_time": "2023-03-27T07:26:06.553463",
     "exception": false,
     "start_time": "2023-03-27T07:26:06.497363",
     "status": "completed"
    },
    "tags": []
   },
   "outputs": [],
   "source": [
    "class CollaborativeFiltering:\n",
    "    \"\"\" Collaborative filtering using a custom sim(u,u'). \"\"\"\n",
    "    \n",
    "    def __init__(self, _type = 'item'):\n",
    "        \"\"\" Constructor \"\"\"\n",
    "        self._type = _type\n",
    "    \n",
    "    def fit(self,df_train,shrink = 10):\n",
    "        \"\"\" Prepare data structures for estimation. Similarity matrix for users \"\"\"\n",
    "        print(\"Learning...\")\n",
    "        self.df_train=df_train\n",
    "        self.urm_train = pd.pivot_table(df_train[['uid','mid','rating']],columns='mid',index='uid',values='rating',fill_value=0).values\n",
    "        self.index2item_id = np.array(pd.pivot_table(df_train[['uid','mid','rating']],columns='uid',index='mid',values='rating',fill_value=0).index)\n",
    "        self.index2user_id = np.array(pd.pivot_table(df_train[['uid','mid','rating']],columns='mid',index='uid',values='rating',fill_value=0).index)\n",
    "        \n",
    "        self.item_id2index = {}\n",
    "        for i in range(len(self.index2item_id)):\n",
    "            self.item_id2index[self.index2item_id[i]] = i\n",
    "            \n",
    "        self.user_id2index = {}\n",
    "        for i in range(len(self.index2user_id)):\n",
    "            self.user_id2index[self.index2user_id[i]] = i\n",
    "            \n",
    "            \n",
    "        self.num_items = len(self.index2item_id)\n",
    "        self.num_users = len(self.index2user_id)\n",
    "        self.movie_id2title = {}\n",
    "        for row in df_train[['mid','movie_name']].drop_duplicates().values:\n",
    "            self.movie_id2title[row[0]] = row[1]\n",
    "        \n",
    "        \n",
    "        if(self._type =='user'): # USER BASED\n",
    "            print(\"Computing user similarities\")\n",
    "            self.sim_matrix = np.zeros((self.num_users,self.num_users))   \n",
    "            \n",
    "            user_norms = np.sqrt(np.power(self.urm_train,2).sum(axis=1)).ravel()\n",
    "            for user_index in tqdm(range(self.num_users)):\n",
    "                # compute cosine distance\n",
    "                numerator_vector = self.urm_train[user_index].dot(self.urm_train.T).ravel()\n",
    "                denominator_vector = user_norms[user_index] * user_norms + shrink + 1e-6\n",
    "\n",
    "                similarity_vector = numerator_vector/denominator_vector\n",
    "                self.sim_matrix[user_index,:] = similarity_vector\n",
    "            \n",
    "            \n",
    "        elif(self._type=='item'): ## ITEM BASED\n",
    "            print(\"Computing item similarities\")\n",
    "            self.sim_matrix = np.zeros((self.num_items,self.num_items))\n",
    "            item_norms = np.sqrt(np.power(self.urm_train,2).sum(axis=0)).ravel()\n",
    "            for item_index in tqdm(range(self.num_items)):\n",
    "                # compute cosine distance\n",
    "                numerator_vector = self.urm_train.T[item_index].dot(self.urm_train).ravel()\n",
    "                denominator_vector = item_norms[item_index] * item_norms + shrink + 1e-6\n",
    "\n",
    "                similarity_vector = numerator_vector/denominator_vector\n",
    "                self.sim_matrix[item_index,:] = similarity_vector\n",
    "                \n",
    "    def predict_score(self, user_id, movie_id):\n",
    "        if movie_id not in self.item_id2index:\n",
    "            return self.df_train.rating.mean()\n",
    "            \n",
    "        user_index = self.user_id2index[user_id]\n",
    "        item_index = self.item_id2index[movie_id]\n",
    "        \n",
    "        if(self._type=='user'):\n",
    "            rating_num = self.urm_train.T[item_index,:].dot(self.sim_matrix[user_index,:])\n",
    "            rating_den = np.sum((self.urm_train.T[item_index,:]>0).dot(self.sim_matrix[user_index,:]))\n",
    "        elif(self._type=='item'):\n",
    "            rating_num = self.urm_train[user_index,:].dot(self.sim_matrix[item_index,:])\n",
    "            rating_den = np.sum((self.urm_train[user_index,:]>0).dot(self.sim_matrix[item_index,:]))\n",
    "            \n",
    "        if rating_den == 0:\n",
    "            return self.df_train.rating.mean()\n",
    "        else:\n",
    "            return rating_num/rating_den\n",
    "        \n",
    "    def predict_top(self, user_id, at=None, remove_seen=True):\n",
    "        '''Given a user_id predict its top AT items'''\n",
    "        seen_items = self.df_train[self.df_train.uid==user_id].mid.values\n",
    "        unseen_items = set(self.df_train.mid.values) - set(seen_items)\n",
    "\n",
    "        predictions = [(item_id, self.predict_score(user_id,item_id)) for item_id in unseen_items]\n",
    "        \n",
    "        if at is not None:\n",
    "            sorted_predictions = sorted(predictions, key=lambda x: x[1],reverse = True)[:at]\n",
    "        else:\n",
    "            sorted_predictions = sorted(predictions, key=lambda x: x[1],reverse = True)\n",
    "        return sorted_predictions"
   ]
  },
  {
   "cell_type": "markdown",
   "id": "7d85dc9b",
   "metadata": {
    "papermill": {
     "duration": 0.029608,
     "end_time": "2023-03-27T07:26:06.610941",
     "exception": false,
     "start_time": "2023-03-27T07:26:06.581333",
     "status": "completed"
    },
    "tags": []
   },
   "source": [
    "## Train the models"
   ]
  },
  {
   "cell_type": "markdown",
   "id": "074c3eae",
   "metadata": {
    "papermill": {
     "duration": 0.028375,
     "end_time": "2023-03-27T07:26:06.668132",
     "exception": false,
     "start_time": "2023-03-27T07:26:06.639757",
     "status": "completed"
    },
    "tags": []
   },
   "source": [
    "### User based"
   ]
  },
  {
   "cell_type": "code",
   "execution_count": 21,
   "id": "e0a1be37",
   "metadata": {
    "execution": {
     "iopub.execute_input": "2023-03-27T07:26:06.726244Z",
     "iopub.status.busy": "2023-03-27T07:26:06.724845Z",
     "iopub.status.idle": "2023-03-27T07:32:21.769611Z",
     "shell.execute_reply": "2023-03-27T07:32:21.767917Z"
    },
    "papermill": {
     "duration": 375.076498,
     "end_time": "2023-03-27T07:32:21.772273",
     "exception": false,
     "start_time": "2023-03-27T07:26:06.695775",
     "status": "completed"
    },
    "tags": []
   },
   "outputs": [
    {
     "name": "stdout",
     "output_type": "stream",
     "text": [
      "Learning...\n",
      "Computing user similarities\n"
     ]
    },
    {
     "name": "stderr",
     "output_type": "stream",
     "text": [
      "100%|██████████| 6040/6040 [06:05<00:00, 16.54it/s]\n"
     ]
    }
   ],
   "source": [
    "userCF_model = CollaborativeFiltering(_type='user')\n",
    "userCF_model.fit(train)"
   ]
  },
  {
   "cell_type": "markdown",
   "id": "8733aef8",
   "metadata": {
    "papermill": {
     "duration": 0.214539,
     "end_time": "2023-03-27T07:32:22.199965",
     "exception": false,
     "start_time": "2023-03-27T07:32:21.985426",
     "status": "completed"
    },
    "tags": []
   },
   "source": [
    "### Item based"
   ]
  },
  {
   "cell_type": "code",
   "execution_count": 22,
   "id": "77cec274",
   "metadata": {
    "execution": {
     "iopub.execute_input": "2023-03-27T07:32:22.630693Z",
     "iopub.status.busy": "2023-03-27T07:32:22.630292Z",
     "iopub.status.idle": "2023-03-27T07:34:05.269377Z",
     "shell.execute_reply": "2023-03-27T07:34:05.267930Z"
    },
    "papermill": {
     "duration": 102.859459,
     "end_time": "2023-03-27T07:34:05.272223",
     "exception": false,
     "start_time": "2023-03-27T07:32:22.412764",
     "status": "completed"
    },
    "tags": []
   },
   "outputs": [
    {
     "name": "stdout",
     "output_type": "stream",
     "text": [
      "Learning...\n",
      "Computing item similarities\n"
     ]
    },
    {
     "name": "stderr",
     "output_type": "stream",
     "text": [
      "100%|██████████| 3669/3669 [01:33<00:00, 39.36it/s]\n"
     ]
    }
   ],
   "source": [
    "itemCF_model = CollaborativeFiltering(_type='item')\n",
    "itemCF_model.fit(train)"
   ]
  },
  {
   "cell_type": "markdown",
   "id": "3284696d",
   "metadata": {
    "papermill": {
     "duration": 0.270906,
     "end_time": "2023-03-27T07:34:05.877103",
     "exception": false,
     "start_time": "2023-03-27T07:34:05.606197",
     "status": "completed"
    },
    "tags": []
   },
   "source": [
    "## Evaluate the models\n",
    "We start by defining some functions to help us evaluate the models"
   ]
  },
  {
   "cell_type": "code",
   "execution_count": 23,
   "id": "93be04c7",
   "metadata": {
    "execution": {
     "iopub.execute_input": "2023-03-27T07:34:06.416379Z",
     "iopub.status.busy": "2023-03-27T07:34:06.415936Z",
     "iopub.status.idle": "2023-03-27T07:34:06.426613Z",
     "shell.execute_reply": "2023-03-27T07:34:06.425355Z"
    },
    "papermill": {
     "duration": 0.284111,
     "end_time": "2023-03-27T07:34:06.429357",
     "exception": false,
     "start_time": "2023-03-27T07:34:06.145246",
     "status": "completed"
    },
    "tags": []
   },
   "outputs": [],
   "source": [
    "def compute_rmse(y_pred, y_true):\n",
    "    \"\"\" Compute Root Mean Squared Error. \"\"\"\n",
    "    return np.sqrt(np.mean(np.power(y_pred - y_true, 2)))\n",
    "\n",
    "def precision(recommended_items, relevant_items):\n",
    "    is_relevant = np.in1d(recommended_items, relevant_items, assume_unique=True)\n",
    "    precision_score = np.sum(is_relevant, dtype=np.float32) / len(is_relevant)\n",
    "    \n",
    "    return precision_score\n",
    "\n",
    "def recall(recommended_items, relevant_items):  \n",
    "    is_relevant = np.in1d(recommended_items, relevant_items, assume_unique=True)\n",
    "    recall_score = np.sum(is_relevant, dtype=np.float32) / relevant_items.shape[0]\n",
    "    \n",
    "    return recall_score\n",
    "\n",
    "def AP(recommended_items, relevant_items):\n",
    "   \n",
    "    is_relevant = np.in1d(recommended_items, relevant_items, assume_unique=True)\n",
    "    # Cumulative sum: precision at 1, at 2, at 3 ...\n",
    "    p_at_k = is_relevant * np.cumsum(is_relevant, dtype=np.float32) / (1 + np.arange(is_relevant.shape[0]))\n",
    "    ap_score = np.sum(p_at_k) / np.min([relevant_items.shape[0], is_relevant.shape[0]])\n",
    "\n",
    "    return ap_score"
   ]
  },
  {
   "cell_type": "code",
   "execution_count": 24,
   "id": "d769d04d",
   "metadata": {
    "execution": {
     "iopub.execute_input": "2023-03-27T07:34:06.998204Z",
     "iopub.status.busy": "2023-03-27T07:34:06.997622Z",
     "iopub.status.idle": "2023-03-27T07:34:07.010915Z",
     "shell.execute_reply": "2023-03-27T07:34:07.009927Z"
    },
    "papermill": {
     "duration": 0.316742,
     "end_time": "2023-03-27T07:34:07.013552",
     "exception": false,
     "start_time": "2023-03-27T07:34:06.696810",
     "status": "completed"
    },
    "tags": []
   },
   "outputs": [],
   "source": [
    "def predict_CF_TOP(uid, n_ratings, CF_model, TOP_model, thres=40):\n",
    "    if n_ratings < thres:\n",
    "        relevant_items = TOP_model.recommend(uid, at=25)\n",
    "    else:\n",
    "        relevant_items_top = TOP_model.recommend(uid, at=10)\n",
    "        relevant_items = list(relevant_items_top)\n",
    "        relevant_items_filt = CF_model.predict_top(uid, at=15)\n",
    "        relevant_items.extend(relevant_items_filt)\n",
    "        \n",
    "    return relevant_items\n",
    "\n",
    "def evaluate_CF(train, test, CF_model, TOP_model, at=25, thr_relevant=4):\n",
    "    \n",
    "    cumulative_precision = 0.0\n",
    "    cumulative_recall = 0.0\n",
    "    cumulative_AP = 0.0\n",
    "    \n",
    "    num_eval = 0\n",
    "\n",
    "    for user_id in tqdm(test.uid.unique()):\n",
    "\n",
    "        relevant_items = test[(test.uid==user_id )&( test.rating>=thr_relevant)].mid.values\n",
    "        \n",
    "        if len(relevant_items)>0:\n",
    "            n_ratings = train[train['uid']==user_id].movie_name.count()\n",
    "            recommended_items = predict_CF_TOP(user_id, n_ratings, CF_model, TOP_model)\n",
    "            num_eval+=1\n",
    "\n",
    "            cumulative_precision += precision(recommended_items, relevant_items)\n",
    "            cumulative_recall += recall(recommended_items, relevant_items)\n",
    "            cumulative_AP += AP(recommended_items, relevant_items)\n",
    "            \n",
    "    cumulative_precision /= num_eval\n",
    "    cumulative_recall /= num_eval\n",
    "    MAP = cumulative_AP / num_eval\n",
    "    \n",
    "    print(\"Recommender results are: Precision = {:.4f}, Recall = {:.4f}, MAP = {:.4f}\".format(\n",
    "        cumulative_precision, cumulative_recall, MAP)) "
   ]
  },
  {
   "cell_type": "markdown",
   "id": "0e0cb20e",
   "metadata": {
    "papermill": {
     "duration": 0.269286,
     "end_time": "2023-03-27T07:34:07.631622",
     "exception": false,
     "start_time": "2023-03-27T07:34:07.362336",
     "status": "completed"
    },
    "tags": []
   },
   "source": [
    "### Evaluate User CF model"
   ]
  },
  {
   "cell_type": "code",
   "execution_count": 25,
   "id": "bd8605de",
   "metadata": {
    "execution": {
     "iopub.execute_input": "2023-03-27T07:34:08.179101Z",
     "iopub.status.busy": "2023-03-27T07:34:08.178417Z",
     "iopub.status.idle": "2023-03-27T07:47:25.500429Z",
     "shell.execute_reply": "2023-03-27T07:47:25.499143Z"
    },
    "papermill": {
     "duration": 797.596278,
     "end_time": "2023-03-27T07:47:25.503543",
     "exception": false,
     "start_time": "2023-03-27T07:34:07.907265",
     "status": "completed"
    },
    "tags": []
   },
   "outputs": [
    {
     "name": "stderr",
     "output_type": "stream",
     "text": [
      "  0%|          | 0/5887 [00:00<?, ?it/s]/opt/conda/lib/python3.7/site-packages/numpy/lib/arraysetops.py:586: VisibleDeprecationWarning: Creating an ndarray from ragged nested sequences (which is a list-or-tuple of lists-or-tuples-or ndarrays with different lengths or shapes) is deprecated. If you meant to do this, you must specify 'dtype=object' when creating the ndarray.\n",
      "  ar1 = np.asarray(ar1).ravel()\n",
      "100%|██████████| 5887/5887 [13:17<00:00,  7.38it/s]"
     ]
    },
    {
     "name": "stdout",
     "output_type": "stream",
     "text": [
      "Recommender results are: Precision = 0.0252, Recall = 0.1097, MAP = 0.0369\n"
     ]
    },
    {
     "name": "stderr",
     "output_type": "stream",
     "text": [
      "\n"
     ]
    }
   ],
   "source": [
    "evaluate_CF(train, val, userCF_model, TOP_model)"
   ]
  },
  {
   "cell_type": "markdown",
   "id": "e71f9cc9",
   "metadata": {
    "papermill": {
     "duration": 0.581466,
     "end_time": "2023-03-27T07:47:26.595080",
     "exception": false,
     "start_time": "2023-03-27T07:47:26.013614",
     "status": "completed"
    },
    "tags": []
   },
   "source": [
    "### Evaluate Item CF model"
   ]
  },
  {
   "cell_type": "code",
   "execution_count": 26,
   "id": "acaaad60",
   "metadata": {
    "execution": {
     "iopub.execute_input": "2023-03-27T07:47:27.612617Z",
     "iopub.status.busy": "2023-03-27T07:47:27.612195Z",
     "iopub.status.idle": "2023-03-27T08:00:51.512259Z",
     "shell.execute_reply": "2023-03-27T08:00:51.510821Z"
    },
    "papermill": {
     "duration": 804.41634,
     "end_time": "2023-03-27T08:00:51.515414",
     "exception": false,
     "start_time": "2023-03-27T07:47:27.099074",
     "status": "completed"
    },
    "tags": []
   },
   "outputs": [
    {
     "name": "stderr",
     "output_type": "stream",
     "text": [
      "100%|██████████| 5887/5887 [13:23<00:00,  7.32it/s]"
     ]
    },
    {
     "name": "stdout",
     "output_type": "stream",
     "text": [
      "Recommender results are: Precision = 0.0252, Recall = 0.1097, MAP = 0.0369\n"
     ]
    },
    {
     "name": "stderr",
     "output_type": "stream",
     "text": [
      "\n"
     ]
    }
   ],
   "source": [
    "evaluate_CF(train, val, itemCF_model, TOP_model)"
   ]
  },
  {
   "cell_type": "markdown",
   "id": "c6a5689c",
   "metadata": {
    "papermill": {
     "duration": 0.834116,
     "end_time": "2023-03-27T08:00:53.102755",
     "exception": false,
     "start_time": "2023-03-27T08:00:52.268639",
     "status": "completed"
    },
    "tags": []
   },
   "source": [
    "## Create submissions with the models trained with the whole training set"
   ]
  },
  {
   "cell_type": "code",
   "execution_count": 27,
   "id": "12df8e80",
   "metadata": {
    "execution": {
     "iopub.execute_input": "2023-03-27T08:00:54.685722Z",
     "iopub.status.busy": "2023-03-27T08:00:54.685308Z",
     "iopub.status.idle": "2023-03-27T08:00:54.690464Z",
     "shell.execute_reply": "2023-03-27T08:00:54.689464Z"
    },
    "papermill": {
     "duration": 0.840871,
     "end_time": "2023-03-27T08:00:54.692739",
     "exception": false,
     "start_time": "2023-03-27T08:00:53.851868",
     "status": "completed"
    },
    "tags": []
   },
   "outputs": [],
   "source": [
    "CREATE_SUBMISSION_USER = False\n",
    "CREATE_SUBMISSION_ITEM = False"
   ]
  },
  {
   "cell_type": "code",
   "execution_count": 28,
   "id": "0d0fba99",
   "metadata": {
    "execution": {
     "iopub.execute_input": "2023-03-27T08:00:56.271083Z",
     "iopub.status.busy": "2023-03-27T08:00:56.270645Z",
     "iopub.status.idle": "2023-03-27T08:00:56.281431Z",
     "shell.execute_reply": "2023-03-27T08:00:56.280398Z"
    },
    "papermill": {
     "duration": 0.837471,
     "end_time": "2023-03-27T08:00:56.284050",
     "exception": false,
     "start_time": "2023-03-27T08:00:55.446579",
     "status": "completed"
    },
    "tags": []
   },
   "outputs": [],
   "source": [
    "import csv\n",
    "from tqdm import tqdm\n",
    "\n",
    "if CREATE_SUBMISSION_USER:\n",
    "    userCF_model_complete = CollaborativeFiltering(_type='user')\n",
    "    userCF_model_complete.fit(train_complete)\n",
    "    # open the file in the write mode\n",
    "    with open('solution_userCF.csv', 'w',encoding='UTF8') as f:\n",
    "        # create the csv writer\n",
    "        writer = csv.writer(f)\n",
    "        # write a row to the csv file\n",
    "        writer.writerow(['user_id', 'prediction'])\n",
    "        for user_id in tqdm(test.uid.unique()):\n",
    "            n_ratings = train_complete[train_complete['uid']==user_id].movie_name.count()\n",
    "            relevant_items = predict_CF_TOP(user_id, n_ratings, userCF_model_complete, TOP_model_comp)\n",
    "            list_relevants = ' '.join([str(elem) for elem in relevant_items])\n",
    "            writer.writerow([str(user_id),list_relevants])\n",
    "\n",
    "if CREATE_SUBMISSION_ITEM:\n",
    "    itemCF_model_complete = CollaborativeFiltering(_type='item')\n",
    "    itemCF_model_complete.fit(train_complete)\n",
    "    # open the file in the write mode\n",
    "    with open('solution_itemCF.csv', 'w',encoding='UTF8') as f:\n",
    "        # create the csv writer\n",
    "        writer = csv.writer(f)\n",
    "        # write a row to the csv file\n",
    "        writer.writerow(['user_id', 'prediction'])\n",
    "        for user_id in tqdm(test.uid.unique()):\n",
    "            n_ratings = train_complete[train_complete['uid']==user_id].movie_name.count()\n",
    "            relevant_items = predict_CF_TOP(user_id, n_ratings, itemCF_model_complete, TOP_model_comp)\n",
    "            list_relevants = ' '.join([str(elem) for elem in relevant_items])\n",
    "            writer.writerow([str(user_id),list_relevants])"
   ]
  },
  {
   "cell_type": "markdown",
   "id": "fa5a0eaf",
   "metadata": {
    "papermill": {
     "duration": 0.821205,
     "end_time": "2023-03-27T08:00:57.851938",
     "exception": false,
     "start_time": "2023-03-27T08:00:57.030733",
     "status": "completed"
    },
    "tags": []
   },
   "source": [
    "The baseline set by the top popular recommender wasn't outperformed by either of our two neighbourhood based models."
   ]
  },
  {
   "cell_type": "markdown",
   "id": "5716e322",
   "metadata": {
    "papermill": {
     "duration": 0.817228,
     "end_time": "2023-03-27T08:00:59.421847",
     "exception": false,
     "start_time": "2023-03-27T08:00:58.604619",
     "status": "completed"
    },
    "tags": []
   },
   "source": [
    "# 2nd Approach: Factorization Machines\n",
    "As a second approach to solving the problem we try using a Factorization Machine model.\n",
    "\n",
    "**Regression approach**: \n",
    "Initially we tries approaching the problem as a regression on the rating of the movie.\n",
    "We started by trying out different features and found that using the movie genres, user occupation and user gender gave the best result in the validation set.\n",
    "\n",
    "However, by inspecting what specific users were being recommended given the last 10 movies they had seen and the ratings that they were giving, we saw that users that give lower ratings overall get recommendations that don't suit them as much. Therefore, we tried addinf the normalized mean user rating to the model.\n",
    "\n",
    "Following the regression approach we weren't able to outperform the previously trained neighbourhood based model, so we changed our strategy.\n",
    "\n",
    "**Classification approach**: \n",
    "Instead of treating the problem as a regression one, we performed binary classification trying to classify movies as relevant or not relevant for the user.\n",
    "For this approach we classified (user, movie) pairs as relevant if the rating given by the user was a 4 or higher, otherwise the movie is not considered relevant for the user. This model was trained using the Binary Crossentropy as a loss function."
   ]
  },
  {
   "cell_type": "markdown",
   "id": "133229ab",
   "metadata": {
    "papermill": {
     "duration": 0.817589,
     "end_time": "2023-03-27T08:01:00.990897",
     "exception": false,
     "start_time": "2023-03-27T08:01:00.173308",
     "status": "completed"
    },
    "tags": []
   },
   "source": [
    "## Regression FM approach"
   ]
  },
  {
   "cell_type": "markdown",
   "id": "f8f7b5ec",
   "metadata": {
    "papermill": {
     "duration": 0.822156,
     "end_time": "2023-03-27T08:01:02.577544",
     "exception": false,
     "start_time": "2023-03-27T08:01:01.755388",
     "status": "completed"
    },
    "tags": []
   },
   "source": [
    "### Define input layers"
   ]
  },
  {
   "cell_type": "code",
   "execution_count": 29,
   "id": "03ab2fbe",
   "metadata": {
    "execution": {
     "iopub.execute_input": "2023-03-27T08:01:04.156277Z",
     "iopub.status.busy": "2023-03-27T08:01:04.155429Z",
     "iopub.status.idle": "2023-03-27T08:01:04.165095Z",
     "shell.execute_reply": "2023-03-27T08:01:04.164172Z"
    },
    "papermill": {
     "duration": 0.837946,
     "end_time": "2023-03-27T08:01:04.167682",
     "exception": false,
     "start_time": "2023-03-27T08:01:03.329736",
     "status": "completed"
    },
    "tags": []
   },
   "outputs": [],
   "source": [
    "import tensorflow.keras.backend as K\n",
    "from tensorflow.keras.models import Model\n",
    "from tensorflow.keras.layers import *\n",
    "\n",
    "def define_input_layers_regression():\n",
    "    # encoded features\n",
    "    gender_input = Input((1,), name='input_gender')\n",
    "    mean_uid_input = Input((1,), name='input_mean_uid')\n",
    "    num_inputs = [gender_input, mean_uid_input]\n",
    "    # single level categorical features\n",
    "    uid_input = Input((1,), name='input_uid') #user_id\n",
    "    mid_input = Input((1,), name='input_mid')  #movie_id\n",
    "    occ_input = Input((1,), name='input_occ')\n",
    "    cat_sl_inputs = [uid_input, mid_input, occ_input]\n",
    "\n",
    "    # multi level categorical features (with 3 genres at most)\n",
    "    genre_input = Input((3,), name='input_genre')\n",
    "    cat_ml_inputs = [genre_input]\n",
    "\n",
    "    inputs = num_inputs + cat_sl_inputs + cat_ml_inputs\n",
    "    \n",
    "    return inputs"
   ]
  },
  {
   "cell_type": "markdown",
   "id": "e6bd9832",
   "metadata": {
    "papermill": {
     "duration": 0.816775,
     "end_time": "2023-03-27T08:01:05.734364",
     "exception": false,
     "start_time": "2023-03-27T08:01:04.917589",
     "status": "completed"
    },
    "tags": []
   },
   "source": [
    "### 1st order FM"
   ]
  },
  {
   "cell_type": "code",
   "execution_count": 30,
   "id": "b077ed41",
   "metadata": {
    "execution": {
     "iopub.execute_input": "2023-03-27T08:01:07.294311Z",
     "iopub.status.busy": "2023-03-27T08:01:07.293352Z",
     "iopub.status.idle": "2023-03-27T08:01:07.303966Z",
     "shell.execute_reply": "2023-03-27T08:01:07.303011Z"
    },
    "papermill": {
     "duration": 0.830062,
     "end_time": "2023-03-27T08:01:07.306723",
     "exception": false,
     "start_time": "2023-03-27T08:01:06.476661",
     "status": "completed"
    },
    "tags": []
   },
   "outputs": [],
   "source": [
    "def Tensor_Mean_Pooling(name = 'mean_pooling', keepdims = False):\n",
    "    return Lambda(lambda x: K.mean(x, axis = 1, keepdims=keepdims), name = name)\n",
    "\n",
    "def fm_1d_regression(inputs, n_uid, n_mid, n_occ, n_genre):\n",
    "    \n",
    "    # user embedding + movie embedding + genre embedding + gender embedding\n",
    "    gender_input, mean_uid_input, uid_input, mid_input, occ_input, genre_input = inputs\n",
    "    \n",
    "    # all tensors are reshape to (None, 1)\n",
    "    num_dense_1d = [Dense(1, name = 'num_dense_1d_gender')(gender_input),\n",
    "                   Dense(1, name = 'num_dense_1d_mean_uid')(mean_uid_input)]\n",
    "    cat_sl_embed_1d = [Embedding(n_uid + 1, 1, name = 'cat_embed_1d_uid')(uid_input),\n",
    "                        Embedding(n_mid + 1, 1, name = 'cat_embed_1d_mid')(mid_input),\n",
    "                          Embedding(n_occ + 1, 1, name = 'cat_embed_1d_occ')(occ_input)]\n",
    "    cat_ml_embed_1d = [Embedding(n_genre + 1, 1, mask_zero=True, name = 'cat_embed_1d_genre')(genre_input)]\n",
    "\n",
    "    cat_sl_embed_1d = [Reshape((1,))(i) for i in cat_sl_embed_1d]\n",
    "    cat_ml_embed_1d = [Tensor_Mean_Pooling(name = 'embed_1d_mean')(i) for i in cat_ml_embed_1d]\n",
    "    \n",
    "    # add all tensors\n",
    "    y_fm_1d = Add(name = 'fm_1d_output')(num_dense_1d + cat_sl_embed_1d + cat_ml_embed_1d)\n",
    "    \n",
    "    return y_fm_1d"
   ]
  },
  {
   "cell_type": "markdown",
   "id": "1a080041",
   "metadata": {
    "papermill": {
     "duration": 0.815653,
     "end_time": "2023-03-27T08:01:08.866880",
     "exception": false,
     "start_time": "2023-03-27T08:01:08.051227",
     "status": "completed"
    },
    "tags": []
   },
   "source": [
    "### 2nd order FM"
   ]
  },
  {
   "cell_type": "code",
   "execution_count": 31,
   "id": "965602bc",
   "metadata": {
    "execution": {
     "iopub.execute_input": "2023-03-27T08:01:10.452932Z",
     "iopub.status.busy": "2023-03-27T08:01:10.452032Z",
     "iopub.status.idle": "2023-03-27T08:01:10.464433Z",
     "shell.execute_reply": "2023-03-27T08:01:10.463486Z"
    },
    "papermill": {
     "duration": 0.846218,
     "end_time": "2023-03-27T08:01:10.467112",
     "exception": false,
     "start_time": "2023-03-27T08:01:09.620894",
     "status": "completed"
    },
    "tags": []
   },
   "outputs": [],
   "source": [
    "def fm_2d_regression(inputs, n_uid, n_mid, n_occ, n_genre, k):\n",
    "    \n",
    "    gender_input, mean_uid_input, uid_input, mid_input, occ_input, genre_input = inputs\n",
    "    \n",
    "    num_dense_2d = [Dense(k, name = 'num_dense_2d_gender')(gender_input),\n",
    "                   Dense(k, name = 'num_dense_2d_mean_uid')(mean_uid_input)] # shape (None, k)\n",
    "    num_dense_2d = [Reshape((1,k))(i) for i in num_dense_2d] # shape (None, 1, k)\n",
    "\n",
    "    cat_sl_embed_2d = [Embedding(n_uid + 1, k, name = 'cat_embed_2d_uid')(uid_input), \n",
    "                       Embedding(n_mid + 1, k, name = 'cat_embed_2d_mid')(mid_input),\n",
    "                        Embedding(n_occ + 1, k, name = 'cat_embed_2d_occ')(occ_input)] # shape (None, 1, k)\n",
    "    \n",
    "    cat_ml_embed_2d = [Embedding(n_genre + 1, k, name = 'cat_embed_2d_genre')(genre_input)] # shape (None, 3, k)\n",
    "    cat_ml_embed_2d = [Tensor_Mean_Pooling(name = 'cat_embed_2d_genure_mean', keepdims=True)(i) for i in cat_ml_embed_2d] # shape (None, 1, k)\n",
    "\n",
    "    # concatenate all 2d embed layers => (None, ?, k)\n",
    "    embed_2d = Concatenate(axis=1, name = 'concat_embed_2d')(num_dense_2d + cat_sl_embed_2d + cat_ml_embed_2d)\n",
    "\n",
    "    # calcuate the interactions by simplication\n",
    "    # sum of (x1*x2) = sum of (0.5*[(xi)^2 - (xi^2)])\n",
    "    tensor_sum = Lambda(lambda x: K.sum(x, axis = 1), name = 'sum_of_tensors')\n",
    "    tensor_square = Lambda(lambda x: K.square(x), name = 'square_of_tensors')\n",
    "\n",
    "    sum_of_embed = tensor_sum(embed_2d)\n",
    "    square_of_embed = tensor_square(embed_2d)\n",
    "\n",
    "    square_of_sum = Multiply()([sum_of_embed, sum_of_embed])\n",
    "    sum_of_square = tensor_sum(square_of_embed)\n",
    "\n",
    "    sub = Subtract()([square_of_sum, sum_of_square])\n",
    "    sub = Lambda(lambda x: x*0.5)(sub)\n",
    "    y_fm_2d = Reshape((1,), name = 'fm_2d_output')(tensor_sum(sub))\n",
    "    \n",
    "    return y_fm_2d, embed_2d"
   ]
  },
  {
   "cell_type": "markdown",
   "id": "247873f7",
   "metadata": {
    "papermill": {
     "duration": 0.74701,
     "end_time": "2023-03-27T08:01:12.034105",
     "exception": false,
     "start_time": "2023-03-27T08:01:11.287095",
     "status": "completed"
    },
    "tags": []
   },
   "source": [
    "### Put them together"
   ]
  },
  {
   "cell_type": "code",
   "execution_count": 32,
   "id": "07947f8f",
   "metadata": {
    "execution": {
     "iopub.execute_input": "2023-03-27T08:01:13.626949Z",
     "iopub.status.busy": "2023-03-27T08:01:13.626506Z",
     "iopub.status.idle": "2023-03-27T08:01:13.632921Z",
     "shell.execute_reply": "2023-03-27T08:01:13.631944Z"
    },
    "papermill": {
     "duration": 0.827518,
     "end_time": "2023-03-27T08:01:13.635150",
     "exception": false,
     "start_time": "2023-03-27T08:01:12.807632",
     "status": "completed"
    },
    "tags": []
   },
   "outputs": [],
   "source": [
    "def fm_model_regression(n_uid, n_mid, n_genre, n_occ, k):\n",
    "    \n",
    "    inputs = define_input_layers_regression()\n",
    "    \n",
    "    y_fm_1d = fm_1d_regression(inputs, n_uid, n_mid, n_occ, n_genre)\n",
    "    y_fm_2d, embed_2d = fm_2d_regression(inputs, n_uid, n_mid, n_occ, n_genre, k)\n",
    "    \n",
    "    \n",
    "    # combinded deep and fm parts\n",
    "    y = Concatenate()([y_fm_1d, y_fm_2d])\n",
    "    y = Dense(1, name = 'fm_output')(y)\n",
    "    \n",
    "    fm_model = Model(inputs, y)\n",
    "    \n",
    "    return fm_model"
   ]
  },
  {
   "cell_type": "code",
   "execution_count": 33,
   "id": "29fd888d",
   "metadata": {
    "execution": {
     "iopub.execute_input": "2023-03-27T08:01:15.293757Z",
     "iopub.status.busy": "2023-03-27T08:01:15.293352Z",
     "iopub.status.idle": "2023-03-27T08:01:15.301859Z",
     "shell.execute_reply": "2023-03-27T08:01:15.300907Z"
    },
    "papermill": {
     "duration": 0.779668,
     "end_time": "2023-03-27T08:01:15.304410",
     "exception": false,
     "start_time": "2023-03-27T08:01:14.524742",
     "status": "completed"
    },
    "tags": []
   },
   "outputs": [],
   "source": [
    "params_regression = {\n",
    "    'n_uid': ratings.uid.max(),\n",
    "    'n_mid': ratings.mid.max(),\n",
    "    'n_occ': ratings.occupation.max(),\n",
    "    'n_genre': 14,\n",
    "    'k': 30\n",
    "}"
   ]
  },
  {
   "cell_type": "markdown",
   "id": "ad70fbee",
   "metadata": {
    "papermill": {
     "duration": 0.820316,
     "end_time": "2023-03-27T08:01:16.871031",
     "exception": false,
     "start_time": "2023-03-27T08:01:16.050715",
     "status": "completed"
    },
    "tags": []
   },
   "source": [
    "### Prepare the data"
   ]
  },
  {
   "cell_type": "code",
   "execution_count": 34,
   "id": "b0a5f9e9",
   "metadata": {
    "execution": {
     "iopub.execute_input": "2023-03-27T08:01:18.447410Z",
     "iopub.status.busy": "2023-03-27T08:01:18.446004Z",
     "iopub.status.idle": "2023-03-27T08:01:18.452726Z",
     "shell.execute_reply": "2023-03-27T08:01:18.451698Z"
    },
    "papermill": {
     "duration": 0.835484,
     "end_time": "2023-03-27T08:01:18.455403",
     "exception": false,
     "start_time": "2023-03-27T08:01:17.619919",
     "status": "completed"
    },
    "tags": []
   },
   "outputs": [],
   "source": [
    "def df2xy_regression(ratings):\n",
    "    x = [ratings.gender_encoded.values, \n",
    "         ratings.norm_mean_uid.values,\n",
    "         ratings.uid.values, \n",
    "         ratings.mid.values, \n",
    "         ratings.occupation.values,\n",
    "         np.concatenate(ratings.movie_genre.values).reshape(-1,3)]\n",
    "    y = ratings.rating.values\n",
    "    return x,y"
   ]
  },
  {
   "cell_type": "code",
   "execution_count": 35,
   "id": "def7a2f5",
   "metadata": {
    "execution": {
     "iopub.execute_input": "2023-03-27T08:01:20.041724Z",
     "iopub.status.busy": "2023-03-27T08:01:20.040944Z",
     "iopub.status.idle": "2023-03-27T08:01:20.046460Z",
     "shell.execute_reply": "2023-03-27T08:01:20.045584Z"
    },
    "papermill": {
     "duration": 0.836035,
     "end_time": "2023-03-27T08:01:20.048860",
     "exception": false,
     "start_time": "2023-03-27T08:01:19.212825",
     "status": "completed"
    },
    "tags": []
   },
   "outputs": [],
   "source": [
    "def df2x_regression(ratings):\n",
    "    x = [ratings.gender_encoded.values, \n",
    "         ratings.norm_mean_uid,\n",
    "         ratings.uid.values, \n",
    "         ratings.mid.values,\n",
    "         ratings.occupation.values,\n",
    "         np.concatenate(ratings.movie_genre.values).reshape(-1,3)]\n",
    "    return x"
   ]
  },
  {
   "cell_type": "markdown",
   "id": "4ef2f792",
   "metadata": {
    "papermill": {
     "duration": 0.816728,
     "end_time": "2023-03-27T08:01:21.621238",
     "exception": false,
     "start_time": "2023-03-27T08:01:20.804510",
     "status": "completed"
    },
    "tags": []
   },
   "source": [
    "### Train regression FM model"
   ]
  },
  {
   "cell_type": "code",
   "execution_count": 36,
   "id": "d2fcfa99",
   "metadata": {
    "execution": {
     "iopub.execute_input": "2023-03-27T08:01:23.190111Z",
     "iopub.status.busy": "2023-03-27T08:01:23.189666Z",
     "iopub.status.idle": "2023-03-27T08:01:23.209275Z",
     "shell.execute_reply": "2023-03-27T08:01:23.208208Z"
    },
    "papermill": {
     "duration": 0.841952,
     "end_time": "2023-03-27T08:01:23.211983",
     "exception": false,
     "start_time": "2023-03-27T08:01:22.370031",
     "status": "completed"
    },
    "tags": []
   },
   "outputs": [],
   "source": [
    "from tensorflow.keras.callbacks import  EarlyStopping, ModelCheckpoint, LearningRateScheduler\n",
    "import math\n",
    "from itertools import product\n",
    "\n",
    "def cosine_annealing_scheduler(epoch, lr, T_max=10):\n",
    "    t_cur = epoch % T_max\n",
    "    new_lr = lr * 0.5 * (1 + math.cos(math.pi * t_cur / T_max))\n",
    "    if new_lr < 1e-5:\n",
    "        return 1e-5\n",
    "    else:\n",
    "        return new_lr\n",
    "\n",
    "def train_FM_regression(t_set, v_set, FM_model, weighted=True):\n",
    "\n",
    "    train_x, train_y = df2xy_regression(t_set)\n",
    "    valid_x, valid_y = df2xy_regression(v_set)\n",
    "\n",
    "    FM_model.compile(tf.keras.optimizers.Adam(1e-3),loss=tf.keras.losses.MeanSquaredError())\n",
    "    \n",
    "    if weighted:\n",
    "        early_stop = EarlyStopping(monitor='val_loss', patience=3)\n",
    "        model_ckp = ModelCheckpoint(filepath='./models/best_regression_weighted.h5', \n",
    "                                    monitor='val_loss',\n",
    "                                    save_weights_only=True, \n",
    "                                    save_best_only=True)\n",
    "\n",
    "        lr_scheduler = LearningRateScheduler(cosine_annealing_scheduler)\n",
    "        callbacks = [model_ckp,early_stop, lr_scheduler]\n",
    "\n",
    "        train_history = FM_model.fit(train_x, \n",
    "                                 train_y,\n",
    "                                 epochs=100, \n",
    "                                 batch_size=128, \n",
    "                                 validation_data=(valid_x, valid_y),\n",
    "                                 callbacks = callbacks,\n",
    "                                 sample_weight=t_set['norm_pop'])\n",
    "        FM_model.load_weights('./models/best_regression_weighted.h5')\n",
    "        \n",
    "    else:\n",
    "        early_stop = EarlyStopping(monitor='val_loss', patience=3)\n",
    "        model_ckp = ModelCheckpoint(filepath='./models/best_regression.h5', \n",
    "                                    monitor='val_loss',\n",
    "                                    save_weights_only=True, \n",
    "                                    save_best_only=True)\n",
    "\n",
    "        lr_scheduler = LearningRateScheduler(cosine_annealing_scheduler)\n",
    "        callbacks = [model_ckp,early_stop, lr_scheduler]\n",
    "\n",
    "        train_history = FM_model.fit(train_x, \n",
    "                                 train_y,\n",
    "                                 epochs=100, \n",
    "                                 batch_size=128, \n",
    "                                 validation_data=(valid_x, valid_y),\n",
    "                                 callbacks = callbacks)\n",
    "        FM_model.load_weights('./models/best_regression.h5')\n",
    "    \n",
    "    return FM_model\n",
    "\n",
    "def predict_top_FM_regression(uid, FM_model, at=None, get_seen_from=ratings):\n",
    "    uid_mid_mat = pd.DataFrame(list(product([uid], (movies['mid'].unique()).tolist())), columns=['uid', 'mid'])\n",
    "    uid_mid_mat = uid_mid_mat.join(movies.set_index('mid'), on = 'mid', how = 'left')\n",
    "    uid_mid_mat = uid_mid_mat.join(users.set_index('uid'), on = 'uid', how = 'left')\n",
    "    \n",
    "    # ================== PERFORM THE SAME PREPROCESSING ====================\n",
    "    uid_mid_mat = preprocess_test(uid_mid_mat, get_seen_from)\n",
    "    # ======================================================================\n",
    "    \n",
    "    # Obtain x features\n",
    "    mat_x = df2x_regression(uid_mid_mat)\n",
    "    # Predict a rating for a given user for all the movies\n",
    "    mat_predict = FM_model.predict(mat_x, verbose=0)\n",
    "    # Create new column for the predicted rating\n",
    "    uid_mid_mat['predicted_rating'] = mat_predict\n",
    "    \n",
    "    # Keep only unseen items\n",
    "    merged = pd.merge(uid_mid_mat, get_seen_from, on=['uid', 'mid'], how='left', indicator=True)\n",
    "    uid_mid_mat['seen'] = (merged['_merge'] == 'both')\n",
    "    # Sort the unseen items\n",
    "    unseen = uid_mid_mat[~uid_mid_mat['seen']].sort_values(by='predicted_rating', ascending=False)['mid'].tolist()\n",
    "\n",
    "    predictions = []\n",
    "    for m in unseen:\n",
    "        predictions.append((m, uid_mid_mat[uid_mid_mat['mid']==m]['predicted_rating'].values[0]))\n",
    "    \n",
    "    if at is not None:\n",
    "        return predictions[:at]\n",
    "    else:\n",
    "        return predictions"
   ]
  },
  {
   "cell_type": "markdown",
   "id": "c19db547",
   "metadata": {
    "papermill": {
     "duration": 0.815269,
     "end_time": "2023-03-27T08:01:24.797992",
     "exception": false,
     "start_time": "2023-03-27T08:01:23.982723",
     "status": "completed"
    },
    "tags": []
   },
   "source": [
    "### Train without weights"
   ]
  },
  {
   "cell_type": "code",
   "execution_count": 37,
   "id": "357fbc0b",
   "metadata": {
    "execution": {
     "iopub.execute_input": "2023-03-27T08:01:26.385469Z",
     "iopub.status.busy": "2023-03-27T08:01:26.384583Z",
     "iopub.status.idle": "2023-03-27T08:05:33.373638Z",
     "shell.execute_reply": "2023-03-27T08:05:33.372406Z"
    },
    "papermill": {
     "duration": 247.818147,
     "end_time": "2023-03-27T08:05:33.376511",
     "exception": false,
     "start_time": "2023-03-27T08:01:25.558364",
     "status": "completed"
    },
    "tags": []
   },
   "outputs": [
    {
     "name": "stdout",
     "output_type": "stream",
     "text": [
      "Epoch 1/100\n",
      "5627/5627 [==============================] - 34s 6ms/step - loss: 1.1530 - val_loss: 0.8231 - lr: 0.0010\n",
      "Epoch 2/100\n",
      "5627/5627 [==============================] - 31s 5ms/step - loss: 0.7826 - val_loss: 0.7766 - lr: 9.7553e-04\n",
      "Epoch 3/100\n",
      "5627/5627 [==============================] - 31s 5ms/step - loss: 0.7252 - val_loss: 0.7541 - lr: 8.8237e-04\n",
      "Epoch 4/100\n",
      "5627/5627 [==============================] - 31s 5ms/step - loss: 0.6757 - val_loss: 0.7446 - lr: 7.0051e-04\n",
      "Epoch 5/100\n",
      "5627/5627 [==============================] - 30s 5ms/step - loss: 0.6331 - val_loss: 0.7442 - lr: 4.5849e-04\n",
      "Epoch 6/100\n",
      "5627/5627 [==============================] - 30s 5ms/step - loss: 0.6012 - val_loss: 0.7467 - lr: 2.2924e-04\n",
      "Epoch 7/100\n",
      "5627/5627 [==============================] - 30s 5ms/step - loss: 0.5824 - val_loss: 0.7486 - lr: 7.9202e-05\n",
      "Epoch 8/100\n",
      "5627/5627 [==============================] - 30s 5ms/step - loss: 0.5751 - val_loss: 0.7490 - lr: 1.6324e-05\n"
     ]
    }
   ],
   "source": [
    "# ---------------------\n",
    "TRAIN_FM_REG = True\n",
    "# ---------------------\n",
    "if TRAIN_FM_REG:\n",
    "    FM_model_REG = fm_model_regression(**params_regression)\n",
    "    FM_model_REG = train_FM_regression(train, val, FM_model_REG, weighted=False)"
   ]
  },
  {
   "cell_type": "markdown",
   "id": "980aa5d9",
   "metadata": {
    "papermill": {
     "duration": 1.106415,
     "end_time": "2023-03-27T08:05:35.529224",
     "exception": false,
     "start_time": "2023-03-27T08:05:34.422809",
     "status": "completed"
    },
    "tags": []
   },
   "source": [
    "### Train with weights"
   ]
  },
  {
   "cell_type": "code",
   "execution_count": 38,
   "id": "411c4a7d",
   "metadata": {
    "execution": {
     "iopub.execute_input": "2023-03-27T08:05:37.694658Z",
     "iopub.status.busy": "2023-03-27T08:05:37.693329Z",
     "iopub.status.idle": "2023-03-27T08:12:24.769445Z",
     "shell.execute_reply": "2023-03-27T08:12:24.767882Z"
    },
    "papermill": {
     "duration": 408.131116,
     "end_time": "2023-03-27T08:12:24.772571",
     "exception": false,
     "start_time": "2023-03-27T08:05:36.641455",
     "status": "completed"
    },
    "tags": []
   },
   "outputs": [
    {
     "name": "stdout",
     "output_type": "stream",
     "text": [
      "Epoch 1/100\n",
      "5627/5627 [==============================] - 31s 5ms/step - loss: 0.2050 - val_loss: 0.8536 - lr: 0.0010\n",
      "Epoch 2/100\n",
      "5627/5627 [==============================] - 29s 5ms/step - loss: 0.1853 - val_loss: 0.8305 - lr: 9.7553e-04\n",
      "Epoch 3/100\n",
      "5627/5627 [==============================] - 30s 5ms/step - loss: 0.1765 - val_loss: 0.7966 - lr: 8.8237e-04\n",
      "Epoch 4/100\n",
      "5627/5627 [==============================] - 30s 5ms/step - loss: 0.1635 - val_loss: 0.7765 - lr: 7.0051e-04\n",
      "Epoch 5/100\n",
      "5627/5627 [==============================] - 29s 5ms/step - loss: 0.1505 - val_loss: 0.7678 - lr: 4.5849e-04\n",
      "Epoch 6/100\n",
      "5627/5627 [==============================] - 30s 5ms/step - loss: 0.1405 - val_loss: 0.7688 - lr: 2.2924e-04\n",
      "Epoch 7/100\n",
      "5627/5627 [==============================] - 30s 5ms/step - loss: 0.1348 - val_loss: 0.7689 - lr: 7.9202e-05\n",
      "Epoch 8/100\n",
      "5627/5627 [==============================] - 31s 6ms/step - loss: 0.1325 - val_loss: 0.7696 - lr: 1.6324e-05\n"
     ]
    }
   ],
   "source": [
    "# ---------------------\n",
    "TRAIN_FM_REG_W = True\n",
    "# ---------------------\n",
    "if TRAIN_FM_REG_W:\n",
    "    FM_model_REG_W = fm_model_regression(**params_regression)\n",
    "    FM_model_REG_W = train_FM_regression(train, val, FM_model_REG_W, weighted=True)"
   ]
  },
  {
   "cell_type": "markdown",
   "id": "5dff0ba1",
   "metadata": {
    "papermill": {
     "duration": 1.407067,
     "end_time": "2023-03-27T08:12:27.501431",
     "exception": false,
     "start_time": "2023-03-27T08:12:26.094364",
     "status": "completed"
    },
    "tags": []
   },
   "source": [
    "### Evaluate the model"
   ]
  },
  {
   "cell_type": "code",
   "execution_count": 39,
   "id": "f34081f6",
   "metadata": {
    "execution": {
     "iopub.execute_input": "2023-03-27T08:12:30.296650Z",
     "iopub.status.busy": "2023-03-27T08:12:30.296220Z",
     "iopub.status.idle": "2023-03-27T08:12:30.306897Z",
     "shell.execute_reply": "2023-03-27T08:12:30.305663Z"
    },
    "papermill": {
     "duration": 1.405946,
     "end_time": "2023-03-27T08:12:30.309688",
     "exception": false,
     "start_time": "2023-03-27T08:12:28.903742",
     "status": "completed"
    },
    "tags": []
   },
   "outputs": [],
   "source": [
    "def predict_FM_regression(uid, FM_model, LTR_model, TOP_model, get_seen_from, at=25, use_ltr=True, thres=40):\n",
    "    \n",
    "    cold_start = (get_seen_from['uid'].value_counts()[uid] < thres)\n",
    "    \n",
    "    if cold_start:\n",
    "        return TOP_model.recommend(uid, at=at, remove_seen=True)\n",
    "    else:\n",
    "        FM_pred = predict_top_FM_regression(uid, FM_model, at=None, get_seen_from=get_seen_from)\n",
    "\n",
    "        pred_list = sorted(FM_pred, key=lambda x: x[1], reverse=True)\n",
    "        mid_list = [m[0] for m in pred_list]\n",
    "        if use_ltr:\n",
    "            return LTR_model.predict_top_LTR(uid, mid_list[:at+10], at=at, get_seen_from=get_seen_from)\n",
    "        else:\n",
    "            return mid_list[:at]"
   ]
  },
  {
   "cell_type": "code",
   "execution_count": 40,
   "id": "3174ac67",
   "metadata": {
    "execution": {
     "iopub.execute_input": "2023-03-27T08:12:33.142084Z",
     "iopub.status.busy": "2023-03-27T08:12:33.140786Z",
     "iopub.status.idle": "2023-03-27T08:12:33.156242Z",
     "shell.execute_reply": "2023-03-27T08:12:33.154495Z"
    },
    "papermill": {
     "duration": 1.432354,
     "end_time": "2023-03-27T08:12:33.159319",
     "exception": false,
     "start_time": "2023-03-27T08:12:31.726965",
     "status": "completed"
    },
    "tags": []
   },
   "outputs": [],
   "source": [
    "def evaluate_FM_regression(test, FM_model, LTR_model, TOP_model, get_seen_from, at=25, use_ltr=True, sample=None):\n",
    "    \n",
    "    cumulative_precision = 0.0\n",
    "    cumulative_recall = 0.0\n",
    "    cumulative_AP = 0.0\n",
    "    \n",
    "    num_eval = 0\n",
    "    \n",
    "    movie_counts = defaultdict(int)\n",
    "    \n",
    "    if sample is not None:\n",
    "        uids = test.uid.unique()\n",
    "        for user_id in tqdm(random.choices(uids, k=sample)):\n",
    "            relevant_items = test[(test.uid==user_id )].sort_values('rating', ascending=False).mid.values\n",
    "            if len(relevant_items)>0:\n",
    "                recommended_items = predict_FM_regression(user_id, FM_model, LTR_model, TOP_model, get_seen_from, use_ltr=use_ltr, at=at)\n",
    "                num_eval+=1\n",
    "\n",
    "                cumulative_precision += precision(recommended_items, relevant_items)\n",
    "                cumulative_recall += recall(recommended_items, relevant_items)\n",
    "                cumulative_AP += AP(recommended_items, relevant_items)\n",
    "                \n",
    "                for m in recommended_items:\n",
    "                    movie_counts[m] += 1\n",
    "                \n",
    "    else:\n",
    "        for user_id in tqdm(test.uid.unique()):\n",
    "            relevant_items = test[(test.uid==user_id )].sort_values('rating', ascending=False).mid.values\n",
    "            if len(relevant_items)>0:\n",
    "                recommended_items = predict_FM_regression(user_id, FM_model, LTR_model, TOP_model, get_seen_from, use_ltr=use_ltr, at=at)\n",
    "                num_eval+=1\n",
    "\n",
    "                cumulative_precision += precision(recommended_items, relevant_items)\n",
    "                cumulative_recall += recall(recommended_items, relevant_items)\n",
    "                cumulative_AP += AP(recommended_items, relevant_items)\n",
    "              \n",
    "    cumulative_precision /= num_eval\n",
    "    cumulative_recall /= num_eval\n",
    "    MAP = cumulative_AP / num_eval\n",
    "    \n",
    "    print(\"Recommender results are: Precision = {:.4f}, Recall = {:.4f}, MAP = {:.4f}\".format(\n",
    "        cumulative_precision, cumulative_recall, MAP)) \n",
    "    \n",
    "    return movie_counts"
   ]
  },
  {
   "cell_type": "markdown",
   "id": "24855cbb",
   "metadata": {
    "papermill": {
     "duration": 1.36234,
     "end_time": "2023-03-27T08:12:35.921944",
     "exception": false,
     "start_time": "2023-03-27T08:12:34.559604",
     "status": "completed"
    },
    "tags": []
   },
   "source": [
    "### Without weights"
   ]
  },
  {
   "cell_type": "code",
   "execution_count": 41,
   "id": "ee42a2d2",
   "metadata": {
    "execution": {
     "iopub.execute_input": "2023-03-27T08:12:38.702747Z",
     "iopub.status.busy": "2023-03-27T08:12:38.702323Z",
     "iopub.status.idle": "2023-03-27T08:27:06.294037Z",
     "shell.execute_reply": "2023-03-27T08:27:06.292853Z"
    },
    "papermill": {
     "duration": 868.982759,
     "end_time": "2023-03-27T08:27:06.296675",
     "exception": false,
     "start_time": "2023-03-27T08:12:37.313916",
     "status": "completed"
    },
    "tags": []
   },
   "outputs": [
    {
     "name": "stderr",
     "output_type": "stream",
     "text": [
      "100%|██████████| 500/500 [14:27<00:00,  1.73s/it]\n"
     ]
    },
    {
     "name": "stdout",
     "output_type": "stream",
     "text": [
      "Recommender results are: Precision = 0.0325, Recall = 0.0980, MAP = 0.0248\n"
     ]
    },
    {
     "data": {
      "image/png": "[encoded data removed]",
      "text/plain": [
       "<Figure size 640x480 with 1 Axes>"
      ]
     },
     "metadata": {},
     "output_type": "display_data"
    }
   ],
   "source": [
    "import matplotlib.pyplot as plt\n",
    "import random\n",
    "if TRAIN_FM_REG:\n",
    "    most_recommended_REG = evaluate_FM_regression(val, FM_model_REG, None, TOP_model, train, at=25, use_ltr=False, sample=500)\n",
    "    pop_database = train[['mid', 'popularity']].drop_duplicates()\n",
    "    pop_database['most_reco_REG'] = pop_database['mid'].apply(lambda x: most_recommended_REG.get(x))\n",
    "    plt.scatter(pop_database['popularity'], pop_database['most_reco_REG'])\n",
    "    plt.xlabel('Popularity')\n",
    "    plt.ylabel('Recommended times')\n",
    "    plt.title('MSE loss - Movie Popularity vs Count')\n",
    "    plt.show()"
   ]
  },
  {
   "cell_type": "code",
   "execution_count": 42,
   "id": "437b4cf9",
   "metadata": {
    "execution": {
     "iopub.execute_input": "2023-03-27T08:27:09.126089Z",
     "iopub.status.busy": "2023-03-27T08:27:09.125228Z",
     "iopub.status.idle": "2023-03-27T08:27:11.793686Z",
     "shell.execute_reply": "2023-03-27T08:27:11.792438Z"
    },
    "papermill": {
     "duration": 4.083794,
     "end_time": "2023-03-27T08:27:11.796048",
     "exception": false,
     "start_time": "2023-03-27T08:27:07.712254",
     "status": "completed"
    },
    "tags": []
   },
   "outputs": [
    {
     "name": "stdout",
     "output_type": "stream",
     "text": [
      "========== LAST TEN MOVIES SEEN BY USER 2 ==========\n",
      "Lost World: Jurassic Park, The (1997) - 4.0 - 886\n",
      "Cliffhanger (1993) - 2.0 - 503\n",
      "Jackal, The (1997) - 3.0 - 246\n",
      "Armageddon (1998) - 3.0 - 807\n",
      "Broken Arrow (1996) - 2.0 - 477\n",
      "Outbreak (1995) - 3.0 - 544\n",
      "Snake Eyes (1998) - 3.0 - 363\n",
      "Twister (1996) - 4.0 - 812\n",
      "Star Wars: Episode I - The Phantom Menace (1999) - 3.0 - 1620\n",
      "Conspiracy Theory (1997) - 3.0 - 569\n",
      "========== TOP 10 MOVIES RECOMMENDED TO USER 2 ==========\n",
      "Schindler's List (1993)\n",
      "Casablanca (1942)\n",
      "It's a Wonderful Life (1946)\n",
      "Sixth Sense, The (1999)\n",
      "Apollo 13 (1995)\n",
      "Apple, The (Sib) (1998)\n",
      "Good Will Hunting (1997)\n",
      "Mr. Smith Goes to Washington (1939)\n",
      "West Side Story (1961)\n",
      "E.T. the Extra-Terrestrial (1982)\n",
      "Glory (1989)\n",
      "Doctor Zhivago (1965)\n",
      "Rain Man (1988)\n",
      "Life Is Beautiful (La Vita è bella) (1997)\n",
      "Bridge on the River Kwai, The (1957)\n",
      "African Queen, The (1951)\n",
      "Romeo and Juliet (1968)\n",
      "Titanic (1997)\n",
      "Witness (1985)\n",
      "Sound of Music, The (1965)\n",
      "Patriot, The (2000)\n",
      "When Harry Met Sally... (1989)\n",
      "North by Northwest (1959)\n",
      "Firelight (1997)\n",
      "12 Angry Men (1957)\n"
     ]
    }
   ],
   "source": [
    "# Find last 10 movies seen by a user\n",
    "uid = 2\n",
    "top_10 = train[train['uid'] == uid].sort_values(by='timestamp', ascending=False).head(10)\n",
    "print(f\"========== LAST TEN MOVIES SEEN BY USER {uid} ==========\")\n",
    "for index, row in top_10.iterrows():\n",
    "    print(f'{row.movie_name} - {row.rating} - {row.popularity}')\n",
    "    \n",
    "print(f\"========== TOP 10 MOVIES RECOMMENDED TO USER {uid} ==========\")\n",
    "top_10_pred = predict_FM_regression(uid, FM_model_REG, None, TOP_model, train, at=25, use_ltr=False, thres=1)\n",
    "for m in top_10_pred:\n",
    "    print(f'{movies[movies.mid == m].movie_name.values[0]}')"
   ]
  },
  {
   "cell_type": "code",
   "execution_count": 43,
   "id": "a4aa30eb",
   "metadata": {
    "execution": {
     "iopub.execute_input": "2023-03-27T08:27:14.536104Z",
     "iopub.status.busy": "2023-03-27T08:27:14.534903Z",
     "iopub.status.idle": "2023-03-27T08:27:17.180196Z",
     "shell.execute_reply": "2023-03-27T08:27:17.178802Z"
    },
    "papermill": {
     "duration": 3.975749,
     "end_time": "2023-03-27T08:27:17.183454",
     "exception": false,
     "start_time": "2023-03-27T08:27:13.207705",
     "status": "completed"
    },
    "tags": []
   },
   "outputs": [
    {
     "name": "stdout",
     "output_type": "stream",
     "text": [
      "Recommender results are: Precision = 0.0000, Recall = 0.0000, MAP = 0.0000\n"
     ]
    }
   ],
   "source": [
    "relevant_items = val[(val.uid==uid )].sort_values('rating', ascending=False).mid.values\n",
    "if len(relevant_items)>0:\n",
    "    recommended_items = predict_FM_regression(uid, FM_model_REG, None, TOP_model, train, use_ltr=False, at=25)\n",
    "\n",
    "    cumulative_precision = precision(recommended_items, relevant_items)\n",
    "    cumulative_recall = recall(recommended_items, relevant_items)\n",
    "    cumulative_AP = AP(recommended_items, relevant_items)\n",
    "print(\"Recommender results are: Precision = {:.4f}, Recall = {:.4f}, MAP = {:.4f}\".format(\n",
    "        cumulative_precision, cumulative_recall, cumulative_AP)) "
   ]
  },
  {
   "cell_type": "markdown",
   "id": "0d90e71f",
   "metadata": {
    "papermill": {
     "duration": 1.406766,
     "end_time": "2023-03-27T08:27:19.989808",
     "exception": false,
     "start_time": "2023-03-27T08:27:18.583042",
     "status": "completed"
    },
    "tags": []
   },
   "source": [
    "### With weights"
   ]
  },
  {
   "cell_type": "code",
   "execution_count": 44,
   "id": "bc5045ee",
   "metadata": {
    "execution": {
     "iopub.execute_input": "2023-03-27T08:27:22.766452Z",
     "iopub.status.busy": "2023-03-27T08:27:22.766009Z",
     "iopub.status.idle": "2023-03-27T08:42:25.749952Z",
     "shell.execute_reply": "2023-03-27T08:42:25.748307Z"
    },
    "papermill": {
     "duration": 904.424053,
     "end_time": "2023-03-27T08:42:25.752527",
     "exception": false,
     "start_time": "2023-03-27T08:27:21.328474",
     "status": "completed"
    },
    "tags": []
   },
   "outputs": [
    {
     "name": "stderr",
     "output_type": "stream",
     "text": [
      "100%|██████████| 500/500 [15:02<00:00,  1.81s/it]"
     ]
    },
    {
     "name": "stdout",
     "output_type": "stream",
     "text": [
      "Recommender results are: Precision = 0.0305, Recall = 0.0848, MAP = 0.0246\n"
     ]
    },
    {
     "name": "stderr",
     "output_type": "stream",
     "text": [
      "\n"
     ]
    },
    {
     "data": {
      "image/png": "[encoded data removed]",
      "text/plain": [
       "<Figure size 640x480 with 1 Axes>"
      ]
     },
     "metadata": {},
     "output_type": "display_data"
    }
   ],
   "source": [
    "if TRAIN_FM_REG_W:\n",
    "    most_recommended_REG_W = evaluate_FM_regression(val, FM_model_REG_W, None, TOP_model, train, at=25, use_ltr=False, sample=500)\n",
    "    pop_database = train[['mid', 'popularity']].drop_duplicates()\n",
    "    pop_database['most_reco_REG_W'] = pop_database['mid'].apply(lambda x: most_recommended_REG_W.get(x))\n",
    "    plt.scatter(pop_database['popularity'], pop_database['most_reco_REG_W'])\n",
    "    plt.xlabel('Popularity')\n",
    "    plt.ylabel('Recommended times')\n",
    "    plt.title('MSE loss - Movie Popularity vs Count')\n",
    "    plt.show()"
   ]
  },
  {
   "cell_type": "markdown",
   "id": "56db7153",
   "metadata": {
    "papermill": {
     "duration": 1.445716,
     "end_time": "2023-03-27T08:42:28.547514",
     "exception": false,
     "start_time": "2023-03-27T08:42:27.101798",
     "status": "completed"
    },
    "tags": []
   },
   "source": [
    "### Create submission of the models"
   ]
  },
  {
   "cell_type": "code",
   "execution_count": 45,
   "id": "3aa355d5",
   "metadata": {
    "execution": {
     "iopub.execute_input": "2023-03-27T08:42:31.462771Z",
     "iopub.status.busy": "2023-03-27T08:42:31.462333Z",
     "iopub.status.idle": "2023-03-27T08:42:31.467829Z",
     "shell.execute_reply": "2023-03-27T08:42:31.466998Z"
    },
    "papermill": {
     "duration": 1.494423,
     "end_time": "2023-03-27T08:42:31.470243",
     "exception": false,
     "start_time": "2023-03-27T08:42:29.975820",
     "status": "completed"
    },
    "tags": []
   },
   "outputs": [],
   "source": [
    "CREATE_SUBMISSION_FM_REG = True\n",
    "CREATE_SUBMISSION_FM_REG_W = True"
   ]
  },
  {
   "cell_type": "code",
   "execution_count": 46,
   "id": "93089704",
   "metadata": {
    "execution": {
     "iopub.execute_input": "2023-03-27T08:42:34.253625Z",
     "iopub.status.busy": "2023-03-27T08:42:34.253242Z",
     "iopub.status.idle": "2023-03-27T15:08:48.535191Z",
     "shell.execute_reply": "2023-03-27T15:08:48.533911Z"
    },
    "papermill": {
     "duration": 23176.896443,
     "end_time": "2023-03-27T15:08:49.723515",
     "exception": false,
     "start_time": "2023-03-27T08:42:32.827072",
     "status": "completed"
    },
    "tags": []
   },
   "outputs": [
    {
     "name": "stderr",
     "output_type": "stream",
     "text": [
      "100%|██████████| 6037/6037 [3:13:05<00:00,  1.92s/it]\n",
      "100%|██████████| 6037/6037 [3:13:08<00:00,  1.92s/it]\n"
     ]
    }
   ],
   "source": [
    "if CREATE_SUBMISSION_FM_REG:\n",
    "    # open the file in the write mode\n",
    "    with open('solution_FM_REG.csv', 'w',encoding='UTF8') as f:\n",
    "        # create the csv writer\n",
    "        writer = csv.writer(f)\n",
    "        # write a row to the csv file\n",
    "        writer.writerow(['user_id', 'prediction'])\n",
    "        for user_id in tqdm(test.uid.unique()):\n",
    "            relevant_items = predict_FM_regression(user_id, FM_model_REG, None, TOP_model_comp, train_complete, use_ltr=False, at=25)\n",
    "            list_relevants = ' '.join([str(elem) for elem in relevant_items])\n",
    "            writer.writerow([str(user_id),list_relevants])\n",
    "            \n",
    "if CREATE_SUBMISSION_FM_REG_W:\n",
    "    # open the file in the write mode\n",
    "    with open('solution_FM_REG_W.csv', 'w',encoding='UTF8') as f:\n",
    "        # create the csv writer\n",
    "        writer = csv.writer(f)\n",
    "        # write a row to the csv file\n",
    "        writer.writerow(['user_id', 'prediction'])\n",
    "        for user_id in tqdm(test.uid.unique()):\n",
    "            relevant_items = predict_FM_regression(user_id, FM_model_REG_W, None, TOP_model_comp, train_complete, use_ltr=False, at=25)\n",
    "            list_relevants = ' '.join([str(elem) for elem in relevant_items])\n",
    "            writer.writerow([str(user_id),list_relevants])"
   ]
  },
  {
   "cell_type": "markdown",
   "id": "abf1527d",
   "metadata": {
    "papermill": {
     "duration": 1.882166,
     "end_time": "2023-03-27T15:08:53.634961",
     "exception": false,
     "start_time": "2023-03-27T15:08:51.752795",
     "status": "completed"
    },
    "tags": []
   },
   "source": [
    "## Classification FM approach"
   ]
  },
  {
   "cell_type": "markdown",
   "id": "283cd67b",
   "metadata": {
    "papermill": {
     "duration": 2.071729,
     "end_time": "2023-03-27T15:08:57.720148",
     "exception": false,
     "start_time": "2023-03-27T15:08:55.648419",
     "status": "completed"
    },
    "tags": []
   },
   "source": [
    "### Define input layers"
   ]
  },
  {
   "cell_type": "code",
   "execution_count": 47,
   "id": "051ef3b1",
   "metadata": {
    "execution": {
     "iopub.execute_input": "2023-03-27T15:09:01.649265Z",
     "iopub.status.busy": "2023-03-27T15:09:01.647699Z",
     "iopub.status.idle": "2023-03-27T15:09:01.657928Z",
     "shell.execute_reply": "2023-03-27T15:09:01.656984Z"
    },
    "papermill": {
     "duration": 2.038564,
     "end_time": "2023-03-27T15:09:01.660660",
     "exception": false,
     "start_time": "2023-03-27T15:08:59.622096",
     "status": "completed"
    },
    "tags": []
   },
   "outputs": [],
   "source": [
    "import tensorflow.keras.backend as K\n",
    "from tensorflow.keras.models import Model\n",
    "from tensorflow.keras.layers import *\n",
    "\n",
    "def define_input_layers_classification():\n",
    "    # encoded features\n",
    "    mid_mean_input = Input((1,), name='input_mid_mean')\n",
    "    pop_input = Input((1,), name='input_pop')\n",
    "    age_input = Input((1,), name='age_input')\n",
    "    num_inputs = [mid_mean_input, pop_input, age_input]\n",
    "    # single level categorical features\n",
    "    uid_input = Input((1,), name='input_uid') #user_id\n",
    "    mid_input = Input((1,), name='input_mid')  #movie_id\n",
    "    cat_sl_inputs = [uid_input, mid_input]\n",
    "\n",
    "    # multi level categorical features (with 3 genres at most)\n",
    "    genre_input = Input((3,), name='input_genre')\n",
    "    cat_ml_inputs = [genre_input]\n",
    "\n",
    "    inputs = num_inputs + cat_sl_inputs + cat_ml_inputs\n",
    "    \n",
    "    return inputs"
   ]
  },
  {
   "cell_type": "markdown",
   "id": "643e71a6",
   "metadata": {
    "papermill": {
     "duration": 2.014546,
     "end_time": "2023-03-27T15:09:05.558416",
     "exception": false,
     "start_time": "2023-03-27T15:09:03.543870",
     "status": "completed"
    },
    "tags": []
   },
   "source": [
    "### 1st order FM"
   ]
  },
  {
   "cell_type": "code",
   "execution_count": 48,
   "id": "d3664aeb",
   "metadata": {
    "execution": {
     "iopub.execute_input": "2023-03-27T15:09:09.508115Z",
     "iopub.status.busy": "2023-03-27T15:09:09.507653Z",
     "iopub.status.idle": "2023-03-27T15:09:09.518081Z",
     "shell.execute_reply": "2023-03-27T15:09:09.516709Z"
    },
    "papermill": {
     "duration": 1.922577,
     "end_time": "2023-03-27T15:09:09.520542",
     "exception": false,
     "start_time": "2023-03-27T15:09:07.597965",
     "status": "completed"
    },
    "tags": []
   },
   "outputs": [],
   "source": [
    "def Tensor_Mean_Pooling(name = 'mean_pooling', keepdims = False):\n",
    "    return Lambda(lambda x: K.mean(x, axis = 1, keepdims=keepdims), name = name)\n",
    "\n",
    "def fm_1d_classification(inputs, n_uid, n_mid, n_genre):\n",
    "    \n",
    "    # user embedding + movie embedding + genre embedding + gender embedding\n",
    "    mid_mean_input, pop_input, age_input, uid_input, mid_input, genre_input = inputs\n",
    "    \n",
    "    # all tensors are reshape to (None, 1)\n",
    "    num_dense_1d = [Dense(1, name = 'num_dense_1d_mid_mean')(mid_mean_input),\n",
    "                   Dense(1, name = 'num_dense_1d_pop')(pop_input),\n",
    "                   Dense(1, name = 'num_dense_1d_age')(age_input)]\n",
    "    cat_sl_embed_1d = [Embedding(n_uid + 1, 1, name = 'cat_embed_1d_uid')(uid_input),\n",
    "                        Embedding(n_mid + 1, 1, name = 'cat_embed_1d_mid')(mid_input)]\n",
    "    cat_ml_embed_1d = [Embedding(n_genre + 1, 1, mask_zero=True, name = 'cat_embed_1d_genre')(genre_input)]\n",
    "\n",
    "    cat_sl_embed_1d = [Reshape((1,))(i) for i in cat_sl_embed_1d]\n",
    "    cat_ml_embed_1d = [Tensor_Mean_Pooling(name = 'embed_1d_mean')(i) for i in cat_ml_embed_1d]\n",
    "    \n",
    "    # add all tensors\n",
    "    y_fm_1d = Add(name = 'fm_1d_output')(num_dense_1d + cat_sl_embed_1d + cat_ml_embed_1d)\n",
    "    \n",
    "    return y_fm_1d"
   ]
  },
  {
   "cell_type": "markdown",
   "id": "14ae97d7",
   "metadata": {
    "papermill": {
     "duration": 1.894341,
     "end_time": "2023-03-27T15:09:13.429254",
     "exception": false,
     "start_time": "2023-03-27T15:09:11.534913",
     "status": "completed"
    },
    "tags": []
   },
   "source": [
    "### 2nd order FM"
   ]
  },
  {
   "cell_type": "code",
   "execution_count": 49,
   "id": "b690aa53",
   "metadata": {
    "execution": {
     "iopub.execute_input": "2023-03-27T15:09:17.369891Z",
     "iopub.status.busy": "2023-03-27T15:09:17.369363Z",
     "iopub.status.idle": "2023-03-27T15:09:17.385286Z",
     "shell.execute_reply": "2023-03-27T15:09:17.384130Z"
    },
    "papermill": {
     "duration": 1.940978,
     "end_time": "2023-03-27T15:09:17.387735",
     "exception": false,
     "start_time": "2023-03-27T15:09:15.446757",
     "status": "completed"
    },
    "tags": []
   },
   "outputs": [],
   "source": [
    "def fm_2d_classification(inputs, n_uid, n_mid, n_genre, k):\n",
    "    \n",
    "    mid_mean_input, pop_input, age_input, uid_input, mid_input, genre_input = inputs\n",
    "    \n",
    "    num_dense_2d = [Dense(k, name = 'num_dense_2d_gender')(mid_mean_input),\n",
    "                   Dense(k, name = 'num_dense_2d_pop')(pop_input),\n",
    "                   Dense(k, name = 'num_dense_2d_age')(age_input)] # shape (None, k)\n",
    "    num_dense_2d = [Reshape((1,k))(i) for i in num_dense_2d] # shape (None, 1, k)\n",
    "\n",
    "    cat_sl_embed_2d = [Embedding(n_uid + 1, k, name = 'cat_embed_2d_uid')(uid_input), \n",
    "                       Embedding(n_mid + 1, k, name = 'cat_embed_2d_mid')(mid_input)] # shape (None, 1, k)\n",
    "    \n",
    "    cat_ml_embed_2d = [Embedding(n_genre + 1, k, name = 'cat_embed_2d_genre')(genre_input)] # shape (None, 3, k)\n",
    "    cat_ml_embed_2d = [Tensor_Mean_Pooling(name = 'cat_embed_2d_genure_mean', keepdims=True)(i) for i in cat_ml_embed_2d] # shape (None, 1, k)\n",
    "\n",
    "    # concatenate all 2d embed layers => (None, ?, k)\n",
    "    embed_2d = Concatenate(axis=1, name = 'concat_embed_2d')(num_dense_2d + cat_sl_embed_2d + cat_ml_embed_2d)\n",
    "\n",
    "    # calcuate the interactions by simplication\n",
    "    # sum of (x1*x2) = sum of (0.5*[(xi)^2 - (xi^2)])\n",
    "    tensor_sum = Lambda(lambda x: K.sum(x, axis = 1), name = 'sum_of_tensors')\n",
    "    tensor_square = Lambda(lambda x: K.square(x), name = 'square_of_tensors')\n",
    "\n",
    "    sum_of_embed = tensor_sum(embed_2d)\n",
    "    square_of_embed = tensor_square(embed_2d)\n",
    "\n",
    "    square_of_sum = Multiply()([sum_of_embed, sum_of_embed])\n",
    "    sum_of_square = tensor_sum(square_of_embed)\n",
    "\n",
    "    sub = Subtract()([square_of_sum, sum_of_square])\n",
    "    sub = Lambda(lambda x: x*0.5)(sub)\n",
    "    y_fm_2d = Reshape((1,), name = 'fm_2d_output')(tensor_sum(sub))\n",
    "    \n",
    "    return y_fm_2d, embed_2d"
   ]
  },
  {
   "cell_type": "markdown",
   "id": "096e6afc",
   "metadata": {
    "papermill": {
     "duration": 2.031837,
     "end_time": "2023-03-27T15:09:21.435904",
     "exception": false,
     "start_time": "2023-03-27T15:09:19.404067",
     "status": "completed"
    },
    "tags": []
   },
   "source": [
    "### Put them together"
   ]
  },
  {
   "cell_type": "code",
   "execution_count": 50,
   "id": "6c373b0f",
   "metadata": {
    "execution": {
     "iopub.execute_input": "2023-03-27T15:09:25.338276Z",
     "iopub.status.busy": "2023-03-27T15:09:25.337804Z",
     "iopub.status.idle": "2023-03-27T15:09:25.345087Z",
     "shell.execute_reply": "2023-03-27T15:09:25.343953Z"
    },
    "papermill": {
     "duration": 2.036154,
     "end_time": "2023-03-27T15:09:25.347296",
     "exception": false,
     "start_time": "2023-03-27T15:09:23.311142",
     "status": "completed"
    },
    "tags": []
   },
   "outputs": [],
   "source": [
    "def fm_model_classification(n_uid, n_mid, n_genre, k):\n",
    "    \n",
    "    inputs = define_input_layers_classification()\n",
    "    \n",
    "    y_fm_1d = fm_1d_classification(inputs, n_uid, n_mid, n_genre)\n",
    "    y_fm_2d, embed_2d = fm_2d_classification(inputs, n_uid, n_mid, n_genre, k)\n",
    "    \n",
    "    \n",
    "    # combinded deep and fm parts\n",
    "    y = Concatenate()([y_fm_1d, y_fm_2d])\n",
    "    y = Dense(1, activation='sigmoid', name = 'fm_output')(y)\n",
    "    \n",
    "    fm_model = Model(inputs, y)\n",
    "    \n",
    "    return fm_model"
   ]
  },
  {
   "cell_type": "code",
   "execution_count": 51,
   "id": "2025bc17",
   "metadata": {
    "execution": {
     "iopub.execute_input": "2023-03-27T15:09:29.251712Z",
     "iopub.status.busy": "2023-03-27T15:09:29.251264Z",
     "iopub.status.idle": "2023-03-27T15:09:29.258303Z",
     "shell.execute_reply": "2023-03-27T15:09:29.257380Z"
    },
    "papermill": {
     "duration": 2.028386,
     "end_time": "2023-03-27T15:09:29.260636",
     "exception": false,
     "start_time": "2023-03-27T15:09:27.232250",
     "status": "completed"
    },
    "tags": []
   },
   "outputs": [],
   "source": [
    "params_classification = {\n",
    "    'n_uid': ratings.uid.max(),\n",
    "    'n_mid': ratings.mid.max(),\n",
    "    'n_genre': 14,\n",
    "    'k': 10\n",
    "}"
   ]
  },
  {
   "cell_type": "markdown",
   "id": "295f1293",
   "metadata": {
    "papermill": {
     "duration": 1.892538,
     "end_time": "2023-03-27T15:09:33.206421",
     "exception": false,
     "start_time": "2023-03-27T15:09:31.313883",
     "status": "completed"
    },
    "tags": []
   },
   "source": [
    "### Prepare the data"
   ]
  },
  {
   "cell_type": "code",
   "execution_count": 52,
   "id": "99d2c5cd",
   "metadata": {
    "execution": {
     "iopub.execute_input": "2023-03-27T15:09:37.128712Z",
     "iopub.status.busy": "2023-03-27T15:09:37.127790Z",
     "iopub.status.idle": "2023-03-27T15:09:37.134014Z",
     "shell.execute_reply": "2023-03-27T15:09:37.133047Z"
    },
    "papermill": {
     "duration": 1.902848,
     "end_time": "2023-03-27T15:09:37.136387",
     "exception": false,
     "start_time": "2023-03-27T15:09:35.233539",
     "status": "completed"
    },
    "tags": []
   },
   "outputs": [],
   "source": [
    "def df2xy_classification(ratings):\n",
    "    x = [ratings.norm_mean_mid.values,\n",
    "         ratings.norm_pop.values,\n",
    "         ratings.norm_age.values,\n",
    "         ratings.uid.values, \n",
    "         ratings.mid.values,\n",
    "         np.concatenate(ratings.movie_genre.values).reshape(-1,3)]\n",
    "    y =  ratings.relevant.values\n",
    "    return x,y"
   ]
  },
  {
   "cell_type": "code",
   "execution_count": 53,
   "id": "cd1138e9",
   "metadata": {
    "execution": {
     "iopub.execute_input": "2023-03-27T15:09:41.231357Z",
     "iopub.status.busy": "2023-03-27T15:09:41.229069Z",
     "iopub.status.idle": "2023-03-27T15:09:41.238612Z",
     "shell.execute_reply": "2023-03-27T15:09:41.236976Z"
    },
    "papermill": {
     "duration": 2.089185,
     "end_time": "2023-03-27T15:09:41.241932",
     "exception": false,
     "start_time": "2023-03-27T15:09:39.152747",
     "status": "completed"
    },
    "tags": []
   },
   "outputs": [],
   "source": [
    "def df2x_classification(ratings):\n",
    "    x = [ratings.norm_mean_mid.values,\n",
    "         ratings.norm_pop.values,\n",
    "         ratings.norm_age.values,\n",
    "         ratings.uid.values, \n",
    "         ratings.mid.values,\n",
    "         np.concatenate(ratings.movie_genre.values).reshape(-1,3)]\n",
    "    return x"
   ]
  },
  {
   "cell_type": "markdown",
   "id": "bd0b48c5",
   "metadata": {
    "papermill": {
     "duration": 2.023406,
     "end_time": "2023-03-27T15:09:45.170514",
     "exception": false,
     "start_time": "2023-03-27T15:09:43.147108",
     "status": "completed"
    },
    "tags": []
   },
   "source": [
    "### Train classification FM model"
   ]
  },
  {
   "cell_type": "code",
   "execution_count": 54,
   "id": "93f43768",
   "metadata": {
    "execution": {
     "iopub.execute_input": "2023-03-27T15:09:49.124668Z",
     "iopub.status.busy": "2023-03-27T15:09:49.123999Z",
     "iopub.status.idle": "2023-03-27T15:09:49.144028Z",
     "shell.execute_reply": "2023-03-27T15:09:49.143091Z"
    },
    "papermill": {
     "duration": 2.092947,
     "end_time": "2023-03-27T15:09:49.146640",
     "exception": false,
     "start_time": "2023-03-27T15:09:47.053693",
     "status": "completed"
    },
    "tags": []
   },
   "outputs": [],
   "source": [
    "from tensorflow.keras.callbacks import  EarlyStopping, ModelCheckpoint, LearningRateScheduler\n",
    "import math\n",
    "from tensorflow.keras import regularizers\n",
    "from keras import backend as K\n",
    "from itertools import product\n",
    "\n",
    "def cosine_annealing_scheduler(epoch, lr, T_max=10):\n",
    "    t_cur = epoch % T_max\n",
    "    new_lr = lr * 0.5 * (1 + math.cos(math.pi * t_cur / T_max))\n",
    "    if new_lr < 1e-5:\n",
    "        return 1e-5\n",
    "    else:\n",
    "        return new_lr\n",
    "\n",
    "def step_decay(epoch):\n",
    "    initial_lrate = 0.001\n",
    "    drop = 0.5\n",
    "    epochs_drop = 10.0\n",
    "    lrate = initial_lrate * math.pow(drop,  \n",
    "           math.floor((1+epoch)/epochs_drop))\n",
    "    return lrate\n",
    "\n",
    "def train_FM_classification(t_set, v_set, FM_model, weighted=True):\n",
    "\n",
    "    train_x, train_y = df2xy_classification(t_set)\n",
    "    valid_x, valid_y = df2xy_classification(v_set)\n",
    "\n",
    "    FM_model.compile(tf.keras.optimizers.Adam(1e-3),loss=tf.keras.losses.BinaryCrossentropy())\n",
    "\n",
    "    if weighted:\n",
    "        early_stop = EarlyStopping(monitor='val_loss', patience=3)\n",
    "        model_ckp = ModelCheckpoint(filepath='./models/best_classification_weighted.h5', \n",
    "                                    monitor='val_loss',\n",
    "                                    save_weights_only=True, \n",
    "                                    save_best_only=True)\n",
    "\n",
    "        lr_scheduler = LearningRateScheduler(step_decay)\n",
    "        callbacks = [model_ckp,early_stop]\n",
    "    \n",
    "        train_history = FM_model.fit(train_x, \n",
    "                                 train_y,\n",
    "                                 epochs=100, \n",
    "                                 batch_size=128, \n",
    "                                 validation_data=(valid_x, valid_y),\n",
    "                                 callbacks = callbacks,\n",
    "                                 sample_weight=t_set['norm_pop'])\n",
    "        FM_model.load_weights('./models/best_classification_weighted.h5')\n",
    "        \n",
    "    else:\n",
    "        early_stop = EarlyStopping(monitor='val_loss', patience=3)\n",
    "        model_ckp = ModelCheckpoint(filepath='./models/best_classification.h5', \n",
    "                                    monitor='val_loss',\n",
    "                                    save_weights_only=True, \n",
    "                                    save_best_only=True)\n",
    "\n",
    "        lr_scheduler = LearningRateScheduler(step_decay)\n",
    "        callbacks = [model_ckp,early_stop]\n",
    "    \n",
    "        train_history = FM_model.fit(train_x, \n",
    "                                 train_y,\n",
    "                                 epochs=100, \n",
    "                                 batch_size=128, \n",
    "                                 validation_data=(valid_x, valid_y),\n",
    "                                 callbacks = callbacks)\n",
    "        FM_model.load_weights('./models/best_classification.h5')\n",
    "    \n",
    "    return FM_model\n",
    "\n",
    "def predict_top_FM_classification(uid, FM_model, at=None, get_seen_from=ratings):\n",
    "    uid_mid_mat = pd.DataFrame(list(product([uid], (movies['mid'].unique()).tolist())), columns=['uid', 'mid'])\n",
    "    uid_mid_mat = uid_mid_mat.join(movies.set_index('mid'), on = 'mid', how = 'left')\n",
    "    uid_mid_mat = uid_mid_mat.join(users.set_index('uid'), on = 'uid', how = 'left')\n",
    "    \n",
    "    # ================== PERFORM THE SAME PREPROCESSING ====================\n",
    "    uid_mid_mat = preprocess_test(uid_mid_mat, get_seen_from)\n",
    "    # ======================================================================\n",
    "    \n",
    "    # Obtain x features\n",
    "    mat_x = df2x_classification(uid_mid_mat)\n",
    "    # Predict a rating for a given user for all the movies\n",
    "    mat_predict = FM_model.predict(mat_x, verbose=0)\n",
    "    # Create new column for the predicted rating\n",
    "    uid_mid_mat['predicted_rating'] = mat_predict\n",
    "    \n",
    "    # Keep only unseen items\n",
    "    merged = pd.merge(uid_mid_mat, get_seen_from, on=['uid', 'mid'], how='left', indicator=True)\n",
    "    uid_mid_mat['seen'] = (merged['_merge'] == 'both')\n",
    "    # Sort the unseen items\n",
    "    unseen = uid_mid_mat[~uid_mid_mat['seen']].sort_values(by='predicted_rating', ascending=False)['mid'].tolist()\n",
    "\n",
    "    predictions = []\n",
    "    for m in unseen:\n",
    "        predictions.append((m, uid_mid_mat[uid_mid_mat['mid']==m]['predicted_rating'].values[0]))\n",
    "    \n",
    "    if at is not None:\n",
    "        return predictions[:at]\n",
    "    else:\n",
    "        return predictions"
   ]
  },
  {
   "cell_type": "markdown",
   "id": "7f5f9488",
   "metadata": {
    "papermill": {
     "duration": 1.901055,
     "end_time": "2023-03-27T15:09:53.079423",
     "exception": false,
     "start_time": "2023-03-27T15:09:51.178368",
     "status": "completed"
    },
    "tags": []
   },
   "source": [
    "### Train without weights"
   ]
  },
  {
   "cell_type": "code",
   "execution_count": 55,
   "id": "def691d0",
   "metadata": {
    "execution": {
     "iopub.execute_input": "2023-03-27T15:09:56.979599Z",
     "iopub.status.busy": "2023-03-27T15:09:56.978721Z",
     "iopub.status.idle": "2023-03-27T15:09:56.984830Z",
     "shell.execute_reply": "2023-03-27T15:09:56.983910Z"
    },
    "papermill": {
     "duration": 1.891262,
     "end_time": "2023-03-27T15:09:56.987384",
     "exception": false,
     "start_time": "2023-03-27T15:09:55.096122",
     "status": "completed"
    },
    "tags": []
   },
   "outputs": [],
   "source": [
    "# ---------------------\n",
    "TRAIN_FM_CLASS = False\n",
    "# ---------------------\n",
    "if TRAIN_FM_CLASS:\n",
    "    FM_model_CLASS = fm_model_classification(**params_classification)\n",
    "    FM_model_CLASS = train_FM_classification(train, val, FM_model_CLASS, weighted=False)"
   ]
  },
  {
   "cell_type": "markdown",
   "id": "e77f4b0b",
   "metadata": {
    "papermill": {
     "duration": 1.897645,
     "end_time": "2023-03-27T15:10:00.900052",
     "exception": false,
     "start_time": "2023-03-27T15:09:59.002407",
     "status": "completed"
    },
    "tags": []
   },
   "source": [
    "### Train with weights"
   ]
  },
  {
   "cell_type": "code",
   "execution_count": 56,
   "id": "bcae83f3",
   "metadata": {
    "execution": {
     "iopub.execute_input": "2023-03-27T15:10:04.995945Z",
     "iopub.status.busy": "2023-03-27T15:10:04.995087Z",
     "iopub.status.idle": "2023-03-27T15:10:05.001233Z",
     "shell.execute_reply": "2023-03-27T15:10:05.000088Z"
    },
    "papermill": {
     "duration": 2.071192,
     "end_time": "2023-03-27T15:10:05.003792",
     "exception": false,
     "start_time": "2023-03-27T15:10:02.932600",
     "status": "completed"
    },
    "tags": []
   },
   "outputs": [],
   "source": [
    "# ---------------------\n",
    "TRAIN_FM_CLASS_W = False\n",
    "# ---------------------\n",
    "if TRAIN_FM_CLASS_W:\n",
    "    FM_model_CLASS_W = fm_model_classification(**params_classification)\n",
    "    FM_model_CLASS_W = train_FM_classification(train, val, FM_model_CLASS_W, weighted=True)"
   ]
  },
  {
   "cell_type": "markdown",
   "id": "941facb0",
   "metadata": {
    "papermill": {
     "duration": 2.03134,
     "end_time": "2023-03-27T15:10:08.911425",
     "exception": false,
     "start_time": "2023-03-27T15:10:06.880085",
     "status": "completed"
    },
    "tags": []
   },
   "source": [
    "### Evaluate the models"
   ]
  },
  {
   "cell_type": "code",
   "execution_count": 57,
   "id": "9ee99210",
   "metadata": {
    "execution": {
     "iopub.execute_input": "2023-03-27T15:10:12.843264Z",
     "iopub.status.busy": "2023-03-27T15:10:12.842345Z",
     "iopub.status.idle": "2023-03-27T15:10:12.850475Z",
     "shell.execute_reply": "2023-03-27T15:10:12.849442Z"
    },
    "papermill": {
     "duration": 2.029139,
     "end_time": "2023-03-27T15:10:12.852935",
     "exception": false,
     "start_time": "2023-03-27T15:10:10.823796",
     "status": "completed"
    },
    "tags": []
   },
   "outputs": [],
   "source": [
    "def predict_FM_classification(uid, FM_model, LTR_model, TOP_model, get_seen_from, at=25, use_ltr=True, thres=40):\n",
    "    \n",
    "    cold_start = (get_seen_from['uid'].value_counts()[uid] < thres)\n",
    "    \n",
    "    if cold_start:\n",
    "        return TOP_model.recommend(uid, at=at, remove_seen=True)\n",
    "    else:\n",
    "        FM_pred = predict_top_FM_classification(uid, FM_model, at=None, get_seen_from=get_seen_from)\n",
    "\n",
    "        pred_list = sorted(FM_pred, key=lambda x: x[1], reverse=True)\n",
    "        mid_list = [m[0] for m in pred_list]\n",
    "        if use_ltr:\n",
    "            return LTR_model.predict_top_LTR(uid, mid_list[:at+10], at=at, get_seen_from=get_seen_from)\n",
    "        else:\n",
    "            return mid_list[:at]"
   ]
  },
  {
   "cell_type": "code",
   "execution_count": 58,
   "id": "9ed9f8e6",
   "metadata": {
    "execution": {
     "iopub.execute_input": "2023-03-27T15:10:16.803314Z",
     "iopub.status.busy": "2023-03-27T15:10:16.802444Z",
     "iopub.status.idle": "2023-03-27T15:10:16.815131Z",
     "shell.execute_reply": "2023-03-27T15:10:16.814119Z"
    },
    "papermill": {
     "duration": 1.895294,
     "end_time": "2023-03-27T15:10:16.817784",
     "exception": false,
     "start_time": "2023-03-27T15:10:14.922490",
     "status": "completed"
    },
    "tags": []
   },
   "outputs": [],
   "source": [
    "def evaluate_FM_classification(test, FM_model, LTR_model, TOP_model, get_seen_from, at=25, use_ltr=True, sample=None):\n",
    "    \n",
    "    cumulative_precision = 0.0\n",
    "    cumulative_recall = 0.0\n",
    "    cumulative_AP = 0.0\n",
    "    \n",
    "    num_eval = 0\n",
    "    \n",
    "    movie_counts = defaultdict(int)\n",
    "    \n",
    "    if sample is not None:\n",
    "        uids = test.uid.unique()\n",
    "        for user_id in tqdm(random.choices(uids, k=sample)):\n",
    "            relevant_items = test[(test.uid==user_id )].sort_values('rating', ascending=False).mid.values\n",
    "            if len(relevant_items)>0:\n",
    "                recommended_items = predict_FM_classification(user_id, FM_model, LTR_model, TOP_model, get_seen_from, use_ltr=use_ltr, at=at)\n",
    "                num_eval+=1\n",
    "\n",
    "                cumulative_precision += precision(recommended_items, relevant_items)\n",
    "                cumulative_recall += recall(recommended_items, relevant_items)\n",
    "                cumulative_AP += AP(recommended_items, relevant_items)\n",
    "                \n",
    "                for m in recommended_items:\n",
    "                    movie_counts[m] += 1\n",
    "                \n",
    "    else:\n",
    "        for user_id in tqdm(test.uid.unique()):\n",
    "            relevant_items = test[(test.uid==user_id )].sort_values('rating', ascending=False).mid.values\n",
    "            if len(relevant_items)>0:\n",
    "                recommended_items = predict_FM_classification(user_id, FM_model, LTR_model, TOP_model, get_seen_from, use_ltr=use_ltr, at=at)\n",
    "                num_eval+=1\n",
    "\n",
    "                cumulative_precision += precision(recommended_items, relevant_items)\n",
    "                cumulative_recall += recall(recommended_items, relevant_items)\n",
    "                cumulative_AP += AP(recommended_items, relevant_items)\n",
    "            \n",
    "    cumulative_precision /= num_eval\n",
    "    cumulative_recall /= num_eval\n",
    "    MAP = cumulative_AP / num_eval\n",
    "    \n",
    "    print(\"Recommender results are: Precision = {:.4f}, Recall = {:.4f}, MAP = {:.4f}\".format(\n",
    "        cumulative_precision, cumulative_recall, MAP)) \n",
    "    \n",
    "    return movie_counts"
   ]
  },
  {
   "cell_type": "markdown",
   "id": "5f3af833",
   "metadata": {
    "papermill": {
     "duration": 1.952724,
     "end_time": "2023-03-27T15:10:20.794687",
     "exception": false,
     "start_time": "2023-03-27T15:10:18.841963",
     "status": "completed"
    },
    "tags": []
   },
   "source": [
    "### Without weights"
   ]
  },
  {
   "cell_type": "code",
   "execution_count": 59,
   "id": "251ca0dc",
   "metadata": {
    "execution": {
     "iopub.execute_input": "2023-03-27T15:10:24.852944Z",
     "iopub.status.busy": "2023-03-27T15:10:24.852515Z",
     "iopub.status.idle": "2023-03-27T15:10:24.861401Z",
     "shell.execute_reply": "2023-03-27T15:10:24.859483Z"
    },
    "papermill": {
     "duration": 2.04525,
     "end_time": "2023-03-27T15:10:24.864049",
     "exception": false,
     "start_time": "2023-03-27T15:10:22.818799",
     "status": "completed"
    },
    "tags": []
   },
   "outputs": [],
   "source": [
    "import matplotlib.pyplot as plt\n",
    "import random\n",
    "if TRAIN_FM_CLASS:\n",
    "    most_recommended_CLASS = evaluate_FM_classification(val, FM_model_CLASS, None, TOP_model, train, at=25, use_ltr=False, sample=500)\n",
    "    pop_database = train[['mid', 'popularity']].drop_duplicates()\n",
    "    pop_database['most_reco_CLASS'] = pop_database['mid'].apply(lambda x: most_recommended_CLASS.get(x))\n",
    "    plt.scatter(pop_database['popularity'], pop_database['most_reco_CLASS'])\n",
    "    plt.xlabel('Popularity')\n",
    "    plt.ylabel('Recommended times')\n",
    "    plt.title('BCE loss - Movie Popularity vs Count')\n",
    "    plt.show()"
   ]
  },
  {
   "cell_type": "markdown",
   "id": "0e4fcb75",
   "metadata": {
    "papermill": {
     "duration": 2.014762,
     "end_time": "2023-03-27T15:10:28.787031",
     "exception": false,
     "start_time": "2023-03-27T15:10:26.772269",
     "status": "completed"
    },
    "tags": []
   },
   "source": [
    "### With weights"
   ]
  },
  {
   "cell_type": "code",
   "execution_count": 60,
   "id": "bf37cf79",
   "metadata": {
    "execution": {
     "iopub.execute_input": "2023-03-27T15:10:32.706733Z",
     "iopub.status.busy": "2023-03-27T15:10:32.705929Z",
     "iopub.status.idle": "2023-03-27T15:10:32.712622Z",
     "shell.execute_reply": "2023-03-27T15:10:32.711675Z"
    },
    "papermill": {
     "duration": 2.027864,
     "end_time": "2023-03-27T15:10:32.715001",
     "exception": false,
     "start_time": "2023-03-27T15:10:30.687137",
     "status": "completed"
    },
    "tags": []
   },
   "outputs": [],
   "source": [
    "if TRAIN_FM_CLASS_W:\n",
    "    most_recommended_CLASS_W = evaluate_FM_classification(val, FM_model_CLASS_W, None, TOP_model, train, at=25, use_ltr=False, sample=500)\n",
    "    pop_database = train[['mid', 'popularity']].drop_duplicates()\n",
    "    pop_database['most_reco_CLASS_W'] = pop_database['mid'].apply(lambda x: most_recommended_CLASS_W.get(x))\n",
    "    plt.scatter(pop_database['popularity'], pop_database['most_reco_CLASS_W'])\n",
    "    plt.xlabel('Popularity')\n",
    "    plt.ylabel('Recommended times')\n",
    "    plt.title('BCE loss - Movie Popularity vs Count')\n",
    "    plt.show()"
   ]
  },
  {
   "cell_type": "markdown",
   "id": "4e94582a",
   "metadata": {
    "papermill": {
     "duration": 1.908454,
     "end_time": "2023-03-27T15:10:36.655179",
     "exception": false,
     "start_time": "2023-03-27T15:10:34.746725",
     "status": "completed"
    },
    "tags": []
   },
   "source": [
    "### Create submission of the models"
   ]
  },
  {
   "cell_type": "code",
   "execution_count": 61,
   "id": "a43201cf",
   "metadata": {
    "execution": {
     "iopub.execute_input": "2023-03-27T15:10:40.556656Z",
     "iopub.status.busy": "2023-03-27T15:10:40.555926Z",
     "iopub.status.idle": "2023-03-27T15:10:40.560736Z",
     "shell.execute_reply": "2023-03-27T15:10:40.559860Z"
    },
    "papermill": {
     "duration": 1.883685,
     "end_time": "2023-03-27T15:10:40.563077",
     "exception": false,
     "start_time": "2023-03-27T15:10:38.679392",
     "status": "completed"
    },
    "tags": []
   },
   "outputs": [],
   "source": [
    "CREATE_SUBMISSION_FM_CLASS = False\n",
    "CREATE_SUBMISSION_FM_CLASS_W = False"
   ]
  },
  {
   "cell_type": "code",
   "execution_count": 62,
   "id": "1b0ca331",
   "metadata": {
    "execution": {
     "iopub.execute_input": "2023-03-27T15:10:44.485488Z",
     "iopub.status.busy": "2023-03-27T15:10:44.484472Z",
     "iopub.status.idle": "2023-03-27T15:10:44.494246Z",
     "shell.execute_reply": "2023-03-27T15:10:44.493316Z"
    },
    "papermill": {
     "duration": 1.889026,
     "end_time": "2023-03-27T15:10:44.496825",
     "exception": false,
     "start_time": "2023-03-27T15:10:42.607799",
     "status": "completed"
    },
    "tags": []
   },
   "outputs": [],
   "source": [
    "import csv\n",
    "if CREATE_SUBMISSION_FM_CLASS:\n",
    "    # open the file in the write mode\n",
    "    with open('solution_FM_CLASS.csv', 'w',encoding='UTF8') as f:\n",
    "        # create the csv writer\n",
    "        writer = csv.writer(f)\n",
    "        # write a row to the csv file\n",
    "        writer.writerow(['user_id', 'prediction'])\n",
    "        for user_id in tqdm(test.uid.unique()):\n",
    "            relevant_items = predict_FM_classification(user_id, FM_model_CLASS, None, TOP_model, train_complete, use_ltr=False, at=25)\n",
    "            list_relevants = ' '.join([str(elem) for elem in relevant_items])\n",
    "            writer.writerow([str(user_id),list_relevants])\n",
    "            \n",
    "if CREATE_SUBMISSION_FM_CLASS_W:\n",
    "    # open the file in the write mode\n",
    "    with open('solution_FM_CLASS_W.csv', 'w',encoding='UTF8') as f:\n",
    "        # create the csv writer\n",
    "        writer = csv.writer(f)\n",
    "        # write a row to the csv file\n",
    "        writer.writerow(['user_id', 'prediction'])\n",
    "        for user_id in tqdm(test.uid.unique()):\n",
    "            relevant_items = predict_FM_classification(user_id, FM_model_CLASS_W, None, TOP_model, train_complete, use_ltr=False, at=25)\n",
    "            list_relevants = ' '.join([str(elem) for elem in relevant_items])\n",
    "            writer.writerow([str(user_id),list_relevants])"
   ]
  },
  {
   "cell_type": "markdown",
   "id": "6bb4a4e9",
   "metadata": {
    "papermill": {
     "duration": 2.047752,
     "end_time": "2023-03-27T15:10:48.548301",
     "exception": false,
     "start_time": "2023-03-27T15:10:46.500549",
     "status": "completed"
    },
    "tags": []
   },
   "source": [
    "# Trying to improve FM: Learning to Rank\n",
    "We are going to use a listwise approach using the tensorflow ranking library. To do this, we can't just input the data directly since in the movielens data each row contains only the information of one user for one movie and a listwise approachh requires a list of items for every user. So we have to cinvert our training data."
   ]
  },
  {
   "cell_type": "code",
   "execution_count": 63,
   "id": "615dc819",
   "metadata": {
    "execution": {
     "iopub.execute_input": "2023-03-27T15:10:52.497654Z",
     "iopub.status.busy": "2023-03-27T15:10:52.496646Z",
     "iopub.status.idle": "2023-03-27T15:10:52.519458Z",
     "shell.execute_reply": "2023-03-27T15:10:52.518376Z"
    },
    "papermill": {
     "duration": 2.092539,
     "end_time": "2023-03-27T15:10:52.522091",
     "exception": false,
     "start_time": "2023-03-27T15:10:50.429552",
     "status": "completed"
    },
    "tags": []
   },
   "outputs": [],
   "source": [
    "import tensorflow_ranking as tfr\n",
    "import tensorflow_recommenders as tfrs\n",
    "import itertools\n",
    "import pandas as pd"
   ]
  },
  {
   "cell_type": "markdown",
   "id": "de3f047d",
   "metadata": {
    "papermill": {
     "duration": 2.018296,
     "end_time": "2023-03-27T15:10:56.436937",
     "exception": false,
     "start_time": "2023-03-27T15:10:54.418641",
     "status": "completed"
    },
    "tags": []
   },
   "source": [
    "## Prepare the data"
   ]
  },
  {
   "cell_type": "code",
   "execution_count": 64,
   "id": "c6aee337",
   "metadata": {
    "_kg_hide-input": false,
    "execution": {
     "iopub.execute_input": "2023-03-27T15:11:00.388227Z",
     "iopub.status.busy": "2023-03-27T15:11:00.387544Z",
     "iopub.status.idle": "2023-03-27T15:11:00.397574Z",
     "shell.execute_reply": "2023-03-27T15:11:00.396629Z"
    },
    "papermill": {
     "duration": 1.924286,
     "end_time": "2023-03-27T15:11:00.400074",
     "exception": false,
     "start_time": "2023-03-27T15:10:58.475788",
     "status": "completed"
    },
    "tags": []
   },
   "outputs": [],
   "source": [
    "def generate_lists_of_movies(df, max_movies, max_lists=None):\n",
    "    groups = df.groupby('uid')\n",
    "    combs = []\n",
    "    uids = df['uid'].unique()\n",
    "    for uid, group in groups:\n",
    "        if len(group) > 0:\n",
    "            combs.append(itertools.combinations(\n",
    "                group[['mid', 'rating']].apply(lambda row: tuple(row), axis=1),\n",
    "                min(max_movies, group['mid'].shape[0])))\n",
    "    if max_lists is not None:\n",
    "        combs = [(uids[i], itertools.islice(comb, max_lists)) for i, comb in enumerate(combs)]\n",
    "    rdf = pd.DataFrame({\n",
    "        'uid': [uid for uid, comb in combs],\n",
    "        'mids_ratings': [list(comb) for uid, comb in combs],\n",
    "    }).explode('mids_ratings').reset_index(drop=True)\n",
    "    \n",
    "    rdf['mids'] = rdf['mids_ratings'].apply(lambda x: [int(t[0]) for t in x])\n",
    "    rdf['ratings'] = rdf['mids_ratings'].apply(lambda x: [t[1] for t in x])\n",
    "    \n",
    "    rdf.drop('mids_ratings', axis=1, inplace=True)\n",
    "    \n",
    "    return rdf"
   ]
  },
  {
   "cell_type": "code",
   "execution_count": 65,
   "id": "451f98f6",
   "metadata": {
    "execution": {
     "iopub.execute_input": "2023-03-27T15:11:04.312490Z",
     "iopub.status.busy": "2023-03-27T15:11:04.311807Z",
     "iopub.status.idle": "2023-03-27T15:11:29.824028Z",
     "shell.execute_reply": "2023-03-27T15:11:29.822670Z"
    },
    "papermill": {
     "duration": 27.400237,
     "end_time": "2023-03-27T15:11:29.826893",
     "exception": false,
     "start_time": "2023-03-27T15:11:02.426656",
     "status": "completed"
    },
    "tags": []
   },
   "outputs": [],
   "source": [
    "train_ltr = generate_lists_of_movies(train, max_movies=25, max_lists=20)\n",
    "val_ltr = generate_lists_of_movies(val, max_movies=25, max_lists=1)"
   ]
  },
  {
   "cell_type": "code",
   "execution_count": 66,
   "id": "637270a6",
   "metadata": {
    "execution": {
     "iopub.execute_input": "2023-03-27T15:11:33.912495Z",
     "iopub.status.busy": "2023-03-27T15:11:33.911628Z",
     "iopub.status.idle": "2023-03-27T15:11:34.743077Z",
     "shell.execute_reply": "2023-03-27T15:11:34.741803Z"
    },
    "papermill": {
     "duration": 2.879006,
     "end_time": "2023-03-27T15:11:34.746529",
     "exception": false,
     "start_time": "2023-03-27T15:11:31.867523",
     "status": "completed"
    },
    "tags": []
   },
   "outputs": [],
   "source": [
    "from tensorflow.keras.preprocessing.sequence import pad_sequences\n",
    "\n",
    "# pad movie IDs lists to a fixed length\n",
    "max_len = 25\n",
    "mids_padded_train = pad_sequences(train_ltr[\"mids\"].values, maxlen=max_len, padding='post', value=0)\n",
    "ratings_padded_train = pad_sequences(train_ltr[\"ratings\"].values, maxlen=max_len, padding='post', value=0)\n",
    "\n",
    "mids_padded_val = pad_sequences(val_ltr[\"mids\"].values, maxlen=max_len, padding='post', value=0)\n",
    "ratings_padded_val = pad_sequences(val_ltr[\"ratings\"].values, maxlen=max_len, padding='post', value=0)\n",
    "\n",
    "# create the dataset\n",
    "train_ds = tf.data.Dataset.from_tensor_slices((\n",
    "    {\"uid\": tf.constant(train_ltr[\"uid\"].values), \"mids\": tf.constant(mids_padded_train)},\n",
    "    tf.constant(ratings_padded_train)\n",
    ")).batch(14000)\n",
    "\n",
    "val_ds = tf.data.Dataset.from_tensor_slices((\n",
    "    {\"uid\": tf.constant(val_ltr[\"uid\"].values), \"mids\": tf.constant(mids_padded_val)},\n",
    "    tf.constant(ratings_padded_val)\n",
    ")).batch(14000)"
   ]
  },
  {
   "cell_type": "code",
   "execution_count": 67,
   "id": "d725766b",
   "metadata": {
    "execution": {
     "iopub.execute_input": "2023-03-27T15:11:38.649226Z",
     "iopub.status.busy": "2023-03-27T15:11:38.648804Z",
     "iopub.status.idle": "2023-03-27T15:11:38.658600Z",
     "shell.execute_reply": "2023-03-27T15:11:38.657507Z"
    },
    "papermill": {
     "duration": 2.03326,
     "end_time": "2023-03-27T15:11:38.661000",
     "exception": false,
     "start_time": "2023-03-27T15:11:36.627740",
     "status": "completed"
    },
    "tags": []
   },
   "outputs": [
    {
     "name": "stdout",
     "output_type": "stream",
     "text": [
      "Number of movies: 3952\n",
      "Number of users: 6040\n"
     ]
    }
   ],
   "source": [
    "unique_mids = train.mid.max()\n",
    "print(f'Number of movies: {unique_mids}')\n",
    "unique_uids = train.uid.max()\n",
    "print(f'Number of users: {unique_uids}')"
   ]
  },
  {
   "cell_type": "markdown",
   "id": "ff577908",
   "metadata": {
    "papermill": {
     "duration": 2.039104,
     "end_time": "2023-03-27T15:11:42.584564",
     "exception": false,
     "start_time": "2023-03-27T15:11:40.545460",
     "status": "completed"
    },
    "tags": []
   },
   "source": [
    "## Define the model"
   ]
  },
  {
   "cell_type": "code",
   "execution_count": 68,
   "id": "6dd35641",
   "metadata": {
    "execution": {
     "iopub.execute_input": "2023-03-27T15:11:46.518477Z",
     "iopub.status.busy": "2023-03-27T15:11:46.518038Z",
     "iopub.status.idle": "2023-03-27T15:11:46.535674Z",
     "shell.execute_reply": "2023-03-27T15:11:46.534034Z"
    },
    "papermill": {
     "duration": 1.907455,
     "end_time": "2023-03-27T15:11:46.538258",
     "exception": false,
     "start_time": "2023-03-27T15:11:44.630803",
     "status": "completed"
    },
    "tags": []
   },
   "outputs": [],
   "source": [
    "class RankingModel(tfrs.Model):\n",
    "    def __init__(self):\n",
    "        super().__init__()\n",
    "        embedding_dimension = 15\n",
    "\n",
    "        # Compute embeddings for users.\n",
    "        self.user_embeddings = tf.keras.layers.Embedding(unique_uids + 1, embedding_dimension)\n",
    "\n",
    "        # Compute embeddings for movies.\n",
    "        self.movie_embeddings = tf.keras.layers.Embedding(unique_mids + 1, embedding_dimension)\n",
    "\n",
    "        # Compute predictions.\n",
    "        self.score_model = tf.keras.Sequential([\n",
    "            tf.keras.layers.Dense(128, activation=\"relu\"),\n",
    "            tf.keras.layers.Dense(64, activation=\"relu\"),\n",
    "            tf.keras.layers.Dense(32, activation=\"relu\"),\n",
    "            # Make rating predictions in the final layer.\n",
    "            tf.keras.layers.Dense(1)\n",
    "        ])\n",
    "\n",
    "        self.task = tfrs.tasks.Ranking(\n",
    "            metrics=[\n",
    "                tfr.keras.metrics.NDCGMetric(name=\"ndcg_metric\"),\n",
    "                tfr.keras.metrics.MeanAveragePrecisionMetric()\n",
    "            ]\n",
    "        )\n",
    "\n",
    "    def call(self, features, training=False):\n",
    "        uid_input, mids_input = features[0][\"uid\"], features[0][\"mids\"]\n",
    "\n",
    "        # We first convert the id features into embeddings.\n",
    "        # User embeddings are a [batch_size, embedding_dim] tensor.\n",
    "        user_embeddings = self.user_embeddings(uid_input)\n",
    "\n",
    "        # Movie embeddings are a [batch_size, num_movies_in_list, embedding_dim]\n",
    "        # tensor.\n",
    "        movie_embeddings = self.movie_embeddings(mids_input)\n",
    "\n",
    "        # We want to concatenate user embeddings with movie embeddings to pass\n",
    "        # them into the ranking model. To do so, we need to reshape the user\n",
    "        # embeddings to match the shape of movie embeddings.\n",
    "        list_length = mids_input.shape[1]\n",
    "        user_embedding_repeated = tf.repeat(\n",
    "            tf.expand_dims(user_embeddings, 1), [list_length], axis=1)\n",
    "\n",
    "        # Once reshaped, we concatenate and pass into the dense layers to generate\n",
    "        # predictions.\n",
    "        concatenated_embeddings = tf.concat(\n",
    "            [user_embedding_repeated, movie_embeddings], 2)\n",
    "\n",
    "        return tf.squeeze(self.score_model(concatenated_embeddings), axis=-1)\n",
    "\n",
    "    def compute_loss(self, features, training=False):\n",
    "        labels = features[1]\n",
    "        scores = self(features)\n",
    "\n",
    "        return self.task(\n",
    "            labels=tf.cast(labels, float, name=None),\n",
    "            predictions=tf.cast(scores, float, name=None),\n",
    "        )\n",
    "    \n",
    "    def predict_top_LTR(self, uid, mid_list, at=25, get_seen_from=ratings):\n",
    "        pred_ltr = self.predict(({\"uid\": tf.constant([uid]), \"mids\": tf.constant([mid_list])},), verbose=0)[0]\n",
    "        # Combine the two lists using zip\n",
    "        combined = list(zip(pred_ltr, mid_list))\n",
    "        # Sort the combined list based on the values of pred in descending order\n",
    "        sorted_combined = sorted(combined, reverse=True)\n",
    "        # Separate the sorted list into two separate lists\n",
    "        sorted_pred, sorted_top = zip(*sorted_combined)\n",
    "        return sorted_top[:at]"
   ]
  },
  {
   "cell_type": "code",
   "execution_count": 69,
   "id": "658ea620",
   "metadata": {
    "execution": {
     "iopub.execute_input": "2023-03-27T15:11:50.465545Z",
     "iopub.status.busy": "2023-03-27T15:11:50.465138Z",
     "iopub.status.idle": "2023-03-27T15:11:50.474971Z",
     "shell.execute_reply": "2023-03-27T15:11:50.473937Z"
    },
    "papermill": {
     "duration": 1.897792,
     "end_time": "2023-03-27T15:11:50.477238",
     "exception": false,
     "start_time": "2023-03-27T15:11:48.579446",
     "status": "completed"
    },
    "tags": []
   },
   "outputs": [],
   "source": [
    "from tensorflow.keras.callbacks import  EarlyStopping, ModelCheckpoint, LearningRateScheduler\n",
    "import math\n",
    "def step_decay(epoch):\n",
    "    initial_lrate = 0.001\n",
    "    drop = 0.5\n",
    "    epochs_drop = 10.0\n",
    "    lrate = initial_lrate * math.pow(drop,  \n",
    "           math.floor((1+epoch)/epochs_drop))\n",
    "    return lrate\n",
    "\n",
    "def train_LTR(t_ds, v_ds):\n",
    "    early_stop = EarlyStopping(monitor='val_loss', patience=5)\n",
    "    model_ckp = ModelCheckpoint(filepath='./models/best_ltr.h5', \n",
    "                                monitor='val_loss',\n",
    "                                save_weights_only=True, \n",
    "                                save_best_only=True)\n",
    "    lr_scheduler = LearningRateScheduler(step_decay)\n",
    "    callbacks = [model_ckp,early_stop]\n",
    "\n",
    "    ltr_model = RankingModel()\n",
    "    ltr_model.compile(optimizer=tf.keras.optimizers.Adam(0.001), loss=tfr.keras.losses.ApproxNDCGLoss())\n",
    "    ltr_model.fit(t_ds, epochs=60, batch_size=32, validation_data=v_ds, callbacks = callbacks)\n",
    "    ltr_model.load_weights('./models/best_ltr.h5')\n",
    "    return ltr_model"
   ]
  },
  {
   "cell_type": "code",
   "execution_count": 70,
   "id": "dfb26b16",
   "metadata": {
    "execution": {
     "iopub.execute_input": "2023-03-27T15:11:54.491324Z",
     "iopub.status.busy": "2023-03-27T15:11:54.490796Z",
     "iopub.status.idle": "2023-03-27T15:11:54.496141Z",
     "shell.execute_reply": "2023-03-27T15:11:54.494778Z"
    },
    "papermill": {
     "duration": 1.997773,
     "end_time": "2023-03-27T15:11:54.498511",
     "exception": false,
     "start_time": "2023-03-27T15:11:52.500738",
     "status": "completed"
    },
    "tags": []
   },
   "outputs": [],
   "source": [
    "# ===================\n",
    "TRAIN_LTR = False\n",
    "# ==================="
   ]
  },
  {
   "cell_type": "code",
   "execution_count": 71,
   "id": "9cf4e153",
   "metadata": {
    "execution": {
     "iopub.execute_input": "2023-03-27T15:11:58.549482Z",
     "iopub.status.busy": "2023-03-27T15:11:58.549059Z",
     "iopub.status.idle": "2023-03-27T15:11:58.554218Z",
     "shell.execute_reply": "2023-03-27T15:11:58.552933Z"
    },
    "papermill": {
     "duration": 2.046786,
     "end_time": "2023-03-27T15:11:58.556661",
     "exception": false,
     "start_time": "2023-03-27T15:11:56.509875",
     "status": "completed"
    },
    "tags": []
   },
   "outputs": [],
   "source": [
    "if TRAIN_LTR:\n",
    "    LTR_model = train_LTR(train_ds, val_ds)"
   ]
  },
  {
   "cell_type": "markdown",
   "id": "142913fb",
   "metadata": {
    "papermill": {
     "duration": 2.019429,
     "end_time": "2023-03-27T15:12:02.459932",
     "exception": false,
     "start_time": "2023-03-27T15:12:00.440503",
     "status": "completed"
    },
    "tags": []
   },
   "source": [
    "## Evaluate FM models with LTR"
   ]
  },
  {
   "cell_type": "markdown",
   "id": "320f5e37",
   "metadata": {
    "papermill": {
     "duration": 2.024133,
     "end_time": "2023-03-27T15:12:06.368601",
     "exception": false,
     "start_time": "2023-03-27T15:12:04.344468",
     "status": "completed"
    },
    "tags": []
   },
   "source": [
    "### FM as Regression without weights"
   ]
  },
  {
   "cell_type": "code",
   "execution_count": 72,
   "id": "3f2705a2",
   "metadata": {
    "execution": {
     "iopub.execute_input": "2023-03-27T15:12:10.285108Z",
     "iopub.status.busy": "2023-03-27T15:12:10.284677Z",
     "iopub.status.idle": "2023-03-27T15:12:10.293267Z",
     "shell.execute_reply": "2023-03-27T15:12:10.291813Z"
    },
    "papermill": {
     "duration": 1.90842,
     "end_time": "2023-03-27T15:12:10.295975",
     "exception": false,
     "start_time": "2023-03-27T15:12:08.387555",
     "status": "completed"
    },
    "tags": []
   },
   "outputs": [],
   "source": [
    "import matplotlib.pyplot as plt\n",
    "import random\n",
    "if TRAIN_FM_REG and TRAIN_LTR:\n",
    "    most_recommended_REG_LTR = evaluate_FM_regression(val, FM_model_REG, LTR_model, TOP_model, train, at=25, use_ltr=True, sample=500)\n",
    "    pop_database = train[['mid', 'popularity']].drop_duplicates()\n",
    "    pop_database['most_reco_REG_LTR'] = pop_database['mid'].apply(lambda x: most_recommended_REG_LTR.get(x))\n",
    "    plt.scatter(pop_database['popularity'], pop_database['most_reco_REG_LTR'])\n",
    "    plt.xlabel('Popularity')\n",
    "    plt.ylabel('Recommended times')\n",
    "    plt.title('MSE loss - Movie Popularity vs Count')\n",
    "    plt.show()"
   ]
  },
  {
   "cell_type": "markdown",
   "id": "bf7df6b9",
   "metadata": {
    "papermill": {
     "duration": 1.879119,
     "end_time": "2023-03-27T15:12:14.209658",
     "exception": false,
     "start_time": "2023-03-27T15:12:12.330539",
     "status": "completed"
    },
    "tags": []
   },
   "source": [
    "### FM as Regression with weights"
   ]
  },
  {
   "cell_type": "code",
   "execution_count": 73,
   "id": "4266838d",
   "metadata": {
    "execution": {
     "iopub.execute_input": "2023-03-27T15:12:18.277180Z",
     "iopub.status.busy": "2023-03-27T15:12:18.276465Z",
     "iopub.status.idle": "2023-03-27T15:12:18.283777Z",
     "shell.execute_reply": "2023-03-27T15:12:18.282942Z"
    },
    "papermill": {
     "duration": 2.033291,
     "end_time": "2023-03-27T15:12:18.286111",
     "exception": false,
     "start_time": "2023-03-27T15:12:16.252820",
     "status": "completed"
    },
    "tags": []
   },
   "outputs": [],
   "source": [
    "if TRAIN_FM_REG_W and TRAIN_LTR:\n",
    "    most_recommended_REG_W_LTR = evaluate_FM_regression(val, FM_model_REG_W, LTR_model, TOP_model, train, at=25, use_ltr=True, sample=500)\n",
    "    pop_database = train[['mid', 'popularity']].drop_duplicates()\n",
    "    pop_database['most_reco_REG_W_LTR'] = pop_database['mid'].apply(lambda x: most_recommended_REG_W_LTR.get(x))\n",
    "    plt.scatter(pop_database['popularity'], pop_database['most_reco_REG_W_LTR'])\n",
    "    plt.xlabel('Popularity')\n",
    "    plt.ylabel('Recommended times')\n",
    "    plt.title('MSE loss - Movie Popularity vs Count')\n",
    "    plt.show()"
   ]
  },
  {
   "cell_type": "markdown",
   "id": "7c5af5d2",
   "metadata": {
    "papermill": {
     "duration": 2.077147,
     "end_time": "2023-03-27T15:12:22.247577",
     "exception": false,
     "start_time": "2023-03-27T15:12:20.170430",
     "status": "completed"
    },
    "tags": []
   },
   "source": [
    "### FM as classification without weights"
   ]
  },
  {
   "cell_type": "code",
   "execution_count": 74,
   "id": "d0cd6e69",
   "metadata": {
    "execution": {
     "iopub.execute_input": "2023-03-27T15:12:26.259514Z",
     "iopub.status.busy": "2023-03-27T15:12:26.259058Z",
     "iopub.status.idle": "2023-03-27T15:12:26.266331Z",
     "shell.execute_reply": "2023-03-27T15:12:26.265362Z"
    },
    "papermill": {
     "duration": 2.14245,
     "end_time": "2023-03-27T15:12:26.268690",
     "exception": false,
     "start_time": "2023-03-27T15:12:24.126240",
     "status": "completed"
    },
    "tags": []
   },
   "outputs": [],
   "source": [
    "import matplotlib.pyplot as plt\n",
    "import random\n",
    "if TRAIN_FM_CLASS and TRAIN_LTR:\n",
    "    most_recommended_CLASS_LTR = evaluate_FM_classification(val, FM_model_CLASS, LTR_model, TOP_model, train, at=25, use_ltr=True, sample=500)\n",
    "    pop_database = train[['mid', 'popularity']].drop_duplicates()\n",
    "    pop_database['most_reco_CLASS_LTR'] = pop_database['mid'].apply(lambda x: most_recommended_CLASS_LTR.get(x))\n",
    "    plt.scatter(pop_database['popularity'], pop_database['most_reco_CLASS_LTR'])\n",
    "    plt.xlabel('Popularity')\n",
    "    plt.ylabel('Recommended times')\n",
    "    plt.title('BCE loss - Movie Popularity vs Count')\n",
    "    plt.show()"
   ]
  },
  {
   "cell_type": "markdown",
   "id": "1e7f74ad",
   "metadata": {
    "papermill": {
     "duration": 1.901062,
     "end_time": "2023-03-27T15:12:30.205864",
     "exception": false,
     "start_time": "2023-03-27T15:12:28.304802",
     "status": "completed"
    },
    "tags": []
   },
   "source": [
    "### FM as classification with weights"
   ]
  },
  {
   "cell_type": "code",
   "execution_count": 75,
   "id": "ebaf4152",
   "metadata": {
    "execution": {
     "iopub.execute_input": "2023-03-27T15:12:34.181976Z",
     "iopub.status.busy": "2023-03-27T15:12:34.181380Z",
     "iopub.status.idle": "2023-03-27T15:12:34.189808Z",
     "shell.execute_reply": "2023-03-27T15:12:34.188426Z"
    },
    "papermill": {
     "duration": 1.935253,
     "end_time": "2023-03-27T15:12:34.192752",
     "exception": false,
     "start_time": "2023-03-27T15:12:32.257499",
     "status": "completed"
    },
    "tags": []
   },
   "outputs": [],
   "source": [
    "import matplotlib.pyplot as plt\n",
    "import random\n",
    "if TRAIN_FM_CLASS_W and TRAIN_LTR:\n",
    "    most_recommended_CLASS_W_LTR = evaluate_FM_classification(val, FM_model_CLASS_W, LTR_model, TOP_model, train, at=25, use_ltr=True, sample=500)\n",
    "    pop_database = train[['mid', 'popularity']].drop_duplicates()\n",
    "    pop_database['most_reco_CLASS_W_LTR'] = pop_database['mid'].apply(lambda x: most_recommended_CLASS_W_LTR.get(x))\n",
    "    plt.scatter(pop_database['popularity'], pop_database['most_reco_CLASS_W_LTR'])\n",
    "    plt.xlabel('Popularity')\n",
    "    plt.ylabel('Recommended times')\n",
    "    plt.title('BCE loss - Movie Popularity vs Count')\n",
    "    plt.show()"
   ]
  },
  {
   "cell_type": "markdown",
   "id": "25582f2a",
   "metadata": {
    "papermill": {
     "duration": 1.939215,
     "end_time": "2023-03-27T15:12:38.171878",
     "exception": false,
     "start_time": "2023-03-27T15:12:36.232663",
     "status": "completed"
    },
    "tags": []
   },
   "source": [
    "## Make submission "
   ]
  },
  {
   "cell_type": "code",
   "execution_count": 76,
   "id": "6e08497a",
   "metadata": {
    "execution": {
     "iopub.execute_input": "2023-03-27T15:12:42.215165Z",
     "iopub.status.busy": "2023-03-27T15:12:42.214499Z",
     "iopub.status.idle": "2023-03-27T15:12:42.232461Z",
     "shell.execute_reply": "2023-03-27T15:12:42.231524Z"
    },
    "papermill": {
     "duration": 2.044518,
     "end_time": "2023-03-27T15:12:42.235002",
     "exception": false,
     "start_time": "2023-03-27T15:12:40.190484",
     "status": "completed"
    },
    "tags": []
   },
   "outputs": [],
   "source": [
    "import csv\n",
    "\n",
    "if CREATE_SUBMISSION_FM_REG and TRAIN_LTR:\n",
    "    # open the file in the write mode\n",
    "    with open('solution_FM_REG_LTR.csv', 'w',encoding='UTF8') as f:\n",
    "        # create the csv writer\n",
    "        writer = csv.writer(f)\n",
    "        # write a row to the csv file\n",
    "        writer.writerow(['user_id', 'prediction'])\n",
    "        for user_id in tqdm(test.uid.unique()):\n",
    "            relevant_items = predict_FM_regression(user_id, FM_model_REG, LTR_model, TOP_model_comp, train_complete, use_ltr=True, at=25)\n",
    "            list_relevants = ' '.join([str(elem) for elem in relevant_items])\n",
    "            writer.writerow([str(user_id),list_relevants])\n",
    "            \n",
    "if CREATE_SUBMISSION_FM_REG_W and TRAIN_LTR:\n",
    "    # open the file in the write mode\n",
    "    with open('solution_FM_REG_W_LTR.csv', 'w',encoding='UTF8') as f:\n",
    "        # create the csv writer\n",
    "        writer = csv.writer(f)\n",
    "        # write a row to the csv file\n",
    "        writer.writerow(['user_id', 'prediction'])\n",
    "        for user_id in tqdm(test.uid.unique()):\n",
    "            relevant_items = predict_FM_regression(user_id, FM_model_REG_W, LTR_model, TOP_model_comp, train_complete, use_ltr=True, at=25)\n",
    "            list_relevants = ' '.join([str(elem) for elem in relevant_items])\n",
    "            writer.writerow([str(user_id),list_relevants])\n",
    "            \n",
    "if CREATE_SUBMISSION_FM_CLASS and TRAIN_LTR:\n",
    "    # open the file in the write mode\n",
    "    with open('solution_FM_CLASS_LTR.csv', 'w',encoding='UTF8') as f:\n",
    "        # create the csv writer\n",
    "        writer = csv.writer(f)\n",
    "        # write a row to the csv file\n",
    "        writer.writerow(['user_id', 'prediction'])\n",
    "        for user_id in tqdm(test.uid.unique()):\n",
    "            relevant_items = predict_FM_classification(user_id, FM_model_CLASS, LTR_model, TOP_model_comp, train_complete, use_ltr=True, at=25)\n",
    "            list_relevants = ' '.join([str(elem) for elem in relevant_items])\n",
    "            writer.writerow([str(user_id),list_relevants])\n",
    "            \n",
    "if CREATE_SUBMISSION_FM_CLASS_W and TRAIN_LTR:\n",
    "    # open the file in the write mode\n",
    "    with open('solution_FM_CLASS_W_LTR.csv', 'w',encoding='UTF8') as f:\n",
    "        # create the csv writer\n",
    "        writer = csv.writer(f)\n",
    "        # write a row to the csv file\n",
    "        writer.writerow(['user_id', 'prediction'])\n",
    "        for user_id in tqdm(test.uid.unique()):\n",
    "            relevant_items = predict_FM_classification(user_id, FM_model_CLASS_W, LTR_model, TOP_model_comp, train_complete, use_ltr=True, at=25)\n",
    "            list_relevants = ' '.join([str(elem) for elem in relevant_items])\n",
    "            writer.writerow([str(user_id),list_relevants])"
   ]
  },
  {
   "cell_type": "code",
   "execution_count": null,
   "id": "20c15a8d",
   "metadata": {
    "papermill": {
     "duration": 2.079175,
     "end_time": "2023-03-27T15:12:46.219272",
     "exception": false,
     "start_time": "2023-03-27T15:12:44.140097",
     "status": "completed"
    },
    "tags": []
   },
   "outputs": [],
   "source": []
  }
 ],
 "metadata": {
  "kernelspec": {
   "display_name": "Python 3",
   "language": "python",
   "name": "python3"
  },
  "language_info": {
   "codemirror_mode": {
    "name": "ipython",
    "version": 3
   },
   "file_extension": ".py",
   "mimetype": "text/x-python",
   "name": "python",
   "nbconvert_exporter": "python",
   "pygments_lexer": "ipython3",
   "version": "3.7.12"
  },
  "papermill": {
   "default_parameters": {},
   "duration": 28086.236604,
   "end_time": "2023-03-27T15:12:51.151325",
   "environment_variables": {},
   "exception": null,
   "input_path": "__notebook__.ipynb",
   "output_path": "__notebook__.ipynb",
   "parameters": {},
   "start_time": "2023-03-27T07:24:44.914721",
   "version": "2.4.0"
  }
 },
 "nbformat": 4,
 "nbformat_minor": 5
}
