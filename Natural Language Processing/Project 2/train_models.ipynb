{
 "cells": [
  {
   "attachments": {},
   "cell_type": "markdown",
   "metadata": {
    "collapsed": false
   },
   "source": [
    "# Train Models\n",
    "<div style=\"color:red; font-size:14px;\">!! Don't define functions here, import them from utils.py</div>\n",
    "\n",
    "This notebook contains the code needed to train and store models to disk.\n",
    "\n",
    "Remember that if you use a function with a random state you have to fix it to a number so that the results are reproducible."
   ]
  },
  {
   "attachments": {},
   "cell_type": "markdown",
   "metadata": {
    "collapsed": false
   },
   "source": [
    "## Imports"
   ]
  },
  {
   "cell_type": "code",
   "execution_count": 1,
   "metadata": {},
   "outputs": [
    {
     "name": "stdout",
     "output_type": "stream",
     "text": [
      "Requirement already satisfied: livelossplot in /opt/anaconda3/envs/master/lib/python3.9/site-packages (0.5.5)\r\n",
      "Requirement already satisfied: bokeh in /opt/anaconda3/envs/master/lib/python3.9/site-packages (from livelossplot) (3.1.1)\r\n",
      "Requirement already satisfied: matplotlib in /opt/anaconda3/envs/master/lib/python3.9/site-packages (from livelossplot) (3.7.0)\r\n",
      "Requirement already satisfied: pillow>=7.1.0 in /opt/anaconda3/envs/master/lib/python3.9/site-packages (from bokeh->livelossplot) (9.4.0)\r\n",
      "Requirement already satisfied: xyzservices>=2021.09.1 in /opt/anaconda3/envs/master/lib/python3.9/site-packages (from bokeh->livelossplot) (2023.5.0)\r\n",
      "Requirement already satisfied: packaging>=16.8 in /opt/anaconda3/envs/master/lib/python3.9/site-packages (from bokeh->livelossplot) (23.0)\r\n",
      "Requirement already satisfied: pandas>=1.2 in /opt/anaconda3/envs/master/lib/python3.9/site-packages (from bokeh->livelossplot) (1.4.2)\r\n",
      "Requirement already satisfied: contourpy>=1 in /opt/anaconda3/envs/master/lib/python3.9/site-packages (from bokeh->livelossplot) (1.0.5)\r\n",
      "Requirement already satisfied: Jinja2>=2.9 in /opt/anaconda3/envs/master/lib/python3.9/site-packages (from bokeh->livelossplot) (3.1.2)\r\n",
      "Requirement already satisfied: tornado>=5.1 in /opt/anaconda3/envs/master/lib/python3.9/site-packages (from bokeh->livelossplot) (6.2)\r\n",
      "Requirement already satisfied: numpy>=1.16 in /opt/anaconda3/envs/master/lib/python3.9/site-packages (from bokeh->livelossplot) (1.23.2)\r\n",
      "Requirement already satisfied: PyYAML>=3.10 in /opt/anaconda3/envs/master/lib/python3.9/site-packages (from bokeh->livelossplot) (6.0)\r\n",
      "Requirement already satisfied: fonttools>=4.22.0 in /opt/anaconda3/envs/master/lib/python3.9/site-packages (from matplotlib->livelossplot) (4.25.0)\r\n",
      "Requirement already satisfied: pyparsing>=2.3.1 in /opt/anaconda3/envs/master/lib/python3.9/site-packages (from matplotlib->livelossplot) (3.0.9)\r\n",
      "Requirement already satisfied: importlib-resources>=3.2.0 in /opt/anaconda3/envs/master/lib/python3.9/site-packages (from matplotlib->livelossplot) (5.2.0)\r\n",
      "Requirement already satisfied: kiwisolver>=1.0.1 in /opt/anaconda3/envs/master/lib/python3.9/site-packages (from matplotlib->livelossplot) (1.4.4)\r\n",
      "Requirement already satisfied: python-dateutil>=2.7 in /opt/anaconda3/envs/master/lib/python3.9/site-packages (from matplotlib->livelossplot) (2.8.2)\r\n",
      "Requirement already satisfied: cycler>=0.10 in /opt/anaconda3/envs/master/lib/python3.9/site-packages (from matplotlib->livelossplot) (0.11.0)\r\n",
      "Requirement already satisfied: zipp>=3.1.0 in /opt/anaconda3/envs/master/lib/python3.9/site-packages (from importlib-resources>=3.2.0->matplotlib->livelossplot) (3.11.0)\r\n",
      "Requirement already satisfied: MarkupSafe>=2.0 in /opt/anaconda3/envs/master/lib/python3.9/site-packages (from Jinja2>=2.9->bokeh->livelossplot) (2.1.1)\r\n",
      "Requirement already satisfied: pytz>=2020.1 in /opt/anaconda3/envs/master/lib/python3.9/site-packages (from pandas>=1.2->bokeh->livelossplot) (2022.7)\r\n",
      "Requirement already satisfied: six>=1.5 in /opt/anaconda3/envs/master/lib/python3.9/site-packages (from python-dateutil>=2.7->matplotlib->livelossplot) (1.16.0)\r\n"
     ]
    }
   ],
   "source": [
    "# Install livelossplot\n",
    "!pip install livelossplot"
   ]
  },
  {
   "cell_type": "code",
   "execution_count": 2,
   "metadata": {
    "collapsed": false
   },
   "outputs": [
    {
     "name": "stdout",
     "output_type": "stream",
     "text": [
      "running build_ext\r\n"
     ]
    }
   ],
   "source": [
    "# Cython import\n",
    "!python skseq/setup.py build_ext --build-lib=./skseq"
   ]
  },
  {
   "cell_type": "code",
   "execution_count": 5,
   "metadata": {
    "collapsed": false
   },
   "outputs": [],
   "source": [
    "import pandas as pd\n",
    "import pickle\n",
    "\n",
    "from skseq.id_feature import IDFeatures\n",
    "from skseq.extended_feature import ExtendedFeatures\n",
    "\n",
    "from skseq import structured_perceptron_c \n",
    "from skseq.structured_perceptron import StructuredPerceptron\n",
    "\n",
    "from utils.utils import *\n",
    "\n",
    "import tensorflow as tf\n",
    "from tensorflow.keras.callbacks import ModelCheckpoint, EarlyStopping\n",
    "from livelossplot.tf_keras import PlotLossesCallback\n"
   ]
  },
  {
   "cell_type": "code",
   "execution_count": 6,
   "metadata": {
    "collapsed": false
   },
   "outputs": [],
   "source": [
    "%load_ext autoreload\n",
    "%autoreload 2"
   ]
  },
  {
   "attachments": {},
   "cell_type": "markdown",
   "metadata": {
    "collapsed": false
   },
   "source": [
    "## Create Train set"
   ]
  },
  {
   "cell_type": "code",
   "execution_count": 7,
   "metadata": {
    "collapsed": false
   },
   "outputs": [],
   "source": [
    "train = pd.read_csv(\"data/train_data_ner.csv\")"
   ]
  },
  {
   "cell_type": "code",
   "execution_count": 8,
   "metadata": {
    "collapsed": false
   },
   "outputs": [
    {
     "name": "stderr",
     "output_type": "stream",
     "text": [
      "Processing: 100%|██████████| 38366/38366 [02:15<00:00, 283.78sentence/s]\n"
     ]
    }
   ],
   "source": [
    "X_train, y_train = get_data_target_sets(train)"
   ]
  },
  {
   "attachments": {},
   "cell_type": "markdown",
   "metadata": {
    "collapsed": false
   },
   "source": [
    "### Create Corpus\n",
    "\n",
    "We need to create our corpus using the training data. The corpus consists of two dictionaries, one for the words and one for the tags. The words dictionary maps each word to an index and the tags dictionary maps each tag to an index. We also need to create the reverse mapping for the tags dictionary. This is needed to convert the predictions back to the tag names.\n",
    "\n",
    "Example:\n",
    "```python\n",
    "        sentences = [['I', 'love', 'Python'], ['Python', 'is', 'great']]\n",
    "        tags = ['O', 'O', 'B']\n",
    "        word_dict, tag_dict, tag_dict_rev = create_corpus(sentences, tags)\n",
    "        # word_dict: {'I': 0, 'love': 1, 'Python': 2, 'is': 3, 'great': 4}\n",
    "        # tag_dict: {'O': 0, 'B': 1}\n",
    "        # tag_dict_rev: {0: 'O', 1: 'B'}\n",
    "```"
   ]
  },
  {
   "cell_type": "code",
   "execution_count": 9,
   "metadata": {
    "collapsed": false
   },
   "outputs": [],
   "source": [
    "word_dict, tag_dict, tag_dict_rev = create_corpus(X_train, y_train)"
   ]
  },
  {
   "attachments": {},
   "cell_type": "markdown",
   "metadata": {
    "collapsed": false
   },
   "source": [
    "### Create Training Sequence List"
   ]
  },
  {
   "attachments": {},
   "cell_type": "markdown",
   "metadata": {
    "collapsed": false
   },
   "source": [
    "#### No Cython"
   ]
  },
  {
   "cell_type": "code",
   "execution_count": 10,
   "metadata": {
    "collapsed": false
   },
   "outputs": [
    {
     "name": "stderr",
     "output_type": "stream",
     "text": [
      "Adding sequences: 100%|██████████| 38366/38366 [13:01<00:00, 49.08sequence/s]\n"
     ]
    }
   ],
   "source": [
    "train_seq = create_sequence_list(word_dict, tag_dict, X_train, y_train)"
   ]
  },
  {
   "attachments": {},
   "cell_type": "markdown",
   "metadata": {
    "collapsed": false
   },
   "source": [
    "#### Cython"
   ]
  },
  {
   "cell_type": "code",
   "execution_count": 11,
   "metadata": {
    "collapsed": false
   },
   "outputs": [
    {
     "name": "stderr",
     "output_type": "stream",
     "text": [
      "Adding sequences: 100%|██████████| 38366/38366 [11:10<00:00, 57.24sequence/s]\n"
     ]
    }
   ],
   "source": [
    "train_seq = create_sequence_listC(word_dict, tag_dict, X_train, y_train)"
   ]
  },
  {
   "cell_type": "markdown",
   "source": [
    "Notice a time improvement of around 2 minutes using Cython!"
   ],
   "metadata": {
    "collapsed": false
   }
  },
  {
   "cell_type": "code",
   "execution_count": 8,
   "metadata": {
    "collapsed": false
   },
   "outputs": [
    {
     "name": "stdout",
     "output_type": "stream",
     "text": [
      "0/0 1/0 2/0 3/0 4/0 5/0 6/1 7/0 8/0 9/0 10/0 11/0 12/1 13/0 14/0 9/0 15/0 1/0 16/2 17/0 18/0 19/0 20/0 21/0 \n",
      "Thousands/O of/O demonstrators/O have/O marched/O through/O London/B-geo to/O protest/O the/O war/O in/O Iraq/B-geo and/O demand/O the/O withdrawal/O of/O British/B-gpe troops/O from/O that/O country/O ./O \n"
     ]
    }
   ],
   "source": [
    "print(train_seq[0])\n",
    "print(train_seq[0].to_words(sequence_list=train_seq))"
   ]
  },
  {
   "attachments": {},
   "cell_type": "markdown",
   "metadata": {
    "collapsed": false
   },
   "source": [
    "## Train Models"
   ]
  },
  {
   "attachments": {},
   "cell_type": "markdown",
   "metadata": {
    "collapsed": false
   },
   "source": [
    "<div class=\"alert\" style=\"padding: 20px;background-color: #2cbc84; color: white; margin-bottom: 15px;\">\n",
    "<h3>Structured Perceptron w/ Default Features</h3>\n",
    "</div>\n",
    "\n",
    "To train the structured perceptron we must create a feature mapper and build it."
   ]
  },
  {
   "cell_type": "code",
   "execution_count": 9,
   "metadata": {
    "collapsed": false
   },
   "outputs": [],
   "source": [
    "feature_mapper = IDFeatures(train_seq)\n",
    "feature_mapper.build_features()"
   ]
  },
  {
   "cell_type": "code",
   "execution_count": 10,
   "metadata": {
    "collapsed": false
   },
   "outputs": [
    {
     "name": "stdout",
     "output_type": "stream",
     "text": [
      "Initial features\n",
      "[0] init_tag:O\n",
      "\n",
      "\n",
      "Transition features\n",
      "[3] prev_tag:O::O\n",
      "[3] prev_tag:O::O\n",
      "[3] prev_tag:O::O\n",
      "[3] prev_tag:O::O\n",
      "[3] prev_tag:O::O\n",
      "[9] prev_tag:O::B-geo\n",
      "[11] prev_tag:B-geo::O\n",
      "[3] prev_tag:O::O\n",
      "[3] prev_tag:O::O\n",
      "[3] prev_tag:O::O\n",
      "[3] prev_tag:O::O\n",
      "[9] prev_tag:O::B-geo\n",
      "[11] prev_tag:B-geo::O\n",
      "[3] prev_tag:O::O\n",
      "[3] prev_tag:O::O\n",
      "[3] prev_tag:O::O\n",
      "[3] prev_tag:O::O\n",
      "[21] prev_tag:O::B-gpe\n",
      "[23] prev_tag:B-gpe::O\n",
      "[3] prev_tag:O::O\n",
      "[3] prev_tag:O::O\n",
      "[3] prev_tag:O::O\n",
      "[3] prev_tag:O::O\n",
      "\n",
      "\n",
      "Final features\n",
      "[28] final_prev_tag:O\n",
      "\n",
      "\n",
      "Emission features\n",
      "[1] id:Thousands::O\n",
      "[2] id:of::O\n",
      "[4] id:demonstrators::O\n",
      "[5] id:have::O\n",
      "[6] id:marched::O\n",
      "[7] id:through::O\n",
      "[8] id:London::B-geo\n",
      "[10] id:to::O\n",
      "[12] id:protest::O\n",
      "[13] id:the::O\n",
      "[14] id:war::O\n",
      "[15] id:in::O\n",
      "[16] id:Iraq::B-geo\n",
      "[17] id:and::O\n",
      "[18] id:demand::O\n",
      "[13] id:the::O\n",
      "[19] id:withdrawal::O\n",
      "[2] id:of::O\n",
      "[20] id:British::B-gpe\n",
      "[22] id:troops::O\n",
      "[24] id:from::O\n",
      "[25] id:that::O\n",
      "[26] id:country::O\n",
      "[27] id:.::O\n",
      "\n",
      "\n"
     ]
    }
   ],
   "source": [
    "show_features(feature_mapper, train_seq[0])"
   ]
  },
  {
   "attachments": {},
   "cell_type": "markdown",
   "metadata": {
    "collapsed": false
   },
   "source": [
    "### Train"
   ]
  },
  {
   "attachments": {},
   "cell_type": "markdown",
   "metadata": {
    "collapsed": false
   },
   "source": [
    "#### No Cython"
   ]
  },
  {
   "cell_type": "code",
   "execution_count": 10,
   "metadata": {
    "collapsed": false
   },
   "outputs": [],
   "source": [
    "num_epochs = 15\n",
    "sp = StructuredPerceptron(word_dict, tag_dict, feature_mapper)\n",
    "sp.num_epochs = 5"
   ]
  },
  {
   "cell_type": "code",
   "execution_count": 11,
   "metadata": {
    "collapsed": false
   },
   "outputs": [
    {
     "name": "stdout",
     "output_type": "stream",
     "text": [
      "Epoch: 0 Accuracy: 0.893815\n",
      "Epoch: 1 Accuracy: 0.931674\n",
      "Epoch: 2 Accuracy: 0.940913\n",
      "Epoch: 3 Accuracy: 0.946175\n",
      "Epoch: 4 Accuracy: 0.950018\n",
      "Epoch: 5 Accuracy: 0.952577\n",
      "Epoch: 6 Accuracy: 0.954425\n",
      "Epoch: 7 Accuracy: 0.956033\n",
      "Epoch: 8 Accuracy: 0.957185\n",
      "Epoch: 9 Accuracy: 0.958481\n",
      "Epoch: 10 Accuracy: 0.959217\n",
      "Epoch: 11 Accuracy: 0.960524\n",
      "Epoch: 12 Accuracy: 0.961121\n",
      "Epoch: 13 Accuracy: 0.961207\n",
      "Epoch: 14 Accuracy: 0.961983\n",
      "CPU times: user 1h 33min 59s, sys: 20 s, total: 1h 34min 19s\n",
      "Wall time: 1h 34min 18s\n"
     ]
    }
   ],
   "source": [
    "%%time\n",
    "sp.fit(feature_mapper.dataset, num_epochs)"
   ]
  },
  {
   "attachments": {},
   "cell_type": "markdown",
   "metadata": {
    "collapsed": false
   },
   "source": [
    "#### Cython"
   ]
  },
  {
   "cell_type": "code",
   "execution_count": 11,
   "metadata": {
    "collapsed": false
   },
   "outputs": [],
   "source": [
    "num_epochs = 15\n",
    "sp_c = structured_perceptron_c.StructuredPerceptronC(word_dict, tag_dict, feature_mapper)\n",
    "sp_c.num_epochs = 5"
   ]
  },
  {
   "cell_type": "code",
   "execution_count": 12,
   "metadata": {
    "collapsed": false
   },
   "outputs": [
    {
     "name": "stdout",
     "output_type": "stream",
     "text": [
      "Epoch: 0 Accuracy: 0.893815\n",
      "Epoch: 1 Accuracy: 0.931674\n",
      "Epoch: 2 Accuracy: 0.940913\n",
      "Epoch: 3 Accuracy: 0.946175\n",
      "Epoch: 4 Accuracy: 0.950018\n",
      "Epoch: 5 Accuracy: 0.952577\n",
      "Epoch: 6 Accuracy: 0.954425\n",
      "Epoch: 7 Accuracy: 0.956033\n",
      "Epoch: 8 Accuracy: 0.957185\n",
      "Epoch: 9 Accuracy: 0.958481\n",
      "Epoch: 10 Accuracy: 0.959217\n",
      "Epoch: 11 Accuracy: 0.960524\n",
      "Epoch: 12 Accuracy: 0.961121\n",
      "Epoch: 13 Accuracy: 0.961207\n",
      "Epoch: 14 Accuracy: 0.961983\n",
      "CPU times: user 59min 8s, sys: 13.5 s, total: 59min 21s\n",
      "Wall time: 59min 20s\n"
     ]
    }
   ],
   "source": [
    "%%time\n",
    "sp_c.fit(feature_mapper.dataset, num_epochs)"
   ]
  },
  {
   "attachments": {},
   "cell_type": "markdown",
   "metadata": {
    "collapsed": false
   },
   "source": [
    "### Save"
   ]
  },
  {
   "cell_type": "code",
   "execution_count": 13,
   "metadata": {
    "collapsed": false
   },
   "outputs": [],
   "source": [
    "sp.save_model(\"fitted_models/01_SP_Default_Features\")\n",
    "sp_c.save_model(\"fitted_models/01C_SP_Default_Features\")"
   ]
  },
  {
   "attachments": {},
   "cell_type": "markdown",
   "metadata": {
    "collapsed": false
   },
   "source": [
    "<div class=\"alert\" style=\"padding: 20px;background-color: #2cbc84; color: white; margin-bottom: 15px;\">\n",
    "<h3>Structured Perceptron w/ New Features</h3>\n",
    "</div>"
   ]
  },
  {
   "cell_type": "code",
   "execution_count": 12,
   "metadata": {
    "collapsed": false
   },
   "outputs": [],
   "source": [
    "feature_mapper_ext = ExtendedFeatures(train_seq)\n",
    "feature_mapper_ext.build_features()"
   ]
  },
  {
   "cell_type": "code",
   "execution_count": 13,
   "metadata": {
    "collapsed": false
   },
   "outputs": [
    {
     "name": "stdout",
     "output_type": "stream",
     "text": [
      "Initial features\n",
      "[0] init_tag:O\n",
      "\n",
      "\n",
      "Transition features\n",
      "[8] prev_tag:O::O\n",
      "[45] prev_tag:O::B-tim\n",
      "[47] prev_tag:B-tim::O\n",
      "[8] prev_tag:O::O\n",
      "[8] prev_tag:O::O\n",
      "[8] prev_tag:O::O\n",
      "[8] prev_tag:O::O\n",
      "[16] prev_tag:O::B-geo\n",
      "[18] prev_tag:B-geo::O\n",
      "[8] prev_tag:O::O\n",
      "[8] prev_tag:O::O\n",
      "[8] prev_tag:O::O\n",
      "[8] prev_tag:O::O\n",
      "[59] prev_tag:O::B-org\n",
      "[61] prev_tag:B-org::O\n",
      "[8] prev_tag:O::O\n",
      "[8] prev_tag:O::O\n",
      "[8] prev_tag:O::O\n",
      "[8] prev_tag:O::O\n",
      "[8] prev_tag:O::O\n",
      "[8] prev_tag:O::O\n",
      "[8] prev_tag:O::O\n",
      "[8] prev_tag:O::O\n",
      "[8] prev_tag:O::O\n",
      "[8] prev_tag:O::O\n",
      "[8] prev_tag:O::O\n",
      "[8] prev_tag:O::O\n",
      "[8] prev_tag:O::O\n",
      "[16] prev_tag:O::B-geo\n",
      "[77] prev_tag:B-geo::I-geo\n",
      "[78] prev_tag:I-geo::O\n",
      "\n",
      "\n",
      "Final features\n",
      "[38] final_prev_tag:O\n",
      "\n",
      "\n",
      "Emission features\n",
      "[39, 2, 3] id:Helicopter::O\n",
      "[39, 2, 3] firstupper::O\n",
      "[39, 2, 3] alphanum::O\n",
      "[40, 5, 3] id:gunships::O\n",
      "[40, 5, 3] lower::O\n",
      "[40, 5, 3] alphanum::O\n",
      "[41, 42, 43, 44, 44] id:Saturday::B-tim\n",
      "[41, 42, 43, 44, 44] firstupper::B-tim\n",
      "[41, 42, 43, 44, 44] alphanum::B-tim\n",
      "[41, 42, 43, 44, 44] suffixday::B-tim\n",
      "[41, 42, 43, 44, 44] suffixday::B-tim\n",
      "[46, 5, 3] id:pounded::O\n",
      "[46, 5, 3] lower::O\n",
      "[46, 5, 3] alphanum::O\n",
      "[48, 5, 3] id:militant::O\n",
      "[48, 5, 3] lower::O\n",
      "[48, 5, 3] alphanum::O\n",
      "[49, 5, 3] id:hideouts::O\n",
      "[49, 5, 3] lower::O\n",
      "[49, 5, 3] alphanum::O\n",
      "[22, 5, 3, 6, 7] id:in::O\n",
      "[22, 5, 3, 6, 7] lower::O\n",
      "[22, 5, 3, 6, 7] alphanum::O\n",
      "[22, 5, 3, 6, 7] preposition::O\n",
      "[22, 5, 3, 6, 7] stopword::O\n",
      "[20, 5, 3, 6, 7] id:the::O\n",
      "[20, 5, 3, 6, 7] lower::O\n",
      "[20, 5, 3, 6, 7] alphanum::O\n",
      "[20, 5, 3, 6, 7] preposition::O\n",
      "[20, 5, 3, 6, 7] stopword::O\n",
      "[50, 14, 15] id:Orakzai::B-geo\n",
      "[50, 14, 15] firstupper::B-geo\n",
      "[50, 14, 15] alphanum::B-geo\n",
      "[51, 5, 3] id:tribal::O\n",
      "[51, 5, 3] lower::O\n",
      "[51, 5, 3] alphanum::O\n",
      "[52, 5, 3] id:region::O\n",
      "[52, 5, 3] lower::O\n",
      "[52, 5, 3] alphanum::O\n",
      "[53] id:,::O\n",
      "[54, 5, 3, 7] id:where::O\n",
      "[54, 5, 3, 7] lower::O\n",
      "[54, 5, 3, 7] alphanum::O\n",
      "[54, 5, 3, 7] stopword::O\n",
      "[55, 5, 3] id:many::O\n",
      "[55, 5, 3] lower::O\n",
      "[55, 5, 3] alphanum::O\n",
      "[56, 57, 58] id:Taliban::B-org\n",
      "[56, 57, 58] firstupper::B-org\n",
      "[56, 57, 58] alphanum::B-org\n",
      "[60, 5, 3] id:militants::O\n",
      "[60, 5, 3] lower::O\n",
      "[60, 5, 3] alphanum::O\n",
      "[62, 5, 3, 7] id:are::O\n",
      "[62, 5, 3, 7] lower::O\n",
      "[62, 5, 3, 7] alphanum::O\n",
      "[62, 5, 3, 7] stopword::O\n",
      "[63, 5, 3] id:believed::O\n",
      "[63, 5, 3] lower::O\n",
      "[63, 5, 3] alphanum::O\n",
      "[17, 5, 3, 6, 7] id:to::O\n",
      "[17, 5, 3, 6, 7] lower::O\n",
      "[17, 5, 3, 6, 7] alphanum::O\n",
      "[17, 5, 3, 6, 7] preposition::O\n",
      "[17, 5, 3, 6, 7] stopword::O\n",
      "[10, 5, 3, 7] id:have::O\n",
      "[10, 5, 3, 7] lower::O\n",
      "[10, 5, 3, 7] alphanum::O\n",
      "[10, 5, 3, 7] stopword::O\n",
      "[64, 5, 3] id:fled::O\n",
      "[64, 5, 3] lower::O\n",
      "[64, 5, 3] alphanum::O\n",
      "[17, 5, 3, 6, 7] id:to::O\n",
      "[17, 5, 3, 6, 7] lower::O\n",
      "[17, 5, 3, 6, 7] alphanum::O\n",
      "[17, 5, 3, 6, 7] preposition::O\n",
      "[17, 5, 3, 6, 7] stopword::O\n",
      "[65, 5, 3] id:avoid::O\n",
      "[65, 5, 3] lower::O\n",
      "[65, 5, 3] alphanum::O\n",
      "[66, 5, 3, 7] id:an::O\n",
      "[66, 5, 3, 7] lower::O\n",
      "[66, 5, 3, 7] alphanum::O\n",
      "[66, 5, 3, 7] stopword::O\n",
      "[67, 5, 3] id:earlier::O\n",
      "[67, 5, 3] lower::O\n",
      "[67, 5, 3] alphanum::O\n",
      "[68, 5, 3] id:military::O\n",
      "[68, 5, 3] lower::O\n",
      "[68, 5, 3] alphanum::O\n",
      "[69, 5, 3] id:offensive::O\n",
      "[69, 5, 3] lower::O\n",
      "[69, 5, 3] alphanum::O\n",
      "[22, 5, 3, 6, 7] id:in::O\n",
      "[22, 5, 3, 6, 7] lower::O\n",
      "[22, 5, 3, 6, 7] alphanum::O\n",
      "[22, 5, 3, 6, 7] preposition::O\n",
      "[22, 5, 3, 6, 7] stopword::O\n",
      "[70, 5, 3] id:nearby::O\n",
      "[70, 5, 3] lower::O\n",
      "[70, 5, 3] alphanum::O\n",
      "[71, 14, 15, 72] id:South::B-geo\n",
      "[71, 14, 15, 72] firstupper::B-geo\n",
      "[71, 14, 15, 72] alphanum::B-geo\n",
      "[71, 14, 15, 72] prefixSouth::B-geo\n",
      "[73, 74, 75, 76, 76] id:Waziristan::I-geo\n",
      "[73, 74, 75, 76, 76] firstupper::I-geo\n",
      "[73, 74, 75, 76, 76] alphanum::I-geo\n",
      "[73, 74, 75, 76, 76] suffixstan::I-geo\n",
      "[73, 74, 75, 76, 76] suffixstan::I-geo\n",
      "[37] id:.::O\n",
      "\n",
      "\n"
     ]
    }
   ],
   "source": [
    "show_features(feature_mapper_ext, train_seq[1])"
   ]
  },
  {
   "attachments": {},
   "cell_type": "markdown",
   "metadata": {
    "collapsed": false
   },
   "source": [
    "### Train"
   ]
  },
  {
   "attachments": {},
   "cell_type": "markdown",
   "metadata": {
    "collapsed": false
   },
   "source": [
    "#### No Cython"
   ]
  },
  {
   "cell_type": "code",
   "execution_count": 14,
   "metadata": {
    "collapsed": false
   },
   "outputs": [],
   "source": [
    "num_epochs = 15\n",
    "sp_ext = StructuredPerceptron(word_dict, tag_dict, feature_mapper_ext)\n",
    "sp_ext.num_epochs = 5"
   ]
  },
  {
   "cell_type": "code",
   "execution_count": 15,
   "metadata": {
    "collapsed": false
   },
   "outputs": [
    {
     "name": "stdout",
     "output_type": "stream",
     "text": [
      "Epoch: 0 Accuracy: 0.930157\n",
      "Epoch: 1 Accuracy: 0.944669\n",
      "Epoch: 2 Accuracy: 0.948542\n",
      "Epoch: 3 Accuracy: 0.951180\n",
      "Epoch: 4 Accuracy: 0.953505\n",
      "Epoch: 5 Accuracy: 0.954438\n",
      "Epoch: 6 Accuracy: 0.955883\n",
      "Epoch: 7 Accuracy: 0.956796\n",
      "Epoch: 8 Accuracy: 0.957754\n",
      "Epoch: 9 Accuracy: 0.958079\n",
      "Epoch: 10 Accuracy: 0.959030\n",
      "Epoch: 11 Accuracy: 0.959852\n",
      "Epoch: 12 Accuracy: 0.959726\n",
      "Epoch: 13 Accuracy: 0.960705\n",
      "Epoch: 14 Accuracy: 0.961026\n",
      "CPU times: total: 2h 3min 41s\n",
      "Wall time: 2h 5min 59s\n"
     ]
    }
   ],
   "source": [
    "%%time\n",
    "sp_ext.fit(feature_mapper_ext.dataset, num_epochs)"
   ]
  },
  {
   "attachments": {},
   "cell_type": "markdown",
   "metadata": {
    "collapsed": false
   },
   "source": [
    "#### Cython"
   ]
  },
  {
   "cell_type": "code",
   "execution_count": 16,
   "metadata": {
    "collapsed": false
   },
   "outputs": [],
   "source": [
    "num_epochs = 15\n",
    "sp_ext_c = structured_perceptron_c.StructuredPerceptronC(word_dict, tag_dict, feature_mapper_ext)\n",
    "sp_ext_c.num_epochs = 5"
   ]
  },
  {
   "cell_type": "code",
   "execution_count": 17,
   "metadata": {
    "collapsed": false
   },
   "outputs": [
    {
     "name": "stdout",
     "output_type": "stream",
     "text": [
      "Epoch: 0 Accuracy: 0.930157\n",
      "Epoch: 1 Accuracy: 0.944669\n",
      "Epoch: 2 Accuracy: 0.948542\n",
      "Epoch: 3 Accuracy: 0.951180\n",
      "Epoch: 4 Accuracy: 0.953505\n",
      "Epoch: 5 Accuracy: 0.954438\n",
      "Epoch: 6 Accuracy: 0.955883\n",
      "Epoch: 7 Accuracy: 0.956796\n",
      "Epoch: 8 Accuracy: 0.957754\n",
      "Epoch: 9 Accuracy: 0.958079\n",
      "Epoch: 10 Accuracy: 0.959030\n",
      "Epoch: 11 Accuracy: 0.959852\n",
      "Epoch: 12 Accuracy: 0.959726\n",
      "Epoch: 13 Accuracy: 0.960705\n",
      "Epoch: 14 Accuracy: 0.961026\n",
      "CPU times: user 1h 40s, sys: 12.1 s, total: 1h 52s\n",
      "Wall time: 1h 53s\n"
     ]
    }
   ],
   "source": [
    "%%time\n",
    "sp_ext_c.fit(feature_mapper_ext.dataset, num_epochs)"
   ]
  },
  {
   "attachments": {},
   "cell_type": "markdown",
   "metadata": {
    "collapsed": false
   },
   "source": [
    "### Save"
   ]
  },
  {
   "cell_type": "code",
   "execution_count": 26,
   "metadata": {
    "collapsed": false
   },
   "outputs": [],
   "source": [
    "sp_ext.save_model(\"fitted_models/02_SP_Extended_Features\")\n",
    "sp_ext_c.save_model(\"fitted_models/02C_SP_Extended_Features\")"
   ]
  },
  {
   "attachments": {},
   "cell_type": "markdown",
   "metadata": {
    "collapsed": false
   },
   "source": [
    "<div class=\"alert\" style=\"padding: 20px;background-color: #2cbc84; color: white; margin-bottom: 15px;\">\n",
    "<h3>DL Approach. Bi-LSTM</h3>\n",
    "</div>"
   ]
  },
  {
   "attachments": {},
   "cell_type": "markdown",
   "metadata": {
    "collapsed": false
   },
   "source": [
    "### Download data"
   ]
  },
  {
   "cell_type": "code",
   "execution_count": 3,
   "metadata": {
    "collapsed": false
   },
   "outputs": [],
   "source": [
    "train = pd.read_csv(\"data/train_data_ner.csv\")\n",
    "test = pd.read_csv(\"data/test_data_ner.csv\")"
   ]
  },
  {
   "attachments": {},
   "cell_type": "markdown",
   "metadata": {
    "collapsed": false
   },
   "source": [
    "### Preprocess data"
   ]
  },
  {
   "cell_type": "code",
   "execution_count": 4,
   "metadata": {
    "collapsed": false
   },
   "outputs": [],
   "source": [
    "sentences_train, tags_train, num_words, num_tags, word2idx, tag2idx = preprocess_BiLSTM_train_data(train)"
   ]
  },
  {
   "cell_type": "code",
   "execution_count": 5,
   "metadata": {
    "collapsed": false
   },
   "outputs": [],
   "source": [
    "sentences_test, tags_test = preprocess_BiLSTM_test_data(test, word2idx, tag2idx,num_words)"
   ]
  },
  {
   "attachments": {},
   "cell_type": "markdown",
   "metadata": {
    "collapsed": false
   },
   "source": [
    "### Create and Train model"
   ]
  },
  {
   "cell_type": "code",
   "execution_count": 6,
   "metadata": {
    "collapsed": false
   },
   "outputs": [
    {
     "data": {
      "image/png": "[encoded data removed]",
      "text/plain": [
       "<Figure size 1200x800 with 2 Axes>"
      ]
     },
     "metadata": {},
     "output_type": "display_data"
    },
    {
     "name": "stdout",
     "output_type": "stream",
     "text": [
      "accuracy\n",
      "\ttraining         \t (min:    0.973, max:    0.993, cur:    0.993)\n",
      "\tvalidation       \t (min:    0.975, max:    0.977, cur:    0.977)\n",
      "Loss\n",
      "\ttraining         \t (min:    0.029, max:    0.210, cur:    0.029)\n",
      "\tvalidation       \t (min:    0.275, max:    0.298, cur:    0.298)\n",
      "\n",
      "Epoch 4: val_loss did not improve from 0.27495\n",
      "1199/1199 [==============================] - 224s 187ms/step - loss: 0.0295 - accuracy: 0.9931 - val_loss: 0.2978 - val_accuracy: 0.9769\n"
     ]
    },
    {
     "data": {
      "text/plain": [
       "Launching TensorBoard..."
      ]
     },
     "metadata": {},
     "output_type": "display_data"
    }
   ],
   "source": [
    "logdir = \"log/\"\n",
    "tensorboard_callback = tf.keras.callbacks.TensorBoard(log_dir=logdir)\n",
    "\n",
    "# ModelCheckpoint callback to save the best model weights\n",
    "chkpt = ModelCheckpoint(\"model_weights.h5\", monitor='val_loss', verbose=1, save_best_only=True, save_weights_only=True, mode='min')\n",
    "\n",
    "# EarlyStopping callback to stop training early if validation accuracy doesn't improve\n",
    "early_stopping = EarlyStopping(monitor='val_accuracy', min_delta=0, patience=1, verbose=0, mode='max', baseline=None, restore_best_weights=False)\n",
    "\n",
    "# Define a list of callbacks to be used during training\n",
    "callbacks = [PlotLossesCallback(), chkpt, early_stopping, tensorboard_callback]\n",
    "\n",
    "# Create the BiLSTM model\n",
    "model = create_BiLSTM_model(num_words)\n",
    "\n",
    "# Train the model\n",
    "history = model.fit(\n",
    "    x=sentences_train,\n",
    "    y=tags_train,\n",
    "    validation_data=(sentences_test, tags_test),\n",
    "    batch_size=32,\n",
    "    epochs=10,\n",
    "    callbacks=callbacks,\n",
    "    verbose=1\n",
    ")\n",
    "\n",
    "# Load the TensorBoard extension\n",
    "%load_ext tensorboard\n",
    "\n",
    "# Launch TensorBoard to visualize the logs\n",
    "%tensorboard --logdir log"
   ]
  },
  {
   "attachments": {},
   "cell_type": "markdown",
   "metadata": {
    "collapsed": false
   },
   "source": [
    "### Save model"
   ]
  },
  {
   "cell_type": "code",
   "execution_count": 7,
   "metadata": {
    "collapsed": false
   },
   "outputs": [],
   "source": [
    "model.save(\"fitted_models/03_BiLSTM.h5\")"
   ]
  },
  {
   "cell_type": "code",
   "execution_count": null,
   "metadata": {
    "collapsed": false
   },
   "outputs": [],
   "source": []
  }
 ],
 "metadata": {
  "kernelspec": {
   "display_name": "Python 3",
   "language": "python",
   "name": "python3"
  },
  "language_info": {
   "codemirror_mode": {
    "name": "ipython",
    "version": 3
   },
   "file_extension": ".py",
   "mimetype": "text/x-python",
   "name": "python",
   "nbconvert_exporter": "python",
   "pygments_lexer": "ipython3",
   "version": "3.9.12"
  }
 },
 "nbformat": 4,
 "nbformat_minor": 0
}
