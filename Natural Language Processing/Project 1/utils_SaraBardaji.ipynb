{
 "cells": [
  {
   "cell_type": "markdown",
   "metadata": {},
   "source": [
    "# Utils - Sara Bardají\n",
    "\n",
    "This notebook contains the functions built by Sara Bardají."
   ]
  },
  {
   "cell_type": "markdown",
   "metadata": {},
   "source": [
    "## Feature: Number of characters\n",
    "**Example 1:**\n",
    "q = 'how'\n",
    "num_of_characters(q) = 3\n",
    "\n",
    "**Example 2:**\n",
    "q = 'how are you doing'\n",
    "num_of_characters(q) = 17"
   ]
  },
  {
   "cell_type": "code",
   "execution_count": 1,
   "metadata": {
    "ExecuteTime": {
     "end_time": "2023-04-26T16:49:59.501407Z",
     "start_time": "2023-04-26T16:49:59.499033Z"
    }
   },
   "outputs": [],
   "source": [
    "def num_of_characters(q):\n",
    "    \"\"\"\n",
    "    Computes the number of characters in a given string.\n",
    "\n",
    "    Parameters:\n",
    "        q (str): The input string.\n",
    "\n",
    "    Returns:\n",
    "        int: The number of characters in the input string.\n",
    "    \"\"\"\n",
    "    return len(q)\n"
   ]
  },
  {
   "cell_type": "code",
   "execution_count": 2,
   "metadata": {
    "ExecuteTime": {
     "end_time": "2023-04-26T16:49:59.508891Z",
     "start_time": "2023-04-26T16:49:59.504815Z"
    }
   },
   "outputs": [
    {
     "data": {
      "text/plain": [
       "3"
      ]
     },
     "execution_count": 2,
     "metadata": {},
     "output_type": "execute_result"
    }
   ],
   "source": [
    "q = 'how'\n",
    "num_of_characters(q)"
   ]
  },
  {
   "cell_type": "code",
   "execution_count": 3,
   "metadata": {
    "ExecuteTime": {
     "end_time": "2023-04-26T16:49:59.514073Z",
     "start_time": "2023-04-26T16:49:59.511701Z"
    }
   },
   "outputs": [
    {
     "data": {
      "text/plain": [
       "17"
      ]
     },
     "execution_count": 3,
     "metadata": {},
     "output_type": "execute_result"
    }
   ],
   "source": [
    "q = 'how are you doing'\n",
    "num_of_characters(q)"
   ]
  },
  {
   "cell_type": "markdown",
   "metadata": {},
   "source": [
    "## Feature: Word count difference\n",
    "**Example 1:**\n",
    "q1 = 'how are you today'\n",
    "q2 = 'how are you doing today'\n",
    "difference_word_count(q1, q2) = 1\n",
    "\n",
    "**Example 2:**\n",
    "q1 = 'does my shoe fit'\n",
    "q2 = 'is my shoe on'\n",
    "difference_word_count(q1, q2) = 0"
   ]
  },
  {
   "cell_type": "code",
   "execution_count": 4,
   "metadata": {
    "ExecuteTime": {
     "end_time": "2023-04-26T16:49:59.517395Z",
     "start_time": "2023-04-26T16:49:59.515197Z"
    }
   },
   "outputs": [],
   "source": [
    "def difference_word_count(q1, q2):\n",
    "    \"\"\"\n",
    "    Computes the absolute difference in word count between two input strings.\n",
    "\n",
    "    Parameters:\n",
    "        q1 (str): The first input string.\n",
    "        q2 (str): The second input string.\n",
    "\n",
    "    Returns:\n",
    "        int: The absolute difference in word count between the input strings.\n",
    "    \"\"\"\n",
    "\n",
    "    len_q1 = len(q1.split())\n",
    "    len_q2 = len(q2.split())\n",
    "    return abs(len_q1 - len_q2)\n"
   ]
  },
  {
   "cell_type": "code",
   "execution_count": 5,
   "metadata": {
    "ExecuteTime": {
     "end_time": "2023-04-26T16:49:59.521176Z",
     "start_time": "2023-04-26T16:49:59.518561Z"
    }
   },
   "outputs": [
    {
     "data": {
      "text/plain": [
       "1"
      ]
     },
     "execution_count": 5,
     "metadata": {},
     "output_type": "execute_result"
    }
   ],
   "source": [
    "q1 = 'how are you today'\n",
    "q2 = 'how are you doing today'\n",
    "difference_word_count(q1, q2)"
   ]
  },
  {
   "cell_type": "code",
   "execution_count": 6,
   "metadata": {
    "ExecuteTime": {
     "end_time": "2023-04-26T16:49:59.524693Z",
     "start_time": "2023-04-26T16:49:59.522306Z"
    }
   },
   "outputs": [
    {
     "data": {
      "text/plain": [
       "0"
      ]
     },
     "execution_count": 6,
     "metadata": {},
     "output_type": "execute_result"
    }
   ],
   "source": [
    "q1 = 'does my shoe fit'\n",
    "q2 = 'is my shoe on'\n",
    "difference_word_count(q1, q2)"
   ]
  },
  {
   "cell_type": "markdown",
   "metadata": {},
   "source": [
    "## Feature: Total Unique Word Count and Total Unique Word Count to Total Words Ratio\n",
    "**Example 1:**\n",
    "q1 = 'how are you today'\n",
    "q2 = 'how are you doing today'\n",
    "num_of_unique_words(q1, q2) = 5\n",
    "num_of_unique_words_ration(q1, q2) = 0.556\n",
    "\n",
    "**Example 2:**\n",
    "q1 = 'does my shoe fit'\n",
    "q2 = 'is my shoe on'\n",
    "num_of_unique_words(q1, q2) = 6\n",
    "num_of_unique_words_ration(q1, q2) = 0.750"
   ]
  },
  {
   "cell_type": "code",
   "execution_count": 7,
   "metadata": {
    "ExecuteTime": {
     "end_time": "2023-04-26T16:49:59.530297Z",
     "start_time": "2023-04-26T16:49:59.525792Z"
    }
   },
   "outputs": [],
   "source": [
    "def num_of_unique_words(q1, q2):\n",
    "    \"\"\"\n",
    "    Computes the number of unique words in the combined input strings.\n",
    "\n",
    "    Parameters:\n",
    "        q1 (str): The first input string.\n",
    "        q2 (str): The second input string.\n",
    "\n",
    "    Returns:\n",
    "        int: The number of unique words in the combined input strings.\n",
    "    \"\"\"\n",
    "    q1q2 = q1 + \" \" + q2\n",
    "    words = q1q2.split()\n",
    "    num_unique_words = len(set(words))\n",
    "    return num_unique_words\n",
    "\n",
    "\n",
    "def num_of_words(q1, q2):\n",
    "    \"\"\"\n",
    "    Computes the total number of words in the combined input strings.\n",
    "\n",
    "    Parameters:\n",
    "        q1 (str): The first input string.\n",
    "        q2 (str): The second input string.\n",
    "\n",
    "    Returns:\n",
    "        int: The total number of words in the combined input strings.\n",
    "    \"\"\"\n",
    "    q1q2 = q1 + \" \" + q2\n",
    "    words = q1q2.split()\n",
    "    num_words = len(words)\n",
    "    return num_words\n",
    "\n",
    "\n",
    "def total_unique_words_ratio(q1, q2):\n",
    "    \"\"\"\n",
    "    Computes the ratio of unique words to the total number of words in the combined input strings.\n",
    "\n",
    "    Parameters:\n",
    "        q1 (str): The first input string.\n",
    "        q2 (str): The second input string.\n",
    "\n",
    "    Returns:\n",
    "        float: The ratio of unique words to the total number of words in the combined input strings.\n",
    "    \"\"\"\n",
    "\n",
    "    num_unique_words = num_of_unique_words(q1, q2)\n",
    "    num_words = num_of_words(q1, q2)\n",
    "    return num_unique_words / num_words"
   ]
  },
  {
   "cell_type": "code",
   "execution_count": 8,
   "metadata": {
    "ExecuteTime": {
     "end_time": "2023-04-26T16:49:59.534566Z",
     "start_time": "2023-04-26T16:49:59.531503Z"
    }
   },
   "outputs": [
    {
     "name": "stdout",
     "output_type": "stream",
     "text": [
      "Number of unique words: 5\n",
      "Number of words: 9\n",
      "Number of unique words ratio: 0.556\n"
     ]
    }
   ],
   "source": [
    "q1 = 'how are you today'\n",
    "q2 = 'how are you doing today'\n",
    "\n",
    "print(f'Number of unique words: {num_of_unique_words(q1, q2)}')\n",
    "print(f'Number of words: {num_of_words(q1, q2)}')\n",
    "print(f'Number of unique words ratio: {total_unique_words_ratio(q1, q2):.3f}')"
   ]
  },
  {
   "cell_type": "code",
   "execution_count": 9,
   "metadata": {
    "ExecuteTime": {
     "end_time": "2023-04-26T16:49:59.539638Z",
     "start_time": "2023-04-26T16:49:59.537503Z"
    }
   },
   "outputs": [
    {
     "name": "stdout",
     "output_type": "stream",
     "text": [
      "Number of unique words: 6\n",
      "Number of words: 8\n",
      "Number of unique words ratio: 0.750\n"
     ]
    }
   ],
   "source": [
    "q1 = 'does my shoe fit'\n",
    "q2 = 'is my shoe on'\n",
    "\n",
    "print(f'Number of unique words: {num_of_unique_words(q1, q2)}')\n",
    "print(f'Number of words: {num_of_words(q1, q2)}')\n",
    "print(f'Number of unique words ratio: {total_unique_words_ratio(q1, q2):.3f}')"
   ]
  },
  {
   "cell_type": "markdown",
   "metadata": {},
   "source": [
    "## Functionality: Spelling Correction"
   ]
  },
  {
   "cell_type": "code",
   "execution_count": 10,
   "metadata": {
    "ExecuteTime": {
     "end_time": "2023-04-26T16:49:59.546611Z",
     "start_time": "2023-04-26T16:49:59.540778Z"
    }
   },
   "outputs": [],
   "source": [
    "class BKTree:\n",
    "    def __init__(self, distfn, words):\n",
    "        self.distfn = distfn\n",
    "\n",
    "        it = iter(words)\n",
    "        root = next(it)\n",
    "        self.tree = (root, {})\n",
    "\n",
    "        for i in it:\n",
    "            self._add_word(self.tree, i)\n",
    "\n",
    "    def _add_word(self, parent, word):\n",
    "        pword, children = parent\n",
    "        d = self.distfn(word, pword)\n",
    "        if d in children:\n",
    "            self._add_word(children[d], word)\n",
    "        else:\n",
    "            children[d] = (word, {})\n",
    "\n",
    "    def _search_descendants(self, parent, max_distance, distance, query_word):\n",
    "        node_word, children_dict = parent\n",
    "        dist_to_node = distance(query_word, node_word)\n",
    "        self.visited_nodes.append(node_word)\n",
    "        results = []\n",
    "\n",
    "        if dist_to_node <= max_distance:\n",
    "            results.append((dist_to_node, node_word))\n",
    "\n",
    "        I = range(max(0, dist_to_node - max_distance), dist_to_node + max_distance + 1)\n",
    "        for dist in I:\n",
    "            if dist in children_dict:\n",
    "                child = children_dict[dist]\n",
    "                if child[0] not in self.visited_nodes:\n",
    "                    results.extend(self._search_descendants(child, max_distance, distance, query_word))\n",
    "        return results\n",
    "\n",
    "    def query(self, query_word, max_distance):\n",
    "        self.visited_nodes = []\n",
    "        results = self._search_descendants(self.tree, max_distance, self.distfn, query_word)\n",
    "        sorted_results = sorted(results)\n",
    "        return sorted_results"
   ]
  },
  {
   "cell_type": "code",
   "execution_count": 11,
   "metadata": {
    "ExecuteTime": {
     "end_time": "2023-04-26T16:49:59.573536Z",
     "start_time": "2023-04-26T16:49:59.548005Z"
    }
   },
   "outputs": [],
   "source": [
    "import editdistance\n",
    "\n",
    "def spellchecker(q, V):\n",
    "    \"\"\"\n",
    "    Performs spell correction on the input string using a given vocabulary and a BKTree.\n",
    "\n",
    "    Parameters:\n",
    "        q (str): The input string to be corrected.\n",
    "        V (set): A set containing the vocabulary of known words.\n",
    "\n",
    "    Returns:\n",
    "        str: The corrected input string.\n",
    "    \"\"\"\n",
    "    bk_tree = BKTree(editdistance.eval, V)\n",
    "    correction = []\n",
    "    for word in q.split():\n",
    "        if word in V:\n",
    "            correction.append(word)\n",
    "        else:\n",
    "            candidates = bk_tree.query(word, 2)\n",
    "            if len(candidates)>0:\n",
    "                correction.append(candidates[0][1])\n",
    "            else:\n",
    "                correction.append(word)\n",
    "    return ' '.join(correction)"
   ]
  },
  {
   "cell_type": "code",
   "execution_count": 12,
   "metadata": {
    "ExecuteTime": {
     "end_time": "2023-04-26T16:49:59.578639Z",
     "start_time": "2023-04-26T16:49:59.574566Z"
    }
   },
   "outputs": [
    {
     "data": {
      "text/plain": [
       "'serendipity equanimity furtive melancholy pernicious joke'"
      ]
     },
     "execution_count": 12,
     "metadata": {},
     "output_type": "execute_result"
    }
   ],
   "source": [
    "V = ['serendipity', 'cacophony', 'onomatopoeia', 'persnickety', 'mellifluous', 'ineffable', 'ephemeral', 'synchronicity', 'languid', 'ubiquitous', 'panacea', 'hapless', 'euphoria', 'inscrutable', 'inevitable', 'capricious', 'antithesis', 'discombobulated', 'superfluous', 'equanimity', 'furtive', 'magnanimous', 'ambivalent', 'laconic', 'gregarious', 'loquacious', 'opaque', 'resilient', 'vexatious', 'enigmatic', 'esoteric', 'gratuitous', 'melancholy', 'obfuscate', 'pernicious', 'querulous', 'recondite', 'scrupulous', 'torpid', 'voracious', 'joke', 'jose']\n",
    "q = 'serendipty equanimity furtve melancholy pernicius jole'\n",
    "\n",
    "spellchecker(q, V)"
   ]
  },
  {
   "cell_type": "code",
   "execution_count": null,
   "metadata": {},
   "outputs": [],
   "source": []
  }
 ],
 "metadata": {
  "kernelspec": {
   "display_name": "Python 3 (ipykernel)",
   "language": "python",
   "name": "python3"
  },
  "language_info": {
   "codemirror_mode": {
    "name": "ipython",
    "version": 3
   },
   "file_extension": ".py",
   "mimetype": "text/x-python",
   "name": "python",
   "nbconvert_exporter": "python",
   "pygments_lexer": "ipython3",
   "version": "3.9.12"
  },
  "varInspector": {
   "cols": {
    "lenName": 16,
    "lenType": 16,
    "lenVar": 40
   },
   "kernels_config": {
    "python": {
     "delete_cmd_postfix": "",
     "delete_cmd_prefix": "del ",
     "library": "var_list.py",
     "varRefreshCmd": "print(var_dic_list())"
    },
    "r": {
     "delete_cmd_postfix": ") ",
     "delete_cmd_prefix": "rm(",
     "library": "var_list.r",
     "varRefreshCmd": "cat(var_dic_list()) "
    }
   },
   "types_to_exclude": [
    "module",
    "function",
    "builtin_function_or_method",
    "instance",
    "_Feature"
   ],
   "window_display": false
  }
 },
 "nbformat": 4,
 "nbformat_minor": 1
}
